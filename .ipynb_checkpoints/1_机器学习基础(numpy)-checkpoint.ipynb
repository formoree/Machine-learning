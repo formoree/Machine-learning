{
 "cells": [
  {
   "cell_type": "markdown",
   "id": "49c6c146",
   "metadata": {},
   "source": [
    "# Numpy的简单应用"
   ]
  },
  {
   "cell_type": "code",
   "execution_count": 19,
   "id": "bc7336c7",
   "metadata": {},
   "outputs": [],
   "source": [
    "from numpy import random,mat,eye\n",
    "import numpy as np"
   ]
  },
  {
   "cell_type": "markdown",
   "id": "c8744b7f",
   "metadata": {},
   "source": [
    "Numpy中的两种不同的数据类型  \n",
    "- 矩阵 matric   \n",
    "- 数组 array   "
   ]
  },
  {
   "cell_type": "code",
   "execution_count": 35,
   "id": "75d2a510",
   "metadata": {},
   "outputs": [
    {
     "data": {
      "text/plain": [
       "array([[0.32547871, 0.23631375, 0.66011748, 0.37803893],\n",
       "       [0.12772915, 0.55577557, 0.12803569, 0.00772884],\n",
       "       [0.98101641, 0.86867163, 0.73979023, 0.70306193],\n",
       "       [0.06041828, 0.25276428, 0.89513204, 0.725995  ]])"
      ]
     },
     "execution_count": 35,
     "metadata": {},
     "output_type": "execute_result"
    }
   ],
   "source": [
    "#生成一个4*4的随机数组\n",
    "randArray = random.rand(4,4)\n",
    "randArray"
   ]
  },
  {
   "cell_type": "code",
   "execution_count": 36,
   "id": "b6a3d529",
   "metadata": {},
   "outputs": [
    {
     "data": {
      "text/plain": [
       "matrix([[0.32547871, 0.23631375, 0.66011748, 0.37803893],\n",
       "        [0.12772915, 0.55577557, 0.12803569, 0.00772884],\n",
       "        [0.98101641, 0.86867163, 0.73979023, 0.70306193],\n",
       "        [0.06041828, 0.25276428, 0.89513204, 0.725995  ]])"
      ]
     },
     "execution_count": 36,
     "metadata": {},
     "output_type": "execute_result"
    }
   ],
   "source": [
    "#转换关系 数组转换为矩阵\n",
    "randMat = mat(randArray)\n",
    "randMat"
   ]
  },
  {
   "cell_type": "code",
   "execution_count": 39,
   "id": "c4834e84",
   "metadata": {},
   "outputs": [
    {
     "data": {
      "text/plain": [
       "matrix([[0.32547871, 0.12772915, 0.98101641, 0.06041828],\n",
       "        [0.23631375, 0.55577557, 0.86867163, 0.25276428],\n",
       "        [0.66011748, 0.12803569, 0.73979023, 0.89513204],\n",
       "        [0.37803893, 0.00772884, 0.70306193, 0.725995  ]])"
      ]
     },
     "execution_count": 39,
     "metadata": {},
     "output_type": "execute_result"
    }
   ],
   "source": [
    "#矩阵的转置\n",
    "randMat.T"
   ]
  },
  {
   "cell_type": "code",
   "execution_count": 40,
   "id": "2b655217",
   "metadata": {},
   "outputs": [
    {
     "data": {
      "text/plain": [
       "matrix([[ 1.27770206, -1.19024204,  0.84074828, -1.4668421 ],\n",
       "        [-1.1116497 ,  1.91665344,  0.09025961,  0.47104355],\n",
       "        [ 3.8180135 ,  0.76950698, -1.3228712 , -0.7152181 ],\n",
       "        [-4.4268038 , -1.51703456,  1.5296709 ,  2.21733719]])"
      ]
     },
     "execution_count": 40,
     "metadata": {},
     "output_type": "execute_result"
    }
   ],
   "source": [
    "#求逆矩阵\n",
    "randMat.I"
   ]
  },
  {
   "cell_type": "code",
   "execution_count": 41,
   "id": "b010c6a3",
   "metadata": {},
   "outputs": [
    {
     "data": {
      "text/plain": [
       "array([[0.32547871, 0.23631375, 0.66011748, 0.37803893],\n",
       "       [0.12772915, 0.55577557, 0.12803569, 0.00772884],\n",
       "       [0.98101641, 0.86867163, 0.73979023, 0.70306193],\n",
       "       [0.06041828, 0.25276428, 0.89513204, 0.725995  ]])"
      ]
     },
     "execution_count": 41,
     "metadata": {},
     "output_type": "execute_result"
    }
   ],
   "source": [
    "#将矩阵转化为数组\n",
    "randMat.A"
   ]
  },
  {
   "cell_type": "code",
   "execution_count": 43,
   "id": "6eab397f",
   "metadata": {},
   "outputs": [
    {
     "data": {
      "text/plain": [
       "matrix([[ 1.00000000e+00,  1.08425707e-16, -4.33792953e-17,\n",
       "         -1.92726156e-17],\n",
       "        [ 4.98228165e-17,  1.00000000e+00,  1.42093570e-17,\n",
       "         -7.60006582e-18],\n",
       "        [ 2.13712940e-16, -7.84862510e-17,  1.00000000e+00,\n",
       "          2.41968361e-17],\n",
       "        [-5.69283310e-16, -1.37137023e-16,  2.02679104e-16,\n",
       "          1.00000000e+00]])"
      ]
     },
     "execution_count": 43,
     "metadata": {},
     "output_type": "execute_result"
    }
   ],
   "source": [
    "#矩阵乘法\n",
    "np.dot(randMat,randMat.I)"
   ]
  },
  {
   "cell_type": "markdown",
   "id": "261885b9",
   "metadata": {},
   "source": [
    "# 机器学习基础知识"
   ]
  },
  {
   "cell_type": "markdown",
   "id": "0b267611",
   "metadata": {
    "ExecuteTime": {
     "end_time": "2021-07-17T04:33:07.103185Z",
     "start_time": "2021-07-17T04:33:07.083237Z"
    }
   },
   "source": [
    "## 机器学习的分类"
   ]
  },
  {
   "cell_type": "markdown",
   "id": "376b8c13",
   "metadata": {
    "ExecuteTime": {
     "end_time": "2021-07-17T04:00:10.884033Z",
     "start_time": "2021-07-17T04:00:10.799869Z"
    }
   },
   "source": [
    "* 是否在人类监督下进行训练\n",
    "    * 监督学习\n",
    "        * 所有训练数据都标上标签\n",
    "    * 无监督式学习\n",
    "        * 训练数据未经过标签\n",
    "    * 半监督式学习\n",
    "        * 标记少量数据\n",
    "    * 强化学习\n",
    "* 是否可以动态地进行增量学习\n",
    "    + 在线学习\n",
    "        + 循序渐进为系统提供数据，逐步积累学习成果\n",
    "        + 学习过程通常是离线完成的(因此我们很容易造成误会 也可称其为增量学习)\n",
    "        + 学习率低---学习会有惰性 学习缓慢  学习率高---迅速适应新数据 快速忘记旧数据\n",
    "    + 批量学习\n",
    "        + 无法进行增量学习--必须使用所有可用数据进行训练\n",
    "* 根据数据匹配方式分类\n",
    "    + 基于实例的学习\n",
    "        + 系统先完全记住学习示例，然后通过某种相似度度量方式泛化到新的实例\n",
    "    + 基于模型的学习\n",
    "        + 构建示例的模型，然后从改模型进行预测\n",
    "    \n",
    " "
   ]
  },
  {
   "cell_type": "markdown",
   "id": "c1cf724b",
   "metadata": {
    "ExecuteTime": {
     "end_time": "2021-07-17T04:33:30.269009Z",
     "start_time": "2021-07-17T04:33:30.260029Z"
    }
   },
   "source": [
    "## 机器学习面临的挑战"
   ]
  },
  {
   "cell_type": "markdown",
   "id": "24dc88f0",
   "metadata": {},
   "source": [
    "* 训练数据不足\n",
    "* 训练数据不具有代表性\n",
    "* 无关特征过多\n",
    "* 训练数据过度拟合"
   ]
  }
 ],
 "metadata": {
  "kernelspec": {
   "display_name": "Python 3",
   "language": "python",
   "name": "python3"
  },
  "language_info": {
   "codemirror_mode": {
    "name": "ipython",
    "version": 3
   },
   "file_extension": ".py",
   "mimetype": "text/x-python",
   "name": "python",
   "nbconvert_exporter": "python",
   "pygments_lexer": "ipython3",
   "version": "3.7.10"
  },
  "toc": {
   "base_numbering": 1,
   "nav_menu": {},
   "number_sections": true,
   "sideBar": true,
   "skip_h1_title": false,
   "title_cell": "Table of Contents",
   "title_sidebar": "Contents",
   "toc_cell": false,
   "toc_position": {},
   "toc_section_display": true,
   "toc_window_display": true
  },
  "varInspector": {
   "cols": {
    "lenName": 16,
    "lenType": 16,
    "lenVar": 40
   },
   "kernels_config": {
    "python": {
     "delete_cmd_postfix": "",
     "delete_cmd_prefix": "del ",
     "library": "var_list.py",
     "varRefreshCmd": "print(var_dic_list())"
    },
    "r": {
     "delete_cmd_postfix": ") ",
     "delete_cmd_prefix": "rm(",
     "library": "var_list.r",
     "varRefreshCmd": "cat(var_dic_list()) "
    }
   },
   "types_to_exclude": [
    "module",
    "function",
    "builtin_function_or_method",
    "instance",
    "_Feature"
   ],
   "window_display": false
  }
 },
 "nbformat": 4,
 "nbformat_minor": 5
}
