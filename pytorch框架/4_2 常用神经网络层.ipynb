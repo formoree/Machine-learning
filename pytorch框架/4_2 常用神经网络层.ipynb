{
 "cells": [
  {
   "cell_type": "markdown",
   "id": "8e2c6c9e",
   "metadata": {},
   "source": [
    "[常用神经网络层](https://www.cnblogs.com/nickchen121/p/14693051.html#%E4%BA%94%E3%80%81%E6%BF%80%E6%B4%BB%E5%87%BD%E6%95%B0%E5%B1%82)"
   ]
  }
 ],
 "metadata": {
  "kernelspec": {
   "display_name": "Python [conda env:python38]",
   "language": "python",
   "name": "conda-env-python38-py"
  },
  "language_info": {
   "codemirror_mode": {
    "name": "ipython",
    "version": 3
   },
   "file_extension": ".py",
   "mimetype": "text/x-python",
   "name": "python",
   "nbconvert_exporter": "python",
   "pygments_lexer": "ipython3",
   "version": "3.8.8"
  },
  "toc": {
   "base_numbering": 1,
   "nav_menu": {},
   "number_sections": true,
   "sideBar": true,
   "skip_h1_title": false,
   "title_cell": "Table of Contents",
   "title_sidebar": "Contents",
   "toc_cell": false,
   "toc_position": {},
   "toc_section_display": true,
   "toc_window_display": false
  }
 },
 "nbformat": 4,
 "nbformat_minor": 5
}
