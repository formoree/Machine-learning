{
 "cells": [
  {
   "cell_type": "markdown",
   "id": "f856b9ab",
   "metadata": {
    "heading_collapsed": true
   },
   "source": [
    "# 简介\n",
    "\n",
    "+ 运算速度快：numpy 和 pandas 都是采用 C 语言编写, pandas 又是基于 numpy, 是 numpy 的升级版本。\n",
    "+ 消耗资源少：采用的是矩阵运算，会比 python 自带的字典或者列表快好多"
   ]
  },
  {
   "cell_type": "markdown",
   "id": "0f4e7ab6",
   "metadata": {
    "heading_collapsed": true
   },
   "source": [
    "# Numpy "
   ]
  },
  {
   "cell_type": "code",
   "execution_count": 2,
   "id": "47804832",
   "metadata": {
    "hidden": true
   },
   "outputs": [
    {
     "name": "stdout",
     "output_type": "stream",
     "text": [
      "array的维度是 2\n",
      "array的形状是 (2, 3)\n",
      "array的元素个数是 6\n"
     ]
    }
   ],
   "source": [
    "# 衡量numpy的属性\n",
    "import numpy as np\n",
    "\n",
    "array = np.array(([1,2,3],[4,5,6]))\n",
    "print(\"array的维度是\",array.ndim)\n",
    "print(\"array的形状是\",array.shape)\n",
    "print(\"array的元素个数是\",array.size)"
   ]
  },
  {
   "cell_type": "markdown",
   "id": "2814087b",
   "metadata": {
    "heading_collapsed": true,
    "hidden": true
   },
   "source": [
    "## 初始化/创建\n",
    "+ array：创建数组(创建连续数组)\n",
    "+ dtype：指定数据类型\n",
    "+ zeros：创建数据全为0\n",
    "+ ones：创建数据全为1\n",
    "+ empty：创建数据**接近**0\n",
    "+ arange：按指定范围创建数据\n",
    "+ linspace：创建线段"
   ]
  },
  {
   "cell_type": "code",
   "execution_count": 4,
   "id": "fc756f09",
   "metadata": {
    "hidden": true
   },
   "outputs": [
    {
     "name": "stdout",
     "output_type": "stream",
     "text": [
      "int64\n"
     ]
    }
   ],
   "source": [
    "a = np.array([2,23,4],dtype=np.int64)\n",
    "print(a.dtype)\n",
    "# int 64"
   ]
  },
  {
   "cell_type": "code",
   "execution_count": 5,
   "id": "899072d1",
   "metadata": {
    "hidden": true
   },
   "outputs": [
    {
     "data": {
      "text/plain": [
       "array([[9.02385556e-312, 2.81617418e-322, 0.00000000e+000,\n",
       "        0.00000000e+000],\n",
       "       [8.45593933e-307, 1.61590357e+184, 4.76163332e-090,\n",
       "        7.11286195e-038],\n",
       "       [3.55144099e-062, 1.77461506e+160, 6.48224659e+170,\n",
       "        4.93432906e+257]])"
      ]
     },
     "execution_count": 5,
     "metadata": {},
     "output_type": "execute_result"
    }
   ],
   "source": [
    "#创建全空数组, 其实每个值都是接近于零的数:\n",
    "a = np.empty((3,4))\n",
    "a"
   ]
  },
  {
   "cell_type": "code",
   "execution_count": 6,
   "id": "bcf85a28",
   "metadata": {
    "hidden": true
   },
   "outputs": [
    {
     "data": {
      "text/plain": [
       "array([ 1.        ,  1.47368421,  1.94736842,  2.42105263,  2.89473684,\n",
       "        3.36842105,  3.84210526,  4.31578947,  4.78947368,  5.26315789,\n",
       "        5.73684211,  6.21052632,  6.68421053,  7.15789474,  7.63157895,\n",
       "        8.10526316,  8.57894737,  9.05263158,  9.52631579, 10.        ])"
      ]
     },
     "execution_count": 6,
     "metadata": {},
     "output_type": "execute_result"
    }
   ],
   "source": [
    "a = np.linspace(1,10,20)    # 开始端1，结束端10，且分割成20个数据，生成线段\n",
    "a"
   ]
  },
  {
   "cell_type": "code",
   "execution_count": 13,
   "id": "dfc4d514",
   "metadata": {
    "hidden": true
   },
   "outputs": [
    {
     "data": {
      "image/png": "[encoded data removed]",
      "text/plain": [
       "<Figure size 432x288 with 1 Axes>"
      ]
     },
     "metadata": {
      "needs_background": "light"
     },
     "output_type": "display_data"
    }
   ],
   "source": [
    "import matplotlib.pyplot as plt\n",
    "x = np.arange(0,20) #左开右闭\n",
    "y = np.linspace(0,10,20)\n",
    "\n",
    "plt.figure()\n",
    "plt.plot(x,y,color='red')\n",
    "plt.show()"
   ]
  },
  {
   "cell_type": "markdown",
   "id": "ba02d01d",
   "metadata": {
    "hidden": true
   },
   "source": [
    "## 运算\n",
    "+ 基础运算(对每个元素进行运算)\n",
    "    + 加减乘除\n",
    "    + 调用函数库 np.sin()\n",
    "    + 判断大小\n",
    "+ reshape() 改变矩阵shape\n",
    "+ np.dot()矩阵点乘//a.dot(b)\n",
    "+ 矩阵元素统计属性\n",
    "    + np.sum/np.min/np.max (参数axis控制搜索行列)\n",
    "    + argmax()/argmax()最大值最小值索引\n",
    "    + np.mean/np.average()\n",
    "    + cumsum()累加函数 diff()累差函数\n",
    "    + nonzero() 将所有非零元素的行与列坐标分割开，重构成两个分别关于行和列的矩阵\n",
    "    + clip() 将所有元素化在一个区间中"
   ]
  },
  {
   "cell_type": "code",
   "execution_count": 14,
   "id": "9a7a0476",
   "metadata": {
    "hidden": true
   },
   "outputs": [
    {
     "name": "stdout",
     "output_type": "stream",
     "text": [
      "[ True  True  True False]\n"
     ]
    }
   ],
   "source": [
    "import numpy as np\n",
    "a=np.array([10,20,30,40])   # array([10, 20, 30, 40])\n",
    "b=np.arange(4)              # array([0, 1, 2, 3])\n",
    "\n",
    "c=a-b  # array([10, 19, 28, 37])\n",
    "c=a+b   # array([10, 21, 32, 43])\n",
    "c=a*b   # array([0, 20, 60, 120])\n",
    "c=b**2  # array([0, 1, 4, 9])\n",
    "c=10*np.sin(a)  \n",
    "print(b<3)  \n",
    "# array([ True,  True,  True, False], dtype=bool)"
   ]
  },
  {
   "cell_type": "code",
   "execution_count": 15,
   "id": "d4876e2e",
   "metadata": {
    "hidden": true
   },
   "outputs": [
    {
     "name": "stdout",
     "output_type": "stream",
     "text": [
      "[ 2  5  9 14 20 27 35 44 54 65 77 90]\n"
     ]
    }
   ],
   "source": [
    "A = np.arange(2,14).reshape((3,4)) \n",
    "print(np.cumsum(A)) "
   ]
  },
  {
   "cell_type": "code",
   "execution_count": 16,
   "id": "e518e5e2",
   "metadata": {
    "hidden": true
   },
   "outputs": [
    {
     "name": "stdout",
     "output_type": "stream",
     "text": [
      "[[5 5 5 5]\n",
      " [6 7 8 9]\n",
      " [9 9 9 9]]\n"
     ]
    }
   ],
   "source": [
    "print(np.clip(A,5,9))    "
   ]
  },
  {
   "cell_type": "markdown",
   "id": "9e2ff0ea",
   "metadata": {
    "hidden": true
   },
   "source": [
    "## 索引 (切片)\n",
    "> flatten()展开性质的函数"
   ]
  },
  {
   "cell_type": "code",
   "execution_count": 19,
   "id": "7656ce70",
   "metadata": {
    "hidden": true
   },
   "outputs": [
    {
     "data": {
      "text/plain": [
       "array([0, 1, 2, 3, 4, 5, 6, 7, 8])"
      ]
     },
     "execution_count": 19,
     "metadata": {},
     "output_type": "execute_result"
    }
   ],
   "source": [
    "A = np.arange(0,9).reshape(3,3)\n",
    "# array([[0, 1, 2],\n",
    "#        [3, 4, 5],\n",
    "#        [6, 7, 8]])\n",
    "A.flatten()"
   ]
  },
  {
   "cell_type": "markdown",
   "id": "47fe2eff",
   "metadata": {
    "hidden": true
   },
   "source": [
    "## 合并\n",
    "+ np.vstack() 上下合并\n",
    "+ np.hstack() 左右合并\n",
    "+ np.concatenate() 多个矩阵"
   ]
  },
  {
   "cell_type": "code",
   "execution_count": 23,
   "id": "63d3fcce",
   "metadata": {
    "hidden": true
   },
   "outputs": [
    {
     "data": {
      "text/plain": [
       "array([[1, 1, 1, 2, 2, 2, 2, 2, 2, 1, 1, 1],\n",
       "       [1, 1, 1, 2, 2, 2, 2, 2, 2, 1, 1, 1]])"
      ]
     },
     "execution_count": 23,
     "metadata": {},
     "output_type": "execute_result"
    }
   ],
   "source": [
    "A = np.array([[1,1,1],[1,1,1]])\n",
    "B = np.array([[2,2,2],[2,2,2]])\n",
    "\n",
    "C = np.concatenate((A,B,B,A),axis=0)#上下\n",
    "# array([[1, 1, 1],\n",
    "#        [1, 1, 1],\n",
    "#        [2, 2, 2],\n",
    "#        [2, 2, 2],\n",
    "#        [2, 2, 2],\n",
    "#        [2, 2, 2],\n",
    "#        [1, 1, 1],\n",
    "#        [1, 1, 1]]\n",
    "D = np.concatenate((A,B,B,A),axis=1)#左右\n",
    "D"
   ]
  },
  {
   "cell_type": "markdown",
   "id": "d11ebd2e",
   "metadata": {
    "hidden": true
   },
   "source": [
    "## 分割\n",
    "+ np.split(array,num,axis=0/1) 0--纵向分割 1--横向分割 **等量分割**"
   ]
  },
  {
   "cell_type": "code",
   "execution_count": 24,
   "id": "75a5af8f",
   "metadata": {
    "hidden": true
   },
   "outputs": [
    {
     "name": "stdout",
     "output_type": "stream",
     "text": [
      "[[ 0  1  2  3]\n",
      " [ 4  5  6  7]\n",
      " [ 8  9 10 11]]\n"
     ]
    }
   ],
   "source": [
    "A = np.arange(12).reshape((3, 4))\n",
    "print(A)"
   ]
  },
  {
   "cell_type": "code",
   "execution_count": 25,
   "id": "0b774dbe",
   "metadata": {
    "hidden": true
   },
   "outputs": [
    {
     "data": {
      "text/plain": [
       "[array([[0, 1],\n",
       "        [4, 5],\n",
       "        [8, 9]]),\n",
       " array([[ 2,  3],\n",
       "        [ 6,  7],\n",
       "        [10, 11]])]"
      ]
     },
     "execution_count": 25,
     "metadata": {},
     "output_type": "execute_result"
    }
   ],
   "source": [
    "np.split(A, 2, axis=1)"
   ]
  },
  {
   "cell_type": "markdown",
   "id": "a4cde7ba",
   "metadata": {
    "hidden": true
   },
   "source": [
    "## Numpy copy & deep copy\n",
    "+ = 的赋值方式会带有关联性\n",
    "+ copy()的赋值方式没有关联性"
   ]
  },
  {
   "cell_type": "code",
   "execution_count": 26,
   "id": "43782324",
   "metadata": {
    "hidden": true
   },
   "outputs": [
    {
     "name": "stdout",
     "output_type": "stream",
     "text": [
      "[11  1  2  3]\n",
      "[11 22 33  3]\n",
      "[11 22 33  3]\n",
      "[11 22 33  3]\n"
     ]
    }
   ],
   "source": [
    "import numpy as np\n",
    "\n",
    "a = np.arange(4)\n",
    "# array([0, 1, 2, 3])\n",
    "\n",
    "b = a\n",
    "c = a\n",
    "d = b\n",
    "\n",
    "a[0] = 11\n",
    "# print(a)\n",
    "# array([11,  1,  2,  3])\n",
    "\n",
    "d[1:3] = [22, 33]   # array([11, 22, 33,  3])\n",
    "print(a)            # array([11, 22, 33,  3])\n",
    "print(b)            # array([11, 22, 33,  3])\n",
    "print(c)            # array([11, 22, 33,  3])"
   ]
  },
  {
   "cell_type": "code",
   "execution_count": 27,
   "id": "57e91b20",
   "metadata": {
    "hidden": true
   },
   "outputs": [
    {
     "name": "stdout",
     "output_type": "stream",
     "text": [
      "[11 22 33  3]\n",
      "[11 22 33 44]\n",
      "[11 22 33  3]\n"
     ]
    }
   ],
   "source": [
    "b = a.copy()    # deep copy\n",
    "print(b)        # array([11, 22, 33,  3])\n",
    "a[3] = 44\n",
    "print(a)        # array([11, 22, 33, 44])\n",
    "print(b)        # array([11, 22, 33,  3])"
   ]
  },
  {
   "cell_type": "markdown",
   "id": "f00e0936",
   "metadata": {},
   "source": [
    "# Pandas"
   ]
  },
  {
   "cell_type": "markdown",
   "id": "b3b6d638",
   "metadata": {
    "heading_collapsed": true
   },
   "source": [
    "## 基本介绍\n",
    "> 如果用 python 的列表和字典来作比较, 那么可以说 Numpy 是列表形式的，没有数值标签，而 Pandas 就是字典形式。Pandas是基于Numpy构建的，让Numpy为中心的应用变得更加简单\n",
    "\n",
    "+ dataframe基本操作\n",
    "    + 基本属性\n",
    "        + pd.DataFrame.dtypes 数据类型\n",
    "        + pd.DataFrame.index 列的序号\n",
    "        + pd.DataFrame.columns 行号\n",
    "        + pd.DataFrame.values 值--array型\n",
    "        + pd.DataFrame.describe() 数据总结\n",
    "    + 数据操作\n",
    "        + pd.DataFrame.T 转置\n",
    "        + pd.DataFrame.sort_index() 对index排序输出\n",
    "        + pd.DataFrame.sort_values() 对数据的值排序输出"
   ]
  },
  {
   "cell_type": "code",
   "execution_count": 28,
   "id": "238a5cb9",
   "metadata": {
    "hidden": true
   },
   "outputs": [
    {
     "name": "stdout",
     "output_type": "stream",
     "text": [
      "0     1.0\n",
      "1     3.0\n",
      "2     6.0\n",
      "3     NaN\n",
      "4    44.0\n",
      "5     1.0\n",
      "dtype: float64\n"
     ]
    },
    {
     "data": {
      "text/plain": [
       "'\\n0     1.0\\n1     3.0\\n2     6.0\\n3     NaN\\n4    44.0\\n5     1.0\\ndtype: float64\\n'"
      ]
     },
     "execution_count": 28,
     "metadata": {},
     "output_type": "execute_result"
    }
   ],
   "source": [
    "## Serious\n",
    "# Series的字符串表现形式为：索引在左边，值在右边。\n",
    "# 由于我们没有为数据指定索引。于是会自动创建一个0到N-1（N为长度）的整数型索引。\n",
    "import pandas as pd\n",
    "import numpy as np\n",
    "s = pd.Series([1,3,6,np.nan,44,1])\n",
    "\n",
    "print(s)"
   ]
  },
  {
   "cell_type": "code",
   "execution_count": 29,
   "id": "5d02a3ff",
   "metadata": {
    "hidden": true
   },
   "outputs": [
    {
     "name": "stdout",
     "output_type": "stream",
     "text": [
      "                   a         b         c         d\n",
      "2016-01-01  0.998791 -0.455416 -0.611665  1.444916\n",
      "2016-01-02  0.370824 -1.325098 -0.654169  0.245855\n",
      "2016-01-03 -1.244121 -0.012534  0.265923 -1.411231\n",
      "2016-01-04  0.561068 -0.503463  0.555158 -0.401942\n",
      "2016-01-05 -0.734433 -0.287569 -0.042957 -0.347748\n",
      "2016-01-06  1.524137  0.617270 -0.260376 -0.149486\n"
     ]
    }
   ],
   "source": [
    "# dataframe\n",
    "#DataFrame是一个表格型的数据结构，它包含有一组有序的列，\n",
    "# 每列可以是不同的值类型（数值，字符串，布尔值等）\n",
    "\n",
    "# DataFrame既有行索引也有列索引， 它可以被看做由Series组成的大字典。\n",
    "# 我们可以根据每一个不同的索引来挑选数据, 比如挑选 b 的元素:\n",
    "dates = pd.date_range('20160101',periods=6)\n",
    "df = pd.DataFrame(np.random.randn(6,4),index=dates,columns=['a','b','c','d'])\n",
    "\n",
    "print(df)"
   ]
  },
  {
   "cell_type": "markdown",
   "id": "65db1ed6",
   "metadata": {
    "heading_collapsed": true
   },
   "source": [
    "## 索引\n",
    "+ 朴素\n",
    "    + df['A']\n",
    "    + df[0:3]\n",
    "+ 根据标签 loc **选取行**\n",
    "    + df.loc['2013-01-01']\n",
    "    + df.loc[:,['A','B']]\n",
    "    + df.loc['20130102',['A','B']]\n",
    "+ 采用位置选择 iloc\n",
    "    + df.iloc[[1,3,5],1:3]\n",
    "+ 混合选择 ix\n",
    "    + df.ix[:3,['A','C']]\n",
    "+ 通过判断的筛选\n",
    "    + df[df.A>8]"
   ]
  },
  {
   "cell_type": "code",
   "execution_count": null,
   "id": "aaaee089",
   "metadata": {
    "hidden": true
   },
   "outputs": [],
   "source": [
    "dates = pd.date_range('20130101', periods=6)\n",
    "df = pd.DataFrame(np.arange(24).reshape((6,4)),index=dates, columns=['A','B','C','D'])\n",
    "\n",
    "\"\"\"\n",
    "             A   B   C   D\n",
    "2013-01-01   0   1   2   3\n",
    "2013-01-02   4   5   6   7\n",
    "2013-01-03   8   9  10  11\n",
    "2013-01-04  12  13  14  15\n",
    "2013-01-05  16  17  18  19\n",
    "2013-01-06  20  21  22  23\n",
    "\"\"\""
   ]
  },
  {
   "cell_type": "markdown",
   "id": "70881c49",
   "metadata": {
    "heading_collapsed": true
   },
   "source": [
    "## 处理丢失数据\n",
    "+ pd.dropna() 丢弃NaN的行或列\n",
    "+ pd.fillna(value=0) 其他值代替\n",
    "+ pd.isnull() 判断是否有缺失数据 NaN, 为 True 表示缺失数据"
   ]
  },
  {
   "cell_type": "code",
   "execution_count": 31,
   "id": "6b2ef01f",
   "metadata": {
    "hidden": true
   },
   "outputs": [
    {
     "data": {
      "text/html": [
       "<div>\n",
       "<style scoped>\n",
       "    .dataframe tbody tr th:only-of-type {\n",
       "        vertical-align: middle;\n",
       "    }\n",
       "\n",
       "    .dataframe tbody tr th {\n",
       "        vertical-align: top;\n",
       "    }\n",
       "\n",
       "    .dataframe thead th {\n",
       "        text-align: right;\n",
       "    }\n",
       "</style>\n",
       "<table border=\"1\" class=\"dataframe\">\n",
       "  <thead>\n",
       "    <tr style=\"text-align: right;\">\n",
       "      <th></th>\n",
       "      <th>A</th>\n",
       "      <th>B</th>\n",
       "      <th>C</th>\n",
       "      <th>D</th>\n",
       "    </tr>\n",
       "  </thead>\n",
       "  <tbody>\n",
       "    <tr>\n",
       "      <th>2013-01-01</th>\n",
       "      <td>0</td>\n",
       "      <td>NaN</td>\n",
       "      <td>2.0</td>\n",
       "      <td>3</td>\n",
       "    </tr>\n",
       "    <tr>\n",
       "      <th>2013-01-02</th>\n",
       "      <td>4</td>\n",
       "      <td>5.0</td>\n",
       "      <td>NaN</td>\n",
       "      <td>7</td>\n",
       "    </tr>\n",
       "    <tr>\n",
       "      <th>2013-01-03</th>\n",
       "      <td>8</td>\n",
       "      <td>9.0</td>\n",
       "      <td>10.0</td>\n",
       "      <td>11</td>\n",
       "    </tr>\n",
       "    <tr>\n",
       "      <th>2013-01-04</th>\n",
       "      <td>12</td>\n",
       "      <td>13.0</td>\n",
       "      <td>14.0</td>\n",
       "      <td>15</td>\n",
       "    </tr>\n",
       "    <tr>\n",
       "      <th>2013-01-05</th>\n",
       "      <td>16</td>\n",
       "      <td>17.0</td>\n",
       "      <td>18.0</td>\n",
       "      <td>19</td>\n",
       "    </tr>\n",
       "    <tr>\n",
       "      <th>2013-01-06</th>\n",
       "      <td>20</td>\n",
       "      <td>21.0</td>\n",
       "      <td>22.0</td>\n",
       "      <td>23</td>\n",
       "    </tr>\n",
       "  </tbody>\n",
       "</table>\n",
       "</div>"
      ],
      "text/plain": [
       "             A     B     C   D\n",
       "2013-01-01   0   NaN   2.0   3\n",
       "2013-01-02   4   5.0   NaN   7\n",
       "2013-01-03   8   9.0  10.0  11\n",
       "2013-01-04  12  13.0  14.0  15\n",
       "2013-01-05  16  17.0  18.0  19\n",
       "2013-01-06  20  21.0  22.0  23"
      ]
     },
     "execution_count": 31,
     "metadata": {},
     "output_type": "execute_result"
    }
   ],
   "source": [
    "dates = pd.date_range('20130101', periods=6)\n",
    "df = pd.DataFrame(np.arange(24).reshape((6,4)),index=dates, columns=['A','B','C','D'])\n",
    "df.iloc[0,1] = np.nan\n",
    "df.iloc[1,2] = np.nan\n",
    "df"
   ]
  },
  {
   "cell_type": "code",
   "execution_count": 32,
   "id": "83a5639a",
   "metadata": {
    "hidden": true
   },
   "outputs": [
    {
     "data": {
      "text/plain": [
       "True"
      ]
     },
     "execution_count": 32,
     "metadata": {},
     "output_type": "execute_result"
    }
   ],
   "source": [
    "np.any(df.isnull()) == True  "
   ]
  },
  {
   "cell_type": "markdown",
   "id": "f2905347",
   "metadata": {
    "heading_collapsed": true
   },
   "source": [
    "## 合并\n",
    "+ concat()\n",
    "    + axis 0--纵向 1--横向\n",
    "    + ignore_index (重置 index) \n",
    "    + join (合并方式) 默认为outer\n",
    "+ append() 只有纵向合并，没有横向合并\n",
    "+ merge() 合并具有同一列的数据\n",
    "    + 一组key合并\n",
    "    + 两组key合并 合并时有4种方法how = ['left', 'right', 'outer', 'inner'] 默认how='inner'\n",
    "    + Indicator 将合并的记录放在新的一列\n",
    "    + 依据index合并"
   ]
  },
  {
   "cell_type": "code",
   "execution_count": 33,
   "id": "0af4451a",
   "metadata": {
    "hidden": true
   },
   "outputs": [
    {
     "name": "stdout",
     "output_type": "stream",
     "text": [
      "     a    b    c    d    e\n",
      "1  0.0  0.0  0.0  0.0  NaN\n",
      "2  0.0  0.0  0.0  0.0  NaN\n",
      "3  0.0  0.0  0.0  0.0  NaN\n",
      "2  NaN  1.0  1.0  1.0  1.0\n",
      "3  NaN  1.0  1.0  1.0  1.0\n",
      "4  NaN  1.0  1.0  1.0  1.0\n"
     ]
    }
   ],
   "source": [
    "# outer\n",
    "#此方式是依照column来做纵向合并，有相同的column上下合并在一起，\n",
    "# 其他独自的column个自成列，原本没有值的位置皆以NaN填充。\n",
    "import pandas as pd\n",
    "import numpy as np\n",
    "\n",
    "#定义资料集\n",
    "df1 = pd.DataFrame(np.ones((3,4))*0, columns=['a','b','c','d'], index=[1,2,3])\n",
    "df2 = pd.DataFrame(np.ones((3,4))*1, columns=['b','c','d','e'], index=[2,3,4])\n",
    "\n",
    "#纵向\"外\"合并df1与df2\n",
    "res = pd.concat([df1, df2], axis=0, join='outer')\n",
    "\n",
    "print(res)"
   ]
  },
  {
   "cell_type": "code",
   "execution_count": 35,
   "id": "0486b3df",
   "metadata": {
    "hidden": true
   },
   "outputs": [
    {
     "data": {
      "text/html": [
       "<div>\n",
       "<style scoped>\n",
       "    .dataframe tbody tr th:only-of-type {\n",
       "        vertical-align: middle;\n",
       "    }\n",
       "\n",
       "    .dataframe tbody tr th {\n",
       "        vertical-align: top;\n",
       "    }\n",
       "\n",
       "    .dataframe thead th {\n",
       "        text-align: right;\n",
       "    }\n",
       "</style>\n",
       "<table border=\"1\" class=\"dataframe\">\n",
       "  <thead>\n",
       "    <tr style=\"text-align: right;\">\n",
       "      <th></th>\n",
       "      <th>b</th>\n",
       "      <th>c</th>\n",
       "      <th>d</th>\n",
       "    </tr>\n",
       "  </thead>\n",
       "  <tbody>\n",
       "    <tr>\n",
       "      <th>0</th>\n",
       "      <td>0.0</td>\n",
       "      <td>0.0</td>\n",
       "      <td>0.0</td>\n",
       "    </tr>\n",
       "    <tr>\n",
       "      <th>1</th>\n",
       "      <td>0.0</td>\n",
       "      <td>0.0</td>\n",
       "      <td>0.0</td>\n",
       "    </tr>\n",
       "    <tr>\n",
       "      <th>2</th>\n",
       "      <td>0.0</td>\n",
       "      <td>0.0</td>\n",
       "      <td>0.0</td>\n",
       "    </tr>\n",
       "    <tr>\n",
       "      <th>3</th>\n",
       "      <td>1.0</td>\n",
       "      <td>1.0</td>\n",
       "      <td>1.0</td>\n",
       "    </tr>\n",
       "    <tr>\n",
       "      <th>4</th>\n",
       "      <td>1.0</td>\n",
       "      <td>1.0</td>\n",
       "      <td>1.0</td>\n",
       "    </tr>\n",
       "    <tr>\n",
       "      <th>5</th>\n",
       "      <td>1.0</td>\n",
       "      <td>1.0</td>\n",
       "      <td>1.0</td>\n",
       "    </tr>\n",
       "  </tbody>\n",
       "</table>\n",
       "</div>"
      ],
      "text/plain": [
       "     b    c    d\n",
       "0  0.0  0.0  0.0\n",
       "1  0.0  0.0  0.0\n",
       "2  0.0  0.0  0.0\n",
       "3  1.0  1.0  1.0\n",
       "4  1.0  1.0  1.0\n",
       "5  1.0  1.0  1.0"
      ]
     },
     "execution_count": 35,
     "metadata": {},
     "output_type": "execute_result"
    }
   ],
   "source": [
    "## inner\n",
    "res = pd.concat([df1, df2], axis=0, join='inner', ignore_index=True)\n",
    "res"
   ]
  },
  {
   "cell_type": "code",
   "execution_count": 37,
   "id": "c67b8a8a",
   "metadata": {
    "hidden": true
   },
   "outputs": [
    {
     "name": "stdout",
     "output_type": "stream",
     "text": [
      "     a    b    c    d\n",
      "0  0.0  0.0  0.0  0.0\n",
      "1  0.0  0.0  0.0  0.0\n",
      "2  0.0  0.0  0.0  0.0\n",
      "3  1.0  1.0  1.0  1.0\n",
      "4  1.0  1.0  1.0  1.0\n",
      "5  1.0  1.0  1.0  1.0\n",
      "     a    b    c    d\n",
      "0  0.0  0.0  0.0  0.0\n",
      "1  0.0  0.0  0.0  0.0\n",
      "2  0.0  0.0  0.0  0.0\n",
      "3  1.0  1.0  1.0  1.0\n",
      "4  1.0  1.0  1.0  1.0\n",
      "5  1.0  1.0  1.0  1.0\n",
      "6  1.0  1.0  1.0  1.0\n",
      "7  1.0  1.0  1.0  1.0\n",
      "8  1.0  1.0  1.0  1.0\n",
      "     a    b    c    d\n",
      "0  0.0  0.0  0.0  0.0\n",
      "1  0.0  0.0  0.0  0.0\n",
      "2  0.0  0.0  0.0  0.0\n",
      "3  1.0  2.0  3.0  4.0\n"
     ]
    }
   ],
   "source": [
    "import pandas as pd\n",
    "import numpy as np\n",
    "\n",
    "#定义资料集\n",
    "df1 = pd.DataFrame(np.ones((3,4))*0, columns=['a','b','c','d'])\n",
    "df2 = pd.DataFrame(np.ones((3,4))*1, columns=['a','b','c','d'])\n",
    "df3 = pd.DataFrame(np.ones((3,4))*1, columns=['a','b','c','d'])\n",
    "s1 = pd.Series([1,2,3,4], index=['a','b','c','d'])\n",
    "\n",
    "#将df2合并到df1的下面，以及重置index，并打印出结果\n",
    "res = df1.append(df2, ignore_index=True)\n",
    "print(res)\n",
    "#     a    b    c    d\n",
    "# 0  0.0  0.0  0.0  0.0\n",
    "# 1  0.0  0.0  0.0  0.0\n",
    "# 2  0.0  0.0  0.0  0.0\n",
    "# 3  1.0  1.0  1.0  1.0\n",
    "# 4  1.0  1.0  1.0  1.0\n",
    "# 5  1.0  1.0  1.0  1.0\n",
    "\n",
    "#合并多个df，将df2与df3合并至df1的下面，以及重置index，并打印出结果\n",
    "res = df1.append([df2, df3], ignore_index=True)\n",
    "print(res)\n",
    "#     a    b    c    d\n",
    "# 0  0.0  0.0  0.0  0.0\n",
    "# 1  0.0  0.0  0.0  0.0\n",
    "# 2  0.0  0.0  0.0  0.0\n",
    "# 3  1.0  1.0  1.0  1.0\n",
    "# 4  1.0  1.0  1.0  1.0\n",
    "# 5  1.0  1.0  1.0  1.0\n",
    "# 6  1.0  1.0  1.0  1.0\n",
    "# 7  1.0  1.0  1.0  1.0\n",
    "# 8  1.0  1.0  1.0  1.0\n",
    "\n",
    "#合并series，将s1合并至df1，以及重置index，并打印出结果\n",
    "res = df1.append(s1, ignore_index=True)\n",
    "print(res)\n",
    "#     a    b    c    d\n",
    "# 0  0.0  0.0  0.0  0.0\n",
    "# 1  0.0  0.0  0.0  0.0\n",
    "# 2  0.0  0.0  0.0  0.0\n",
    "# 3  1.0  2.0  3.0  4.0"
   ]
  },
  {
   "cell_type": "code",
   "execution_count": null,
   "id": "ae204c3d",
   "metadata": {
    "hidden": true
   },
   "outputs": [],
   "source": [
    "# merge\n",
    "\n",
    "import pandas as pd\n",
    "\n",
    "#定义资料集并打印出\n",
    "left = pd.DataFrame({'key1': ['K0', 'K0', 'K1', 'K2'],\n",
    "                      'key2': ['K0', 'K1', 'K0', 'K1'],\n",
    "                      'A': ['A0', 'A1', 'A2', 'A3'],\n",
    "                      'B': ['B0', 'B1', 'B2', 'B3']})\n",
    "right = pd.DataFrame({'key1': ['K0', 'K1', 'K1', 'K2'],\n",
    "                       'key2': ['K0', 'K0', 'K0', 'K0'],\n",
    "                       'C': ['C0', 'C1', 'C2', 'C3'],\n",
    "                       'D': ['D0', 'D1', 'D2', 'D3']})\n",
    "\n",
    "print(left)\n",
    "#    A   B key1 key2\n",
    "# 0  A0  B0   K0   K0\n",
    "# 1  A1  B1   K0   K1\n",
    "# 2  A2  B2   K1   K0\n",
    "# 3  A3  B3   K2   K1\n",
    "\n",
    "print(right)\n",
    "#    C   D key1 key2\n",
    "# 0  C0  D0   K0   K0\n",
    "# 1  C1  D1   K1   K0\n",
    "# 2  C2  D2   K1   K0\n",
    "# 3  C3  D3   K2   K0\n",
    "\n",
    "#依据key1与key2 columns进行合并，并打印出四种结果['left', 'right', 'outer', 'inner']\n",
    "res = pd.merge(left, right, on=['key1', 'key2'], how='inner')\n",
    "print(res)\n",
    "#    A   B key1 key2   C   D\n",
    "# 0  A0  B0   K0   K0  C0  D0\n",
    "# 1  A2  B2   K1   K0  C1  D1\n",
    "# 2  A2  B2   K1   K0  C2  D2\n",
    "\n",
    "res = pd.merge(left, right, on=['key1', 'key2'], how='outer')\n",
    "print(res)\n",
    "#     A    B key1 key2    C    D\n",
    "# 0   A0   B0   K0   K0   C0   D0\n",
    "# 1   A1   B1   K0   K1  NaN  NaN\n",
    "# 2   A2   B2   K1   K0   C1   D1\n",
    "# 3   A2   B2   K1   K0   C2   D2\n",
    "# 4   A3   B3   K2   K1  NaN  NaN\n",
    "# 5  NaN  NaN   K2   K0   C3   D3\n",
    "\n",
    "res = pd.merge(left, right, on=['key1', 'key2'], how='left')\n",
    "print(res)\n",
    "#    A   B key1 key2    C    D\n",
    "# 0  A0  B0   K0   K0   C0   D0\n",
    "# 1  A1  B1   K0   K1  NaN  NaN\n",
    "# 2  A2  B2   K1   K0   C1   D1\n",
    "# 3  A2  B2   K1   K0   C2   D2\n",
    "# 4  A3  B3   K2   K1  NaN  NaN\n",
    "\n",
    "res = pd.merge(left, right, on=['key1', 'key2'], how='right')\n",
    "print(res)\n",
    "#     A    B key1 key2   C   D\n",
    "# 0   A0   B0   K0   K0  C0  D0\n",
    "# 1   A2   B2   K1   K0  C1  D1\n",
    "# 2   A2   B2   K1   K0  C2  D2\n",
    "# 3  NaN  NaN   K2   K0  C3  D3"
   ]
  },
  {
   "cell_type": "code",
   "execution_count": 38,
   "id": "97aaa4d7",
   "metadata": {
    "hidden": true
   },
   "outputs": [
    {
     "name": "stdout",
     "output_type": "stream",
     "text": [
      "     A   B\n",
      "K0  A0  B0\n",
      "K1  A1  B1\n",
      "K2  A2  B2\n",
      "     C   D\n",
      "K0  C0  D0\n",
      "K2  C2  D2\n",
      "K3  C3  D3\n",
      "      A    B    C    D\n",
      "K0   A0   B0   C0   D0\n",
      "K1   A1   B1  NaN  NaN\n",
      "K2   A2   B2   C2   D2\n",
      "K3  NaN  NaN   C3   D3\n",
      "     A   B   C   D\n",
      "K0  A0  B0  C0  D0\n",
      "K2  A2  B2  C2  D2\n"
     ]
    }
   ],
   "source": [
    "# 依据index进行合并\n",
    "import pandas as pd\n",
    "\n",
    "#定义资料集并打印出\n",
    "left = pd.DataFrame({'A': ['A0', 'A1', 'A2'],\n",
    "                     'B': ['B0', 'B1', 'B2']},\n",
    "                     index=['K0', 'K1', 'K2'])\n",
    "right = pd.DataFrame({'C': ['C0', 'C2', 'C3'],\n",
    "                      'D': ['D0', 'D2', 'D3']},\n",
    "                     index=['K0', 'K2', 'K3'])\n",
    "\n",
    "print(left)\n",
    "#     A   B\n",
    "# K0  A0  B0\n",
    "# K1  A1  B1\n",
    "# K2  A2  B2\n",
    "\n",
    "print(right)\n",
    "#     C   D\n",
    "# K0  C0  D0\n",
    "# K2  C2  D2\n",
    "# K3  C3  D3\n",
    "\n",
    "#依据左右资料集的index进行合并，how='outer',并打印出\n",
    "res = pd.merge(left, right, left_index=True, right_index=True, how='outer')\n",
    "print(res)\n",
    "#      A    B    C    D\n",
    "# K0   A0   B0   C0   D0\n",
    "# K1   A1   B1  NaN  NaN\n",
    "# K2   A2   B2   C2   D2\n",
    "# K3  NaN  NaN   C3   D3\n",
    "\n",
    "#依据左右资料集的index进行合并，how='inner',并打印出\n",
    "res = pd.merge(left, right, left_index=True, right_index=True, how='inner')\n",
    "print(res)"
   ]
  },
  {
   "cell_type": "markdown",
   "id": "29184560",
   "metadata": {},
   "source": [
    "## 画图plot "
   ]
  },
  {
   "cell_type": "markdown",
   "id": "448f296b",
   "metadata": {},
   "source": [
    "### 创建一个Series "
   ]
  },
  {
   "cell_type": "code",
   "execution_count": 43,
   "id": "4fcd1ffb",
   "metadata": {
    "scrolled": true
   },
   "outputs": [
    {
     "data": {
      "image/png": "[encoded data removed]",
      "text/plain": [
       "<Figure size 432x288 with 1 Axes>"
      ]
     },
     "metadata": {
      "needs_background": "light"
     },
     "output_type": "display_data"
    }
   ],
   "source": [
    "import pandas as pd\n",
    "import numpy as np\n",
    "import matplotlib.pyplot as plt\n",
    "\n",
    "# 随机生成1000个数据\n",
    "data = pd.Series(np.random.randn(100),index=np.arange(100))\n",
    " \n",
    "# 为了方便观看效果, 我们累加这个数据\n",
    "data.cumsum()\n",
    "# pandas 数据可以直接观看其可视化形式\n",
    "data.plot()\n",
    "plt.ylim(-10,10)\n",
    "plt.show()"
   ]
  },
  {
   "cell_type": "markdown",
   "id": "f31afe4c",
   "metadata": {},
   "source": [
    "### Dataframe 可视化 "
   ]
  },
  {
   "cell_type": "code",
   "execution_count": 45,
   "id": "edb53670",
   "metadata": {},
   "outputs": [
    {
     "data": {
      "image/png": "[encoded data removed]",
      "text/plain": [
       "<Figure size 432x288 with 1 Axes>"
      ]
     },
     "metadata": {
      "needs_background": "light"
     },
     "output_type": "display_data"
    }
   ],
   "source": [
    "data = pd.DataFrame(\n",
    "    np.random.randn(100,4),\n",
    "    index=np.arange(100),\n",
    "    columns=list(\"ABCD\")\n",
    "    )\n",
    "data.cumsum()\n",
    "data.plot()\n",
    "plt.show()"
   ]
  },
  {
   "cell_type": "code",
   "execution_count": 47,
   "id": "3f02e508",
   "metadata": {},
   "outputs": [
    {
     "data": {
      "image/png": "[encoded data removed]",
      "text/plain": [
       "<Figure size 432x288 with 1 Axes>"
      ]
     },
     "metadata": {
      "needs_background": "light"
     },
     "output_type": "display_data"
    }
   ],
   "source": [
    "ax = data.plot.scatter(x='A',y='B',color='DarkBlue',label='Class1')\n",
    "# 将之下这个 data 画在上一个 ax 上面\n",
    "data.plot.scatter(x='A',y='C',color='LightGreen',label='Class2',ax=ax)\n",
    "plt.show()"
   ]
  },
  {
   "cell_type": "code",
   "execution_count": null,
   "id": "d7466322",
   "metadata": {},
   "outputs": [],
   "source": []
  },
  {
   "cell_type": "code",
   "execution_count": null,
   "id": "2320dbf8",
   "metadata": {},
   "outputs": [],
   "source": []
  },
  {
   "cell_type": "code",
   "execution_count": null,
   "id": "916d4b49",
   "metadata": {},
   "outputs": [],
   "source": []
  },
  {
   "cell_type": "code",
   "execution_count": null,
   "id": "e65521a4",
   "metadata": {},
   "outputs": [],
   "source": []
  }
 ],
 "metadata": {
  "kernelspec": {
   "display_name": "Python [conda env:python38]",
   "language": "python",
   "name": "conda-env-python38-py"
  },
  "language_info": {
   "codemirror_mode": {
    "name": "ipython",
    "version": 3
   },
   "file_extension": ".py",
   "mimetype": "text/x-python",
   "name": "python",
   "nbconvert_exporter": "python",
   "pygments_lexer": "ipython3",
   "version": "3.8.8"
  },
  "toc": {
   "base_numbering": 1,
   "nav_menu": {},
   "number_sections": true,
   "sideBar": true,
   "skip_h1_title": false,
   "title_cell": "Table of Contents",
   "title_sidebar": "Contents",
   "toc_cell": false,
   "toc_position": {},
   "toc_section_display": true,
   "toc_window_display": true
  }
 },
 "nbformat": 4,
 "nbformat_minor": 5
}
