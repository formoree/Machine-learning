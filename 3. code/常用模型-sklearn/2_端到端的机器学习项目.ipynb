{
 "cells": [
  {
   "cell_type": "markdown",
   "id": "3006ba49",
   "metadata": {},
   "source": [
    "# 分析数据(清洗 可视化)"
   ]
  },
  {
   "cell_type": "markdown",
   "id": "f187d23f",
   "metadata": {},
   "source": [
    "## 分析数据数学特征"
   ]
  },
  {
   "cell_type": "code",
   "execution_count": 1,
   "id": "ff598b9b",
   "metadata": {
    "ExecuteTime": {
     "end_time": "2021-07-19T07:15:53.052894Z",
     "start_time": "2021-07-19T07:15:51.754692Z"
    }
   },
   "outputs": [],
   "source": [
    "import pandas as pd\n",
    "import matplotlib.pyplot as plt"
   ]
  },
  {
   "cell_type": "code",
   "execution_count": 2,
   "id": "841706ad",
   "metadata": {
    "ExecuteTime": {
     "end_time": "2021-07-19T07:15:53.642295Z",
     "start_time": "2021-07-19T07:15:53.367710Z"
    }
   },
   "outputs": [
    {
     "data": {
      "text/html": [
       "<div>\n",
       "<style scoped>\n",
       "    .dataframe tbody tr th:only-of-type {\n",
       "        vertical-align: middle;\n",
       "    }\n",
       "\n",
       "    .dataframe tbody tr th {\n",
       "        vertical-align: top;\n",
       "    }\n",
       "\n",
       "    .dataframe thead th {\n",
       "        text-align: right;\n",
       "    }\n",
       "</style>\n",
       "<table border=\"1\" class=\"dataframe\">\n",
       "  <thead>\n",
       "    <tr style=\"text-align: right;\">\n",
       "      <th></th>\n",
       "      <th>id</th>\n",
       "      <th>date</th>\n",
       "      <th>price</th>\n",
       "      <th>bedrooms</th>\n",
       "      <th>bathrooms</th>\n",
       "      <th>sqft_living</th>\n",
       "      <th>sqft_lot</th>\n",
       "      <th>floors</th>\n",
       "      <th>waterfront</th>\n",
       "      <th>view</th>\n",
       "      <th>...</th>\n",
       "      <th>grade</th>\n",
       "      <th>sqft_above</th>\n",
       "      <th>sqft_basement</th>\n",
       "      <th>yr_built</th>\n",
       "      <th>yr_renovated</th>\n",
       "      <th>zipcode</th>\n",
       "      <th>lat</th>\n",
       "      <th>long</th>\n",
       "      <th>sqft_living15</th>\n",
       "      <th>sqft_lot15</th>\n",
       "    </tr>\n",
       "  </thead>\n",
       "  <tbody>\n",
       "    <tr>\n",
       "      <th>0</th>\n",
       "      <td>7129300520</td>\n",
       "      <td>20141013T000000</td>\n",
       "      <td>221900.0</td>\n",
       "      <td>3</td>\n",
       "      <td>1.00</td>\n",
       "      <td>1180</td>\n",
       "      <td>5650</td>\n",
       "      <td>1.0</td>\n",
       "      <td>0</td>\n",
       "      <td>0</td>\n",
       "      <td>...</td>\n",
       "      <td>7</td>\n",
       "      <td>1180</td>\n",
       "      <td>0</td>\n",
       "      <td>1955</td>\n",
       "      <td>0</td>\n",
       "      <td>98178</td>\n",
       "      <td>47.5112</td>\n",
       "      <td>-122.257</td>\n",
       "      <td>1340</td>\n",
       "      <td>5650</td>\n",
       "    </tr>\n",
       "    <tr>\n",
       "      <th>1</th>\n",
       "      <td>6414100192</td>\n",
       "      <td>20141209T000000</td>\n",
       "      <td>538000.0</td>\n",
       "      <td>3</td>\n",
       "      <td>2.25</td>\n",
       "      <td>2570</td>\n",
       "      <td>7242</td>\n",
       "      <td>2.0</td>\n",
       "      <td>0</td>\n",
       "      <td>0</td>\n",
       "      <td>...</td>\n",
       "      <td>7</td>\n",
       "      <td>2170</td>\n",
       "      <td>400</td>\n",
       "      <td>1951</td>\n",
       "      <td>1991</td>\n",
       "      <td>98125</td>\n",
       "      <td>47.7210</td>\n",
       "      <td>-122.319</td>\n",
       "      <td>1690</td>\n",
       "      <td>7639</td>\n",
       "    </tr>\n",
       "    <tr>\n",
       "      <th>2</th>\n",
       "      <td>5631500400</td>\n",
       "      <td>20150225T000000</td>\n",
       "      <td>180000.0</td>\n",
       "      <td>2</td>\n",
       "      <td>1.00</td>\n",
       "      <td>770</td>\n",
       "      <td>10000</td>\n",
       "      <td>1.0</td>\n",
       "      <td>0</td>\n",
       "      <td>0</td>\n",
       "      <td>...</td>\n",
       "      <td>6</td>\n",
       "      <td>770</td>\n",
       "      <td>0</td>\n",
       "      <td>1933</td>\n",
       "      <td>0</td>\n",
       "      <td>98028</td>\n",
       "      <td>47.7379</td>\n",
       "      <td>-122.233</td>\n",
       "      <td>2720</td>\n",
       "      <td>8062</td>\n",
       "    </tr>\n",
       "    <tr>\n",
       "      <th>3</th>\n",
       "      <td>2487200875</td>\n",
       "      <td>20141209T000000</td>\n",
       "      <td>604000.0</td>\n",
       "      <td>4</td>\n",
       "      <td>3.00</td>\n",
       "      <td>1960</td>\n",
       "      <td>5000</td>\n",
       "      <td>1.0</td>\n",
       "      <td>0</td>\n",
       "      <td>0</td>\n",
       "      <td>...</td>\n",
       "      <td>7</td>\n",
       "      <td>1050</td>\n",
       "      <td>910</td>\n",
       "      <td>1965</td>\n",
       "      <td>0</td>\n",
       "      <td>98136</td>\n",
       "      <td>47.5208</td>\n",
       "      <td>-122.393</td>\n",
       "      <td>1360</td>\n",
       "      <td>5000</td>\n",
       "    </tr>\n",
       "    <tr>\n",
       "      <th>4</th>\n",
       "      <td>1954400510</td>\n",
       "      <td>20150218T000000</td>\n",
       "      <td>510000.0</td>\n",
       "      <td>3</td>\n",
       "      <td>2.00</td>\n",
       "      <td>1680</td>\n",
       "      <td>8080</td>\n",
       "      <td>1.0</td>\n",
       "      <td>0</td>\n",
       "      <td>0</td>\n",
       "      <td>...</td>\n",
       "      <td>8</td>\n",
       "      <td>1680</td>\n",
       "      <td>0</td>\n",
       "      <td>1987</td>\n",
       "      <td>0</td>\n",
       "      <td>98074</td>\n",
       "      <td>47.6168</td>\n",
       "      <td>-122.045</td>\n",
       "      <td>1800</td>\n",
       "      <td>7503</td>\n",
       "    </tr>\n",
       "    <tr>\n",
       "      <th>...</th>\n",
       "      <td>...</td>\n",
       "      <td>...</td>\n",
       "      <td>...</td>\n",
       "      <td>...</td>\n",
       "      <td>...</td>\n",
       "      <td>...</td>\n",
       "      <td>...</td>\n",
       "      <td>...</td>\n",
       "      <td>...</td>\n",
       "      <td>...</td>\n",
       "      <td>...</td>\n",
       "      <td>...</td>\n",
       "      <td>...</td>\n",
       "      <td>...</td>\n",
       "      <td>...</td>\n",
       "      <td>...</td>\n",
       "      <td>...</td>\n",
       "      <td>...</td>\n",
       "      <td>...</td>\n",
       "      <td>...</td>\n",
       "      <td>...</td>\n",
       "    </tr>\n",
       "    <tr>\n",
       "      <th>21608</th>\n",
       "      <td>263000018</td>\n",
       "      <td>20140521T000000</td>\n",
       "      <td>360000.0</td>\n",
       "      <td>3</td>\n",
       "      <td>2.50</td>\n",
       "      <td>1530</td>\n",
       "      <td>1131</td>\n",
       "      <td>3.0</td>\n",
       "      <td>0</td>\n",
       "      <td>0</td>\n",
       "      <td>...</td>\n",
       "      <td>8</td>\n",
       "      <td>1530</td>\n",
       "      <td>0</td>\n",
       "      <td>2009</td>\n",
       "      <td>0</td>\n",
       "      <td>98103</td>\n",
       "      <td>47.6993</td>\n",
       "      <td>-122.346</td>\n",
       "      <td>1530</td>\n",
       "      <td>1509</td>\n",
       "    </tr>\n",
       "    <tr>\n",
       "      <th>21609</th>\n",
       "      <td>6600060120</td>\n",
       "      <td>20150223T000000</td>\n",
       "      <td>400000.0</td>\n",
       "      <td>4</td>\n",
       "      <td>2.50</td>\n",
       "      <td>2310</td>\n",
       "      <td>5813</td>\n",
       "      <td>2.0</td>\n",
       "      <td>0</td>\n",
       "      <td>0</td>\n",
       "      <td>...</td>\n",
       "      <td>8</td>\n",
       "      <td>2310</td>\n",
       "      <td>0</td>\n",
       "      <td>2014</td>\n",
       "      <td>0</td>\n",
       "      <td>98146</td>\n",
       "      <td>47.5107</td>\n",
       "      <td>-122.362</td>\n",
       "      <td>1830</td>\n",
       "      <td>7200</td>\n",
       "    </tr>\n",
       "    <tr>\n",
       "      <th>21610</th>\n",
       "      <td>1523300141</td>\n",
       "      <td>20140623T000000</td>\n",
       "      <td>402101.0</td>\n",
       "      <td>2</td>\n",
       "      <td>0.75</td>\n",
       "      <td>1020</td>\n",
       "      <td>1350</td>\n",
       "      <td>2.0</td>\n",
       "      <td>0</td>\n",
       "      <td>0</td>\n",
       "      <td>...</td>\n",
       "      <td>7</td>\n",
       "      <td>1020</td>\n",
       "      <td>0</td>\n",
       "      <td>2009</td>\n",
       "      <td>0</td>\n",
       "      <td>98144</td>\n",
       "      <td>47.5944</td>\n",
       "      <td>-122.299</td>\n",
       "      <td>1020</td>\n",
       "      <td>2007</td>\n",
       "    </tr>\n",
       "    <tr>\n",
       "      <th>21611</th>\n",
       "      <td>291310100</td>\n",
       "      <td>20150116T000000</td>\n",
       "      <td>400000.0</td>\n",
       "      <td>3</td>\n",
       "      <td>2.50</td>\n",
       "      <td>1600</td>\n",
       "      <td>2388</td>\n",
       "      <td>2.0</td>\n",
       "      <td>0</td>\n",
       "      <td>0</td>\n",
       "      <td>...</td>\n",
       "      <td>8</td>\n",
       "      <td>1600</td>\n",
       "      <td>0</td>\n",
       "      <td>2004</td>\n",
       "      <td>0</td>\n",
       "      <td>98027</td>\n",
       "      <td>47.5345</td>\n",
       "      <td>-122.069</td>\n",
       "      <td>1410</td>\n",
       "      <td>1287</td>\n",
       "    </tr>\n",
       "    <tr>\n",
       "      <th>21612</th>\n",
       "      <td>1523300157</td>\n",
       "      <td>20141015T000000</td>\n",
       "      <td>325000.0</td>\n",
       "      <td>2</td>\n",
       "      <td>0.75</td>\n",
       "      <td>1020</td>\n",
       "      <td>1076</td>\n",
       "      <td>2.0</td>\n",
       "      <td>0</td>\n",
       "      <td>0</td>\n",
       "      <td>...</td>\n",
       "      <td>7</td>\n",
       "      <td>1020</td>\n",
       "      <td>0</td>\n",
       "      <td>2008</td>\n",
       "      <td>0</td>\n",
       "      <td>98144</td>\n",
       "      <td>47.5941</td>\n",
       "      <td>-122.299</td>\n",
       "      <td>1020</td>\n",
       "      <td>1357</td>\n",
       "    </tr>\n",
       "  </tbody>\n",
       "</table>\n",
       "<p>21613 rows × 21 columns</p>\n",
       "</div>"
      ],
      "text/plain": [
       "               id             date     price  bedrooms  bathrooms  \\\n",
       "0      7129300520  20141013T000000  221900.0         3       1.00   \n",
       "1      6414100192  20141209T000000  538000.0         3       2.25   \n",
       "2      5631500400  20150225T000000  180000.0         2       1.00   \n",
       "3      2487200875  20141209T000000  604000.0         4       3.00   \n",
       "4      1954400510  20150218T000000  510000.0         3       2.00   \n",
       "...           ...              ...       ...       ...        ...   \n",
       "21608   263000018  20140521T000000  360000.0         3       2.50   \n",
       "21609  6600060120  20150223T000000  400000.0         4       2.50   \n",
       "21610  1523300141  20140623T000000  402101.0         2       0.75   \n",
       "21611   291310100  20150116T000000  400000.0         3       2.50   \n",
       "21612  1523300157  20141015T000000  325000.0         2       0.75   \n",
       "\n",
       "       sqft_living  sqft_lot  floors  waterfront  view  ...  grade  \\\n",
       "0             1180      5650     1.0           0     0  ...      7   \n",
       "1             2570      7242     2.0           0     0  ...      7   \n",
       "2              770     10000     1.0           0     0  ...      6   \n",
       "3             1960      5000     1.0           0     0  ...      7   \n",
       "4             1680      8080     1.0           0     0  ...      8   \n",
       "...            ...       ...     ...         ...   ...  ...    ...   \n",
       "21608         1530      1131     3.0           0     0  ...      8   \n",
       "21609         2310      5813     2.0           0     0  ...      8   \n",
       "21610         1020      1350     2.0           0     0  ...      7   \n",
       "21611         1600      2388     2.0           0     0  ...      8   \n",
       "21612         1020      1076     2.0           0     0  ...      7   \n",
       "\n",
       "       sqft_above  sqft_basement  yr_built  yr_renovated  zipcode      lat  \\\n",
       "0            1180              0      1955             0    98178  47.5112   \n",
       "1            2170            400      1951          1991    98125  47.7210   \n",
       "2             770              0      1933             0    98028  47.7379   \n",
       "3            1050            910      1965             0    98136  47.5208   \n",
       "4            1680              0      1987             0    98074  47.6168   \n",
       "...           ...            ...       ...           ...      ...      ...   \n",
       "21608        1530              0      2009             0    98103  47.6993   \n",
       "21609        2310              0      2014             0    98146  47.5107   \n",
       "21610        1020              0      2009             0    98144  47.5944   \n",
       "21611        1600              0      2004             0    98027  47.5345   \n",
       "21612        1020              0      2008             0    98144  47.5941   \n",
       "\n",
       "          long  sqft_living15  sqft_lot15  \n",
       "0     -122.257           1340        5650  \n",
       "1     -122.319           1690        7639  \n",
       "2     -122.233           2720        8062  \n",
       "3     -122.393           1360        5000  \n",
       "4     -122.045           1800        7503  \n",
       "...        ...            ...         ...  \n",
       "21608 -122.346           1530        1509  \n",
       "21609 -122.362           1830        7200  \n",
       "21610 -122.299           1020        2007  \n",
       "21611 -122.069           1410        1287  \n",
       "21612 -122.299           1020        1357  \n",
       "\n",
       "[21613 rows x 21 columns]"
      ]
     },
     "execution_count": 2,
     "metadata": {},
     "output_type": "execute_result"
    }
   ],
   "source": [
    "data = pd.read_csv(\"kc_house_data.csv\")\n",
    "data"
   ]
  },
  {
   "cell_type": "code",
   "execution_count": 3,
   "id": "b286c018",
   "metadata": {
    "ExecuteTime": {
     "end_time": "2021-07-19T07:15:56.537716Z",
     "start_time": "2021-07-19T07:15:56.408580Z"
    }
   },
   "outputs": [
    {
     "data": {
      "text/html": [
       "<div>\n",
       "<style scoped>\n",
       "    .dataframe tbody tr th:only-of-type {\n",
       "        vertical-align: middle;\n",
       "    }\n",
       "\n",
       "    .dataframe tbody tr th {\n",
       "        vertical-align: top;\n",
       "    }\n",
       "\n",
       "    .dataframe thead th {\n",
       "        text-align: right;\n",
       "    }\n",
       "</style>\n",
       "<table border=\"1\" class=\"dataframe\">\n",
       "  <thead>\n",
       "    <tr style=\"text-align: right;\">\n",
       "      <th></th>\n",
       "      <th>id</th>\n",
       "      <th>price</th>\n",
       "      <th>bedrooms</th>\n",
       "      <th>bathrooms</th>\n",
       "      <th>sqft_living</th>\n",
       "      <th>sqft_lot</th>\n",
       "      <th>floors</th>\n",
       "      <th>waterfront</th>\n",
       "      <th>view</th>\n",
       "      <th>condition</th>\n",
       "      <th>grade</th>\n",
       "      <th>sqft_above</th>\n",
       "      <th>sqft_basement</th>\n",
       "      <th>yr_built</th>\n",
       "      <th>yr_renovated</th>\n",
       "      <th>zipcode</th>\n",
       "      <th>lat</th>\n",
       "      <th>long</th>\n",
       "      <th>sqft_living15</th>\n",
       "      <th>sqft_lot15</th>\n",
       "    </tr>\n",
       "  </thead>\n",
       "  <tbody>\n",
       "    <tr>\n",
       "      <th>count</th>\n",
       "      <td>2.161300e+04</td>\n",
       "      <td>2.161300e+04</td>\n",
       "      <td>21613.000000</td>\n",
       "      <td>21613.000000</td>\n",
       "      <td>21613.000000</td>\n",
       "      <td>2.161300e+04</td>\n",
       "      <td>21613.000000</td>\n",
       "      <td>21613.000000</td>\n",
       "      <td>21613.000000</td>\n",
       "      <td>21613.000000</td>\n",
       "      <td>21613.000000</td>\n",
       "      <td>21613.000000</td>\n",
       "      <td>21613.000000</td>\n",
       "      <td>21613.000000</td>\n",
       "      <td>21613.000000</td>\n",
       "      <td>21613.000000</td>\n",
       "      <td>21613.000000</td>\n",
       "      <td>21613.000000</td>\n",
       "      <td>21613.000000</td>\n",
       "      <td>21613.000000</td>\n",
       "    </tr>\n",
       "    <tr>\n",
       "      <th>mean</th>\n",
       "      <td>4.580302e+09</td>\n",
       "      <td>5.400881e+05</td>\n",
       "      <td>3.370842</td>\n",
       "      <td>2.114757</td>\n",
       "      <td>2079.899736</td>\n",
       "      <td>1.510697e+04</td>\n",
       "      <td>1.494309</td>\n",
       "      <td>0.007542</td>\n",
       "      <td>0.234303</td>\n",
       "      <td>3.409430</td>\n",
       "      <td>7.656873</td>\n",
       "      <td>1788.390691</td>\n",
       "      <td>291.509045</td>\n",
       "      <td>1971.005136</td>\n",
       "      <td>84.402258</td>\n",
       "      <td>98077.939805</td>\n",
       "      <td>47.560053</td>\n",
       "      <td>-122.213896</td>\n",
       "      <td>1986.552492</td>\n",
       "      <td>12768.455652</td>\n",
       "    </tr>\n",
       "    <tr>\n",
       "      <th>std</th>\n",
       "      <td>2.876566e+09</td>\n",
       "      <td>3.671272e+05</td>\n",
       "      <td>0.930062</td>\n",
       "      <td>0.770163</td>\n",
       "      <td>918.440897</td>\n",
       "      <td>4.142051e+04</td>\n",
       "      <td>0.539989</td>\n",
       "      <td>0.086517</td>\n",
       "      <td>0.766318</td>\n",
       "      <td>0.650743</td>\n",
       "      <td>1.175459</td>\n",
       "      <td>828.090978</td>\n",
       "      <td>442.575043</td>\n",
       "      <td>29.373411</td>\n",
       "      <td>401.679240</td>\n",
       "      <td>53.505026</td>\n",
       "      <td>0.138564</td>\n",
       "      <td>0.140828</td>\n",
       "      <td>685.391304</td>\n",
       "      <td>27304.179631</td>\n",
       "    </tr>\n",
       "    <tr>\n",
       "      <th>min</th>\n",
       "      <td>1.000102e+06</td>\n",
       "      <td>7.500000e+04</td>\n",
       "      <td>0.000000</td>\n",
       "      <td>0.000000</td>\n",
       "      <td>290.000000</td>\n",
       "      <td>5.200000e+02</td>\n",
       "      <td>1.000000</td>\n",
       "      <td>0.000000</td>\n",
       "      <td>0.000000</td>\n",
       "      <td>1.000000</td>\n",
       "      <td>1.000000</td>\n",
       "      <td>290.000000</td>\n",
       "      <td>0.000000</td>\n",
       "      <td>1900.000000</td>\n",
       "      <td>0.000000</td>\n",
       "      <td>98001.000000</td>\n",
       "      <td>47.155900</td>\n",
       "      <td>-122.519000</td>\n",
       "      <td>399.000000</td>\n",
       "      <td>651.000000</td>\n",
       "    </tr>\n",
       "    <tr>\n",
       "      <th>25%</th>\n",
       "      <td>2.123049e+09</td>\n",
       "      <td>3.219500e+05</td>\n",
       "      <td>3.000000</td>\n",
       "      <td>1.750000</td>\n",
       "      <td>1427.000000</td>\n",
       "      <td>5.040000e+03</td>\n",
       "      <td>1.000000</td>\n",
       "      <td>0.000000</td>\n",
       "      <td>0.000000</td>\n",
       "      <td>3.000000</td>\n",
       "      <td>7.000000</td>\n",
       "      <td>1190.000000</td>\n",
       "      <td>0.000000</td>\n",
       "      <td>1951.000000</td>\n",
       "      <td>0.000000</td>\n",
       "      <td>98033.000000</td>\n",
       "      <td>47.471000</td>\n",
       "      <td>-122.328000</td>\n",
       "      <td>1490.000000</td>\n",
       "      <td>5100.000000</td>\n",
       "    </tr>\n",
       "    <tr>\n",
       "      <th>50%</th>\n",
       "      <td>3.904930e+09</td>\n",
       "      <td>4.500000e+05</td>\n",
       "      <td>3.000000</td>\n",
       "      <td>2.250000</td>\n",
       "      <td>1910.000000</td>\n",
       "      <td>7.618000e+03</td>\n",
       "      <td>1.500000</td>\n",
       "      <td>0.000000</td>\n",
       "      <td>0.000000</td>\n",
       "      <td>3.000000</td>\n",
       "      <td>7.000000</td>\n",
       "      <td>1560.000000</td>\n",
       "      <td>0.000000</td>\n",
       "      <td>1975.000000</td>\n",
       "      <td>0.000000</td>\n",
       "      <td>98065.000000</td>\n",
       "      <td>47.571800</td>\n",
       "      <td>-122.230000</td>\n",
       "      <td>1840.000000</td>\n",
       "      <td>7620.000000</td>\n",
       "    </tr>\n",
       "    <tr>\n",
       "      <th>75%</th>\n",
       "      <td>7.308900e+09</td>\n",
       "      <td>6.450000e+05</td>\n",
       "      <td>4.000000</td>\n",
       "      <td>2.500000</td>\n",
       "      <td>2550.000000</td>\n",
       "      <td>1.068800e+04</td>\n",
       "      <td>2.000000</td>\n",
       "      <td>0.000000</td>\n",
       "      <td>0.000000</td>\n",
       "      <td>4.000000</td>\n",
       "      <td>8.000000</td>\n",
       "      <td>2210.000000</td>\n",
       "      <td>560.000000</td>\n",
       "      <td>1997.000000</td>\n",
       "      <td>0.000000</td>\n",
       "      <td>98118.000000</td>\n",
       "      <td>47.678000</td>\n",
       "      <td>-122.125000</td>\n",
       "      <td>2360.000000</td>\n",
       "      <td>10083.000000</td>\n",
       "    </tr>\n",
       "    <tr>\n",
       "      <th>max</th>\n",
       "      <td>9.900000e+09</td>\n",
       "      <td>7.700000e+06</td>\n",
       "      <td>33.000000</td>\n",
       "      <td>8.000000</td>\n",
       "      <td>13540.000000</td>\n",
       "      <td>1.651359e+06</td>\n",
       "      <td>3.500000</td>\n",
       "      <td>1.000000</td>\n",
       "      <td>4.000000</td>\n",
       "      <td>5.000000</td>\n",
       "      <td>13.000000</td>\n",
       "      <td>9410.000000</td>\n",
       "      <td>4820.000000</td>\n",
       "      <td>2015.000000</td>\n",
       "      <td>2015.000000</td>\n",
       "      <td>98199.000000</td>\n",
       "      <td>47.777600</td>\n",
       "      <td>-121.315000</td>\n",
       "      <td>6210.000000</td>\n",
       "      <td>871200.000000</td>\n",
       "    </tr>\n",
       "  </tbody>\n",
       "</table>\n",
       "</div>"
      ],
      "text/plain": [
       "                 id         price      bedrooms     bathrooms   sqft_living  \\\n",
       "count  2.161300e+04  2.161300e+04  21613.000000  21613.000000  21613.000000   \n",
       "mean   4.580302e+09  5.400881e+05      3.370842      2.114757   2079.899736   \n",
       "std    2.876566e+09  3.671272e+05      0.930062      0.770163    918.440897   \n",
       "min    1.000102e+06  7.500000e+04      0.000000      0.000000    290.000000   \n",
       "25%    2.123049e+09  3.219500e+05      3.000000      1.750000   1427.000000   \n",
       "50%    3.904930e+09  4.500000e+05      3.000000      2.250000   1910.000000   \n",
       "75%    7.308900e+09  6.450000e+05      4.000000      2.500000   2550.000000   \n",
       "max    9.900000e+09  7.700000e+06     33.000000      8.000000  13540.000000   \n",
       "\n",
       "           sqft_lot        floors    waterfront          view     condition  \\\n",
       "count  2.161300e+04  21613.000000  21613.000000  21613.000000  21613.000000   \n",
       "mean   1.510697e+04      1.494309      0.007542      0.234303      3.409430   \n",
       "std    4.142051e+04      0.539989      0.086517      0.766318      0.650743   \n",
       "min    5.200000e+02      1.000000      0.000000      0.000000      1.000000   \n",
       "25%    5.040000e+03      1.000000      0.000000      0.000000      3.000000   \n",
       "50%    7.618000e+03      1.500000      0.000000      0.000000      3.000000   \n",
       "75%    1.068800e+04      2.000000      0.000000      0.000000      4.000000   \n",
       "max    1.651359e+06      3.500000      1.000000      4.000000      5.000000   \n",
       "\n",
       "              grade    sqft_above  sqft_basement      yr_built  yr_renovated  \\\n",
       "count  21613.000000  21613.000000   21613.000000  21613.000000  21613.000000   \n",
       "mean       7.656873   1788.390691     291.509045   1971.005136     84.402258   \n",
       "std        1.175459    828.090978     442.575043     29.373411    401.679240   \n",
       "min        1.000000    290.000000       0.000000   1900.000000      0.000000   \n",
       "25%        7.000000   1190.000000       0.000000   1951.000000      0.000000   \n",
       "50%        7.000000   1560.000000       0.000000   1975.000000      0.000000   \n",
       "75%        8.000000   2210.000000     560.000000   1997.000000      0.000000   \n",
       "max       13.000000   9410.000000    4820.000000   2015.000000   2015.000000   \n",
       "\n",
       "            zipcode           lat          long  sqft_living15     sqft_lot15  \n",
       "count  21613.000000  21613.000000  21613.000000   21613.000000   21613.000000  \n",
       "mean   98077.939805     47.560053   -122.213896    1986.552492   12768.455652  \n",
       "std       53.505026      0.138564      0.140828     685.391304   27304.179631  \n",
       "min    98001.000000     47.155900   -122.519000     399.000000     651.000000  \n",
       "25%    98033.000000     47.471000   -122.328000    1490.000000    5100.000000  \n",
       "50%    98065.000000     47.571800   -122.230000    1840.000000    7620.000000  \n",
       "75%    98118.000000     47.678000   -122.125000    2360.000000   10083.000000  \n",
       "max    98199.000000     47.777600   -121.315000    6210.000000  871200.000000  "
      ]
     },
     "execution_count": 3,
     "metadata": {},
     "output_type": "execute_result"
    }
   ],
   "source": [
    "#进行简单的数据分析\n",
    "data.describe()"
   ]
  },
  {
   "cell_type": "code",
   "execution_count": 4,
   "id": "0473d90c",
   "metadata": {
    "ExecuteTime": {
     "end_time": "2021-07-19T07:15:56.568631Z",
     "start_time": "2021-07-19T07:15:56.541673Z"
    }
   },
   "outputs": [
    {
     "name": "stdout",
     "output_type": "stream",
     "text": [
      "<class 'pandas.core.frame.DataFrame'>\n",
      "RangeIndex: 21613 entries, 0 to 21612\n",
      "Data columns (total 21 columns):\n",
      " #   Column         Non-Null Count  Dtype  \n",
      "---  ------         --------------  -----  \n",
      " 0   id             21613 non-null  int64  \n",
      " 1   date           21613 non-null  object \n",
      " 2   price          21613 non-null  float64\n",
      " 3   bedrooms       21613 non-null  int64  \n",
      " 4   bathrooms      21613 non-null  float64\n",
      " 5   sqft_living    21613 non-null  int64  \n",
      " 6   sqft_lot       21613 non-null  int64  \n",
      " 7   floors         21613 non-null  float64\n",
      " 8   waterfront     21613 non-null  int64  \n",
      " 9   view           21613 non-null  int64  \n",
      " 10  condition      21613 non-null  int64  \n",
      " 11  grade          21613 non-null  int64  \n",
      " 12  sqft_above     21613 non-null  int64  \n",
      " 13  sqft_basement  21613 non-null  int64  \n",
      " 14  yr_built       21613 non-null  int64  \n",
      " 15  yr_renovated   21613 non-null  int64  \n",
      " 16  zipcode        21613 non-null  int64  \n",
      " 17  lat            21613 non-null  float64\n",
      " 18  long           21613 non-null  float64\n",
      " 19  sqft_living15  21613 non-null  int64  \n",
      " 20  sqft_lot15     21613 non-null  int64  \n",
      "dtypes: float64(5), int64(15), object(1)\n",
      "memory usage: 3.5+ MB\n"
     ]
    }
   ],
   "source": [
    "data.info()"
   ]
  },
  {
   "cell_type": "code",
   "execution_count": 5,
   "id": "ad28fc59",
   "metadata": {
    "ExecuteTime": {
     "end_time": "2021-07-19T07:16:01.466706Z",
     "start_time": "2021-07-19T07:15:57.079480Z"
    }
   },
   "outputs": [
    {
     "name": "stderr",
     "output_type": "stream",
     "text": [
      "D:\\9_anaconda\\lib\\site-packages\\pandas\\plotting\\_matplotlib\\tools.py:400: MatplotlibDeprecationWarning: \n",
      "The is_first_col function was deprecated in Matplotlib 3.4 and will be removed two minor releases later. Use ax.get_subplotspec().is_first_col() instead.\n",
      "  if ax.is_first_col():\n"
     ]
    },
    {
     "data": {
      "image/png": "[encoded data removed]",
      "text/plain": [
       "<Figure size 1440x1080 with 20 Axes>"
      ]
     },
     "metadata": {
      "needs_background": "light"
     },
     "output_type": "display_data"
    }
   ],
   "source": [
    "#将所有数据可视化\n",
    "data.hist(bins=50,figsize=(20,15))\n",
    "plt.show()"
   ]
  },
  {
   "cell_type": "code",
   "execution_count": 6,
   "id": "1f979552",
   "metadata": {
    "ExecuteTime": {
     "end_time": "2021-07-19T07:16:03.329236Z",
     "start_time": "2021-07-19T07:16:01.520533Z"
    }
   },
   "outputs": [],
   "source": [
    "# 对数据集进行划分（纯随机的抽样方式）\n",
    "from sklearn.model_selection import train_test_split\n",
    "train_set,test_set = train_test_split(data,test_size=0.2,random_state=42)"
   ]
  },
  {
   "cell_type": "code",
   "execution_count": 7,
   "id": "c2ae77a7",
   "metadata": {
    "ExecuteTime": {
     "end_time": "2021-07-19T07:16:11.830380Z",
     "start_time": "2021-07-19T07:16:11.573890Z"
    }
   },
   "outputs": [
    {
     "data": {
      "text/plain": [
       "<AxesSubplot:xlabel='lat', ylabel='long'>"
      ]
     },
     "execution_count": 7,
     "metadata": {},
     "output_type": "execute_result"
    },
    {
     "data": {
      "image/png": "[encoded data removed]",
      "text/plain": [
       "<Figure size 432x288 with 1 Axes>"
      ]
     },
     "metadata": {
      "needs_background": "light"
     },
     "output_type": "display_data"
    }
   ],
   "source": [
    "#通过数据中的经纬度对其进行可视化操作\n",
    "housing = train_set.copy()\n",
    "#将alpha设置为1更能看清高密度数据点的位置\n",
    "housing.plot(kind=\"scatter\",x=\"lat\",y=\"long\",alpha=1)"
   ]
  },
  {
   "cell_type": "code",
   "execution_count": 11,
   "id": "ba1e53cd",
   "metadata": {
    "ExecuteTime": {
     "end_time": "2021-07-18T01:55:20.480972Z",
     "start_time": "2021-07-18T01:55:19.541110Z"
    }
   },
   "outputs": [
    {
     "name": "stderr",
     "output_type": "stream",
     "text": [
      "D:\\9_anaconda\\lib\\site-packages\\pandas\\plotting\\_matplotlib\\tools.py:400: MatplotlibDeprecationWarning: \n",
      "The is_first_col function was deprecated in Matplotlib 3.4 and will be removed two minor releases later. Use ax.get_subplotspec().is_first_col() instead.\n",
      "  if ax.is_first_col():\n",
      "No handles with labels found to put in legend.\n"
     ]
    },
    {
     "name": "stdout",
     "output_type": "stream",
     "text": [
      "               id             date     price  bedrooms  bathrooms  \\\n",
      "6325   5467910190  20140527T000000  325000.0         3       1.75   \n",
      "13473  9331800580  20150310T000000  257000.0         2       1.00   \n",
      "17614  2407000405  20150226T000000  228500.0         3       1.00   \n",
      "16970  5466700290  20150108T000000  288000.0         3       2.25   \n",
      "20868  3026059361  20150417T000000  479000.0         2       2.50   \n",
      "...           ...              ...       ...       ...        ...   \n",
      "11964  5272200045  20141113T000000  378000.0         3       1.50   \n",
      "21575  9578500790  20141111T000000  399950.0         3       2.50   \n",
      "5390   7202350480  20140930T000000  575000.0         3       2.50   \n",
      "860    1723049033  20140620T000000  245000.0         1       0.75   \n",
      "15795  6147650280  20150325T000000  315000.0         4       2.50   \n",
      "\n",
      "       sqft_living  sqft_lot  floors  waterfront  view  ...  grade  \\\n",
      "6325          1780     13095     1.0           0     0  ...      9   \n",
      "13473         1000      3700     1.0           0     0  ...      6   \n",
      "17614         1080      7486     1.5           0     0  ...      6   \n",
      "16970         2090      7500     1.0           0     0  ...      7   \n",
      "20868         1741      1439     2.0           0     0  ...      8   \n",
      "...            ...       ...     ...         ...   ...  ...    ...   \n",
      "11964         1000      6914     1.0           0     0  ...      7   \n",
      "21575         3087      5002     2.0           0     0  ...      8   \n",
      "5390          2120      4780     2.0           0     0  ...      7   \n",
      "860            380     15000     1.0           0     0  ...      5   \n",
      "15795         3130      5999     2.0           0     0  ...      7   \n",
      "\n",
      "       sqft_above  sqft_basement  yr_built  yr_renovated  zipcode      lat  \\\n",
      "6325         1780              0      1983             0    98042  47.3670   \n",
      "13473         800            200      1929             0    98118  47.5520   \n",
      "17614         990             90      1942             0    98146  47.4838   \n",
      "16970        1280            810      1977             0    98031  47.3951   \n",
      "20868        1446            295      2007             0    98034  47.7043   \n",
      "...           ...            ...       ...           ...      ...      ...   \n",
      "11964        1000              0      1947             0    98125  47.7144   \n",
      "21575        3087              0      2014             0    98023  47.2974   \n",
      "5390         2120              0      2004             0    98053  47.6810   \n",
      "860           380              0      1963             0    98168  47.4810   \n",
      "15795        3130              0      2006             0    98042  47.3837   \n",
      "\n",
      "          long  sqft_living15  sqft_lot15  \n",
      "6325  -122.152           2750       13095  \n",
      "13473 -122.290           1270        5000  \n",
      "17614 -122.335           1170        7800  \n",
      "16970 -122.172           1800        7350  \n",
      "20868 -122.209           2090       10454  \n",
      "...        ...            ...         ...  \n",
      "11964 -122.319           1000        6947  \n",
      "21575 -122.349           2927        5183  \n",
      "5390  -122.032           1690        2650  \n",
      "860   -122.323           1170       15000  \n",
      "15795 -122.099           3020        5997  \n",
      "\n",
      "[17290 rows x 21 columns]\n"
     ]
    },
    {
     "data": {
      "image/png": "[encoded data removed]",
      "text/plain": [
       "<Figure size 432x288 with 2 Axes>"
      ]
     },
     "metadata": {
      "needs_background": "light"
     },
     "output_type": "display_data"
    }
   ],
   "source": [
    "housing.plot(kind=\"scatter\",x=\"lat\",y=\"long\",alpha=1,\n",
    "            c=\"price\",cmap=plt.get_cmap(\"jet\"),colorbar=True)\n",
    "plt.legend()\n",
    "print(housing)"
   ]
  },
  {
   "cell_type": "markdown",
   "id": "a8864ac8",
   "metadata": {},
   "source": [
    "## 寻找相关性"
   ]
  },
  {
   "cell_type": "code",
   "execution_count": 8,
   "id": "28951ef8",
   "metadata": {
    "ExecuteTime": {
     "end_time": "2021-07-19T07:16:20.851150Z",
     "start_time": "2021-07-19T07:16:20.806302Z"
    }
   },
   "outputs": [
    {
     "data": {
      "text/plain": [
       "price            1.000000\n",
       "sqft_living      0.701701\n",
       "grade            0.665093\n",
       "sqft_above       0.603255\n",
       "sqft_living15    0.582667\n",
       "bathrooms        0.526618\n",
       "view             0.392108\n",
       "sqft_basement    0.321387\n",
       "lat              0.310770\n",
       "bedrooms         0.308262\n",
       "floors           0.253425\n",
       "waterfront       0.252946\n",
       "yr_renovated     0.127737\n",
       "sqft_lot         0.091039\n",
       "sqft_lot15       0.079152\n",
       "yr_built         0.049100\n",
       "condition        0.036344\n",
       "long             0.023486\n",
       "id              -0.020623\n",
       "zipcode         -0.053803\n",
       "Name: price, dtype: float64"
      ]
     },
     "execution_count": 8,
     "metadata": {},
     "output_type": "execute_result"
    }
   ],
   "source": [
    "# 通过corr函数求的行数据之间的相关性  \n",
    "corr_matrics = housing.corr()\n",
    "# 只展示price属性的相关性\n",
    "corr_matrics[\"price\"].sort_values(ascending = False)"
   ]
  },
  {
   "cell_type": "code",
   "execution_count": 13,
   "id": "7797ed04",
   "metadata": {
    "ExecuteTime": {
     "end_time": "2021-07-18T01:55:22.143392Z",
     "start_time": "2021-07-18T01:55:22.042753Z"
    }
   },
   "outputs": [
    {
     "ename": "ModuleNotFoundError",
     "evalue": "No module named 'pandas.tools'",
     "output_type": "error",
     "traceback": [
      "\u001b[1;31m---------------------------------------------------------------------------\u001b[0m",
      "\u001b[1;31mModuleNotFoundError\u001b[0m                       Traceback (most recent call last)",
      "\u001b[1;32m<ipython-input-13-179ff563b363>\u001b[0m in \u001b[0;36m<module>\u001b[1;34m\u001b[0m\n\u001b[0;32m      1\u001b[0m \u001b[1;31m#pandas也有函数能够绘制属性之间的相关性（原电脑貌似没有pandas.tools.plotting模块）\u001b[0m\u001b[1;33m\u001b[0m\u001b[1;33m\u001b[0m\u001b[1;33m\u001b[0m\u001b[0m\n\u001b[1;32m----> 2\u001b[1;33m \u001b[1;32mfrom\u001b[0m \u001b[0mpandas\u001b[0m\u001b[1;33m.\u001b[0m\u001b[0mtools\u001b[0m\u001b[1;33m.\u001b[0m\u001b[0mplotting\u001b[0m \u001b[1;32mimport\u001b[0m \u001b[0mscatter_matrix\u001b[0m\u001b[1;33m\u001b[0m\u001b[1;33m\u001b[0m\u001b[0m\n\u001b[0m\u001b[0;32m      3\u001b[0m \u001b[0mattributes\u001b[0m \u001b[1;33m=\u001b[0m \u001b[1;33m[\u001b[0m\u001b[1;34m\"sqft_living\"\u001b[0m\u001b[1;33m,\u001b[0m\u001b[1;34m\"grade\"\u001b[0m\u001b[1;33m,\u001b[0m\u001b[1;34m\"sqft_above\"\u001b[0m\u001b[1;33m,\u001b[0m\u001b[1;34m\"sqft_living15\"\u001b[0m\u001b[1;33m]\u001b[0m\u001b[1;33m\u001b[0m\u001b[1;33m\u001b[0m\u001b[0m\n\u001b[0;32m      4\u001b[0m \u001b[0mscatter_matrix\u001b[0m\u001b[1;33m(\u001b[0m\u001b[0mhousing\u001b[0m\u001b[1;33m[\u001b[0m\u001b[0mattributes\u001b[0m\u001b[1;33m]\u001b[0m\u001b[1;33m,\u001b[0m\u001b[0mfigsize\u001b[0m\u001b[1;33m=\u001b[0m\u001b[1;33m(\u001b[0m\u001b[1;36m12\u001b[0m\u001b[1;33m,\u001b[0m\u001b[1;36m8\u001b[0m\u001b[1;33m)\u001b[0m\u001b[1;33m)\u001b[0m\u001b[1;33m\u001b[0m\u001b[1;33m\u001b[0m\u001b[0m\n",
      "\u001b[1;31mModuleNotFoundError\u001b[0m: No module named 'pandas.tools'"
     ]
    }
   ],
   "source": [
    "#pandas也有函数能够绘制属性之间的相关性（原电脑貌似没有pandas.tools.plotting模块）\n",
    "from pandas.tools.plotting import scatter_matrix\n",
    "attributes = [\"sqft_living\",\"grade\",\"sqft_above\",\"sqft_living15\"]\n",
    "scatter_matrix(housing[attributes],figsize=(12,8))"
   ]
  },
  {
   "cell_type": "markdown",
   "id": "16e179f4",
   "metadata": {},
   "source": [
    "# 数据准备"
   ]
  },
  {
   "cell_type": "code",
   "execution_count": 23,
   "id": "bea79d59",
   "metadata": {
    "ExecuteTime": {
     "end_time": "2021-07-19T07:33:14.075544Z",
     "start_time": "2021-07-19T07:33:14.052653Z"
    }
   },
   "outputs": [],
   "source": [
    "#drop会复制所操作的数据副本 不损害原数据\n",
    "train = train_set.drop([\"price\",\"date\"],axis=1)\n",
    "train_label = train_set[\"price\"].copy()"
   ]
  },
  {
   "cell_type": "markdown",
   "id": "03a8d370",
   "metadata": {},
   "source": [
    "## 数据清理"
   ]
  },
  {
   "cell_type": "code",
   "execution_count": 24,
   "id": "5d34f2fe",
   "metadata": {
    "ExecuteTime": {
     "end_time": "2021-07-19T07:33:16.732224Z",
     "start_time": "2021-07-19T07:33:16.698275Z"
    }
   },
   "outputs": [
    {
     "name": "stdout",
     "output_type": "stream",
     "text": [
      "<class 'pandas.core.frame.DataFrame'>\n",
      "Int64Index: 17290 entries, 6325 to 15795\n",
      "Data columns (total 19 columns):\n",
      " #   Column         Non-Null Count  Dtype  \n",
      "---  ------         --------------  -----  \n",
      " 0   id             17290 non-null  int64  \n",
      " 1   bedrooms       17290 non-null  int64  \n",
      " 2   bathrooms      17290 non-null  float64\n",
      " 3   sqft_living    17290 non-null  int64  \n",
      " 4   sqft_lot       17290 non-null  int64  \n",
      " 5   floors         17290 non-null  float64\n",
      " 6   waterfront     17290 non-null  int64  \n",
      " 7   view           17290 non-null  int64  \n",
      " 8   condition      17290 non-null  int64  \n",
      " 9   grade          17290 non-null  int64  \n",
      " 10  sqft_above     17290 non-null  int64  \n",
      " 11  sqft_basement  17290 non-null  int64  \n",
      " 12  yr_built       17290 non-null  int64  \n",
      " 13  yr_renovated   17290 non-null  int64  \n",
      " 14  zipcode        17290 non-null  int64  \n",
      " 15  lat            17290 non-null  float64\n",
      " 16  long           17290 non-null  float64\n",
      " 17  sqft_living15  17290 non-null  int64  \n",
      " 18  sqft_lot15     17290 non-null  int64  \n",
      "dtypes: float64(4), int64(15)\n",
      "memory usage: 2.6 MB\n"
     ]
    }
   ],
   "source": [
    "train.info()"
   ]
  },
  {
   "cell_type": "markdown",
   "id": "d636e21f",
   "metadata": {},
   "source": [
    "通过info函数我们得知数据中不存在null得知，我们便不用对数据进行无值清理"
   ]
  },
  {
   "cell_type": "code",
   "execution_count": 11,
   "id": "835e83ef",
   "metadata": {
    "ExecuteTime": {
     "end_time": "2021-07-19T07:16:36.947705Z",
     "start_time": "2021-07-19T07:16:36.606405Z"
    }
   },
   "outputs": [
    {
     "ename": "ValueError",
     "evalue": "Cannot use median strategy with non-numeric data:\ncould not convert string to float: '20140527T000000'",
     "output_type": "error",
     "traceback": [
      "\u001b[1;31m---------------------------------------------------------------------------\u001b[0m",
      "\u001b[1;31mValueError\u001b[0m                                Traceback (most recent call last)",
      "\u001b[1;32m<ipython-input-11-af6d56689359>\u001b[0m in \u001b[0;36m<module>\u001b[1;34m\u001b[0m\n\u001b[0;32m      5\u001b[0m \u001b[1;31m#创建一个非文本属性的数据集median_num 来存储中位数\u001b[0m\u001b[1;33m\u001b[0m\u001b[1;33m\u001b[0m\u001b[1;33m\u001b[0m\u001b[0m\n\u001b[0;32m      6\u001b[0m \u001b[0mhousing_num\u001b[0m \u001b[1;33m=\u001b[0m \u001b[0mtrain_set\u001b[0m\u001b[1;33m.\u001b[0m\u001b[0mdrop\u001b[0m\u001b[1;33m(\u001b[0m\u001b[1;34m\"price\"\u001b[0m\u001b[1;33m,\u001b[0m\u001b[0maxis\u001b[0m\u001b[1;33m=\u001b[0m\u001b[1;36m1\u001b[0m\u001b[1;33m)\u001b[0m\u001b[1;33m\u001b[0m\u001b[1;33m\u001b[0m\u001b[0m\n\u001b[1;32m----> 7\u001b[1;33m \u001b[0mimpute\u001b[0m\u001b[1;33m.\u001b[0m\u001b[0mfit\u001b[0m\u001b[1;33m(\u001b[0m\u001b[0mhousing_num\u001b[0m\u001b[1;33m)\u001b[0m\u001b[1;33m\u001b[0m\u001b[1;33m\u001b[0m\u001b[0m\n\u001b[0m\u001b[0;32m      8\u001b[0m \u001b[0mimpute\u001b[0m\u001b[1;33m.\u001b[0m\u001b[0mstatistics_\u001b[0m\u001b[1;33m\u001b[0m\u001b[1;33m\u001b[0m\u001b[0m\n\u001b[0;32m      9\u001b[0m \u001b[1;31m#输出结果表明\u001b[0m\u001b[1;33m\u001b[0m\u001b[1;33m\u001b[0m\u001b[1;33m\u001b[0m\u001b[0m\n",
      "\u001b[1;32mD:\\9_anaconda\\lib\\site-packages\\sklearn\\impute\\_base.py\u001b[0m in \u001b[0;36mfit\u001b[1;34m(self, X, y)\u001b[0m\n\u001b[0;32m    286\u001b[0m         \u001b[0mself\u001b[0m \u001b[1;33m:\u001b[0m \u001b[0mSimpleImputer\u001b[0m\u001b[1;33m\u001b[0m\u001b[1;33m\u001b[0m\u001b[0m\n\u001b[0;32m    287\u001b[0m         \"\"\"\n\u001b[1;32m--> 288\u001b[1;33m         \u001b[0mX\u001b[0m \u001b[1;33m=\u001b[0m \u001b[0mself\u001b[0m\u001b[1;33m.\u001b[0m\u001b[0m_validate_input\u001b[0m\u001b[1;33m(\u001b[0m\u001b[0mX\u001b[0m\u001b[1;33m,\u001b[0m \u001b[0min_fit\u001b[0m\u001b[1;33m=\u001b[0m\u001b[1;32mTrue\u001b[0m\u001b[1;33m)\u001b[0m\u001b[1;33m\u001b[0m\u001b[1;33m\u001b[0m\u001b[0m\n\u001b[0m\u001b[0;32m    289\u001b[0m \u001b[1;33m\u001b[0m\u001b[0m\n\u001b[0;32m    290\u001b[0m         \u001b[1;31m# default fill_value is 0 for numerical input and \"missing_value\"\u001b[0m\u001b[1;33m\u001b[0m\u001b[1;33m\u001b[0m\u001b[1;33m\u001b[0m\u001b[0m\n",
      "\u001b[1;32mD:\\9_anaconda\\lib\\site-packages\\sklearn\\impute\\_base.py\u001b[0m in \u001b[0;36m_validate_input\u001b[1;34m(self, X, in_fit)\u001b[0m\n\u001b[0;32m    258\u001b[0m                 new_ve = ValueError(\"Cannot use {} strategy with non-numeric \"\n\u001b[0;32m    259\u001b[0m                                     \"data:\\n{}\".format(self.strategy, ve))\n\u001b[1;32m--> 260\u001b[1;33m                 \u001b[1;32mraise\u001b[0m \u001b[0mnew_ve\u001b[0m \u001b[1;32mfrom\u001b[0m \u001b[1;32mNone\u001b[0m\u001b[1;33m\u001b[0m\u001b[1;33m\u001b[0m\u001b[0m\n\u001b[0m\u001b[0;32m    261\u001b[0m             \u001b[1;32melse\u001b[0m\u001b[1;33m:\u001b[0m\u001b[1;33m\u001b[0m\u001b[1;33m\u001b[0m\u001b[0m\n\u001b[0;32m    262\u001b[0m                 \u001b[1;32mraise\u001b[0m \u001b[0mve\u001b[0m\u001b[1;33m\u001b[0m\u001b[1;33m\u001b[0m\u001b[0m\n",
      "\u001b[1;31mValueError\u001b[0m: Cannot use median strategy with non-numeric data:\ncould not convert string to float: '20140527T000000'"
     ]
    }
   ],
   "source": [
    "#如果需要处理null 可用中位数代替\n",
    "#sklearn有一个容易上手的教程进行null值处理\n",
    "from sklearn.impute import SimpleImputer\n",
    "impute = SimpleImputer(strategy = \"median\")\n",
    "#创建一个非文本属性的数据集median_num 来存储中位数\n",
    "housing_num = train_set.drop(\"price\",axis=1)\n",
    "impute.fit(housing_num)\n",
    "impute.statistics_\n",
    "#输出结果表明"
   ]
  },
  {
   "cell_type": "markdown",
   "id": "658ab89e",
   "metadata": {},
   "source": [
    "## 处理文本和分类属性"
   ]
  },
  {
   "cell_type": "markdown",
   "id": "0c0994c1",
   "metadata": {},
   "source": [
    "大部分机器学习算法更易于与数字打交道，我们将文本标签转换为数字"
   ]
  },
  {
   "cell_type": "code",
   "execution_count": null,
   "id": "35985703",
   "metadata": {},
   "outputs": [],
   "source": [
    "#Scikit-Learn提供转换器LabelEncoder\n",
    "#Scikit-Learn也提供OneHotENcoder编码器，将整数分类值转化为独热向量--SciPy稀疏矩阵\n",
    "#Scikit-Learn也提供LabelBinarizer编码器，将文本转化为整数分类值再转化为独热向量 -- 密集的Numpy数组\n",
    "\n",
    "#下面这个是自定义转换器\n",
    "from sklearn.base import BaseEstimator, TransformerMixin\n",
    "\n",
    "class DataFrameSelector(BaseEstimator, TransformerMixin)\n",
    "\tdef __init__(self, attribute_names):  # no *args and **kargs\n",
    "\t\tself.attributes_names = attribute_names\n",
    "\tdef fit(self, X, y=None):\n",
    "\t\treturn self  # 不用做其他事情\n",
    "\tdef transform(self, X):\n",
    "\t\treturn X[self.attribute_names].values # 返回的是DataFrame形式里指定的列的值\n"
   ]
  },
  {
   "cell_type": "markdown",
   "id": "78eba381",
   "metadata": {},
   "source": [
    "## 特征缩放"
   ]
  },
  {
   "cell_type": "markdown",
   "id": "016797b7",
   "metadata": {},
   "source": [
    "+ 常用两种方法：最大-最小缩放和标准化\n",
    "    + 最大最小缩放(归一化):重新缩放使其最终范围为0~1\n",
    "        + MinMaxScaler转换器\n",
    "        + 可以通过feature_range进行更改\n",
    "    + 标准化：减去平均值，然后除以方差\n",
    "        + 受到异常值影响最小\n",
    "        + StandadScaler"
   ]
  },
  {
   "cell_type": "markdown",
   "id": "a18e6832",
   "metadata": {},
   "source": [
    "## 转换流水线"
   ]
  },
  {
   "cell_type": "markdown",
   "id": "c9f38125",
   "metadata": {},
   "source": [
    "使转换过程按顺序进行"
   ]
  },
  {
   "cell_type": "markdown",
   "id": "4230c094",
   "metadata": {},
   "source": [
    "# 选择和训练模型"
   ]
  },
  {
   "cell_type": "markdown",
   "id": "39f74903",
   "metadata": {},
   "source": [
    "+ 我们使用了 **线性回归** **决策树** **随机森林** 三个模型\n",
    "+ 训练集上的分数若低于验证集，意味模型对训练集**过度拟合**"
   ]
  },
  {
   "cell_type": "code",
   "execution_count": 25,
   "id": "c51f28b5",
   "metadata": {
    "ExecuteTime": {
     "end_time": "2021-07-19T07:33:24.657183Z",
     "start_time": "2021-07-19T07:33:24.389444Z"
    }
   },
   "outputs": [
    {
     "data": {
      "text/plain": [
       "LinearRegression()"
      ]
     },
     "execution_count": 25,
     "metadata": {},
     "output_type": "execute_result"
    }
   ],
   "source": [
    "## 训练集和标签分别为为train、train_label\n",
    "#将训练集和标签输入线性回归模型  我们已经训练好线性回归模型\n",
    "from sklearn.linear_model import LinearRegression\n",
    "\n",
    "lin_reg = LinearRegression()\n",
    "lin_reg.fit(train,train_label)"
   ]
  },
  {
   "cell_type": "code",
   "execution_count": 32,
   "id": "a1942575",
   "metadata": {
    "ExecuteTime": {
     "end_time": "2021-07-19T07:41:37.898450Z",
     "start_time": "2021-07-19T07:41:37.868685Z"
    }
   },
   "outputs": [
    {
     "data": {
      "text/plain": [
       "198235.87495241652"
      ]
     },
     "execution_count": 32,
     "metadata": {},
     "output_type": "execute_result"
    }
   ],
   "source": [
    "#采取一些数据进行模型衡量\n",
    "from sklearn.metrics import mean_squared_error\n",
    "housing_prediction = lin_reg.predict(train)\n",
    "lin_mse = mean_squared_error(train_label,housing_prediction)\n",
    "lin_rmse = np.sqrt(lin_mse)\n",
    "lin_rmse"
   ]
  },
  {
   "cell_type": "code",
   "execution_count": 34,
   "id": "e243b722",
   "metadata": {
    "ExecuteTime": {
     "end_time": "2021-07-19T09:23:23.263500Z",
     "start_time": "2021-07-19T09:23:22.952302Z"
    }
   },
   "outputs": [
    {
     "data": {
      "text/plain": [
       "DecisionTreeRegressor()"
      ]
     },
     "execution_count": 34,
     "metadata": {},
     "output_type": "execute_result"
    }
   ],
   "source": [
    "#换用决策树模型\n",
    "from sklearn.tree import DecisionTreeRegressor\n",
    "\n",
    "De_tree = DecisionTreeRegressor()\n",
    "De_tree.fit(train,train_label)"
   ]
  },
  {
   "cell_type": "code",
   "execution_count": 36,
   "id": "26d6ba02",
   "metadata": {
    "ExecuteTime": {
     "end_time": "2021-07-19T09:25:17.877989Z",
     "start_time": "2021-07-19T09:25:17.847073Z"
    }
   },
   "outputs": [
    {
     "data": {
      "text/plain": [
       "9992.401913529287"
      ]
     },
     "execution_count": 36,
     "metadata": {},
     "output_type": "execute_result"
    }
   ],
   "source": [
    "housing_prediction2 = De_tree.predict(train)\n",
    "De_rmse = np.sqrt(mean_squared_error(train_label,housing_prediction2))\n",
    "De_rmse"
   ]
  },
  {
   "cell_type": "markdown",
   "id": "7115f2ed",
   "metadata": {},
   "source": [
    "从结果我们可以很明显地看出决策树模型效果明显好于线性回归"
   ]
  },
  {
   "cell_type": "markdown",
   "id": "af79e0c2",
   "metadata": {},
   "source": [
    "## 使用交叉验证来评估"
   ]
  },
  {
   "cell_type": "code",
   "execution_count": 38,
   "id": "7668f745",
   "metadata": {
    "ExecuteTime": {
     "end_time": "2021-07-19T09:30:03.252986Z",
     "start_time": "2021-07-19T09:30:00.765958Z"
    }
   },
   "outputs": [
    {
     "data": {
      "text/plain": [
       "array([165572.25054265, 219732.35699753, 176634.00608641, 217779.87937523,\n",
       "       178888.38845506, 191196.0420302 , 166590.33167334, 205167.02926225,\n",
       "       220671.46623157, 174263.15121049])"
      ]
     },
     "execution_count": 38,
     "metadata": {},
     "output_type": "execute_result"
    }
   ],
   "source": [
    "from sklearn.model_selection import cross_val_score\n",
    "scores = cross_val_score(De_tree,train,train_label,scoring=\"neg_mean_squared_error\",cv=10)\n",
    "rmse_scores = np.sqrt(-scores)"
   ]
  },
  {
   "cell_type": "code",
   "execution_count": 39,
   "id": "fa4c7eb7",
   "metadata": {
    "ExecuteTime": {
     "end_time": "2021-07-19T09:32:13.207207Z",
     "start_time": "2021-07-19T09:32:13.195239Z"
    }
   },
   "outputs": [
    {
     "name": "stdout",
     "output_type": "stream",
     "text": [
      "scores: [-2.74141701e+10 -4.82823087e+10 -3.11995721e+10 -4.74280759e+10\n",
      " -3.20010555e+10 -3.65559265e+10 -2.77523386e+10 -4.20935099e+10\n",
      " -4.86958960e+10 -3.03676459e+10]\n",
      "Mean  : -37179049922.22695\n",
      "Standard deviation: 8238201267.038768\n"
     ]
    }
   ],
   "source": [
    "#交叉验证不仅能得出模型性能的评估值 还能得到其精确度\n",
    "#这里决策树的评分已经上百亿  说明是很不好了  还是前期数据清理的时候工作没有做到位\n",
    "def display_scores(scores):\n",
    "    print(\"scores:\",scores)\n",
    "    print(\"Mean  :\",scores.mean())\n",
    "    print(\"Standard deviation:\",scores.std())\n",
    "    \n",
    "display_scores(scores)"
   ]
  },
  {
   "cell_type": "code",
   "execution_count": 42,
   "id": "db00c412",
   "metadata": {
    "ExecuteTime": {
     "end_time": "2021-07-19T09:41:12.154287Z",
     "start_time": "2021-07-19T09:41:11.808693Z"
    }
   },
   "outputs": [
    {
     "name": "stdout",
     "output_type": "stream",
     "text": [
      "scores: [-3.58891516e+10 -6.18846519e+10 -3.51753591e+10 -4.98111744e+10\n",
      " -3.08290523e+10 -4.43567817e+10 -3.47290373e+10 -3.53817282e+10\n",
      " -3.33833487e+10 -3.44005476e+10]\n",
      "Mean  : -39584083286.988815\n",
      "Standard deviation: 9170478456.711374\n"
     ]
    }
   ],
   "source": [
    "#保险起见  我们评估一下线性回归模型\n",
    "#391亿 比决策树的还差\n",
    "scores2 = cross_val_score(lin_reg,train,train_label,scoring=\"neg_mean_squared_error\",cv=10)\n",
    "rmse_scores = np.sqrt(-scores2)\n",
    "display_scores(scores2)"
   ]
  },
  {
   "cell_type": "code",
   "execution_count": 43,
   "id": "f91afa67",
   "metadata": {
    "ExecuteTime": {
     "end_time": "2021-07-19T09:44:52.220857Z",
     "start_time": "2021-07-19T09:41:35.276600Z"
    }
   },
   "outputs": [
    {
     "name": "stdout",
     "output_type": "stream",
     "text": [
      "scores: [-1.55318087e+10 -2.47575046e+10 -1.40777402e+10 -2.02543458e+10\n",
      " -1.40535469e+10 -1.76206713e+10 -1.28032406e+10 -1.39073901e+10\n",
      " -1.49497846e+10 -1.45595191e+10]\n",
      "Mean  : -16251555202.39626\n",
      "Standard deviation: 3496659984.909993\n"
     ]
    }
   ],
   "source": [
    "#162亿 标准集34亿\n",
    "from sklearn.ensemble import RandomForestRegressor\n",
    "for_rand = RandomForestRegressor()\n",
    "for_rand.fit(train,train_label)\n",
    "scores3 = cross_val_score(for_rand,train,train_label,scoring=\"neg_mean_squared_error\",cv=10)\n",
    "rmse_scores = np.sqrt(-scores3)\n",
    "display_scores(scores3)"
   ]
  },
  {
   "cell_type": "markdown",
   "id": "43db17db",
   "metadata": {},
   "source": [
    "# 模型的保存"
   ]
  },
  {
   "cell_type": "code",
   "execution_count": 47,
   "id": "f336caee",
   "metadata": {
    "ExecuteTime": {
     "end_time": "2021-07-19T09:51:29.728296Z",
     "start_time": "2021-07-19T09:51:29.301428Z"
    }
   },
   "outputs": [],
   "source": [
    "#调用pickel模块或者sklearn.externals.joblib  轻松保存模型\n",
    "#sklearn在0.21版本下可以如上使用  否则 直接导入\n",
    "import joblib\n",
    "#保存模型\n",
    "my_model = for_rand\n",
    "joblib.dump(my_model,\"my_model.pkl\")\n",
    "#加载模型\n",
    "my_model_loaded = joblib.load(\"my_model.pkl\")"
   ]
  },
  {
   "cell_type": "markdown",
   "id": "67b39fb0",
   "metadata": {},
   "source": [
    "# 优化模型"
   ]
  },
  {
   "cell_type": "markdown",
   "id": "0839eebd",
   "metadata": {},
   "source": [
    "## 网格搜索"
   ]
  },
  {
   "cell_type": "code",
   "execution_count": 53,
   "id": "1e37da69",
   "metadata": {
    "ExecuteTime": {
     "end_time": "2021-07-19T10:21:37.669919Z",
     "start_time": "2021-07-19T10:20:44.619769Z"
    }
   },
   "outputs": [
    {
     "data": {
      "text/plain": [
       "{'max_features': 8, 'n_estimators': 30}"
      ]
     },
     "execution_count": 53,
     "metadata": {},
     "output_type": "execute_result"
    }
   ],
   "source": [
    "from sklearn.model_selection import GridSearchCV \n",
    "\n",
    "param_grid = [\n",
    "    {'n_estimators':[3,10,30],'max_features':[2,4,6,8]},\n",
    "    {'bootstrap':[False],'n_estimators':[3,10],'max_features':[2,4,6]}\n",
    "]\n",
    "forest_reg = RandomForestRegressor()\n",
    "grid_search = GridSearchCV(forest_reg,param_grid,cv=5,scoring=\"neg_mean_squared_error\")\n",
    "grid_search.fit(train,train_label)\n",
    "grid_search.best_params_"
   ]
  },
  {
   "cell_type": "code",
   "execution_count": 54,
   "id": "295b19d1",
   "metadata": {
    "ExecuteTime": {
     "end_time": "2021-07-19T10:21:46.173335Z",
     "start_time": "2021-07-19T10:21:46.158377Z"
    }
   },
   "outputs": [
    {
     "data": {
      "text/plain": [
       "RandomForestRegressor(max_features=8, n_estimators=30)"
      ]
     },
     "execution_count": 54,
     "metadata": {},
     "output_type": "execute_result"
    }
   ],
   "source": [
    "#我们也能直接得到最好的估算器\n",
    "grid_search.best_estimator_"
   ]
  },
  {
   "cell_type": "code",
   "execution_count": 57,
   "id": "6b1c5c36",
   "metadata": {
    "ExecuteTime": {
     "end_time": "2021-07-19T10:24:02.240005Z",
     "start_time": "2021-07-19T10:24:02.228036Z"
    }
   },
   "outputs": [
    {
     "name": "stdout",
     "output_type": "stream",
     "text": [
      "178635.1293109104 {'max_features': 2, 'n_estimators': 3}\n",
      "152245.94231501318 {'max_features': 2, 'n_estimators': 10}\n",
      "144116.80006738685 {'max_features': 2, 'n_estimators': 30}\n",
      "163346.25585025837 {'max_features': 4, 'n_estimators': 3}\n",
      "141796.4113426856 {'max_features': 4, 'n_estimators': 10}\n",
      "134223.27385281702 {'max_features': 4, 'n_estimators': 30}\n",
      "157356.5477082861 {'max_features': 6, 'n_estimators': 3}\n",
      "134680.46073678567 {'max_features': 6, 'n_estimators': 10}\n",
      "129324.63199234987 {'max_features': 6, 'n_estimators': 30}\n",
      "154493.59786672026 {'max_features': 8, 'n_estimators': 3}\n",
      "136818.01629705005 {'max_features': 8, 'n_estimators': 10}\n",
      "126692.85112051036 {'max_features': 8, 'n_estimators': 30}\n",
      "172241.29394009805 {'bootstrap': False, 'max_features': 2, 'n_estimators': 3}\n",
      "149712.53185861142 {'bootstrap': False, 'max_features': 2, 'n_estimators': 10}\n",
      "159770.2261169878 {'bootstrap': False, 'max_features': 4, 'n_estimators': 3}\n",
      "133817.99133888545 {'bootstrap': False, 'max_features': 4, 'n_estimators': 10}\n",
      "155830.50021090283 {'bootstrap': False, 'max_features': 6, 'n_estimators': 3}\n",
      "133085.18186777877 {'bootstrap': False, 'max_features': 6, 'n_estimators': 10}\n"
     ]
    }
   ],
   "source": [
    "#我们将网格搜索的结果打印出来\n",
    "cvres = grid_search.cv_results_\n",
    "for mean_score,params in zip(cvres[\"mean_test_score\"],cvres[\"params\"]):\n",
    "    print(np.sqrt(-mean_score),params)"
   ]
  },
  {
   "cell_type": "markdown",
   "id": "981c8ff6",
   "metadata": {},
   "source": [
    "## 随机搜索"
   ]
  },
  {
   "cell_type": "markdown",
   "id": "7aba85de",
   "metadata": {},
   "source": [
    "+ 当探索的范围较大时，我们会优先使用RandomizedSearchCV 使用方法与网格搜索大致相同\n",
    "    + 若运行随机搜索1000个迭代 那么将会探索每个超参数的1000个不同值\n",
    "    + 通过简单地设计迭代次数，可以更好控制要分配给探索的超参数的计算预算"
   ]
  },
  {
   "cell_type": "markdown",
   "id": "1a9991cf",
   "metadata": {},
   "source": [
    "## 集成方法\n",
    "将表现较优的组合结合在一起"
   ]
  },
  {
   "cell_type": "markdown",
   "id": "15f37635",
   "metadata": {},
   "source": [
    "## 分析最佳模型及其错误"
   ]
  },
  {
   "cell_type": "code",
   "execution_count": 61,
   "id": "b6ac03ca",
   "metadata": {
    "ExecuteTime": {
     "end_time": "2021-07-19T10:52:09.497622Z",
     "start_time": "2021-07-19T10:52:09.465711Z"
    }
   },
   "outputs": [
    {
     "data": {
      "text/plain": [
       "array([0.01243637, 0.00350259, 0.03064969, 0.29739642, 0.01463214,\n",
       "       0.00260747, 0.02585476, 0.02386748, 0.00378408, 0.19369498,\n",
       "       0.04893927, 0.01156876, 0.03596613, 0.00298629, 0.02094137,\n",
       "       0.1461017 , 0.05709963, 0.05201037, 0.01596052])"
      ]
     },
     "execution_count": 61,
     "metadata": {},
     "output_type": "execute_result"
    }
   ],
   "source": [
    "f_importances = grid_search.best_estimator_.feature_importances_\n",
    "f_importances"
   ]
  },
  {
   "cell_type": "code",
   "execution_count": null,
   "id": "9c73f66e",
   "metadata": {},
   "outputs": [],
   "source": [
    "extra_attribs = [\"rooms_per_hhold\", \"pop_per_hhold\", \"bedrooms_per_room\"]\n",
    "# cat_encoder: OneHotEncoder()\n",
    "cat_encoder = full_pipeline.named_transformers_[\"cat\"]\n",
    "# cat_one_hot_attribs: ['<1H OCEAN', 'INLAND', 'ISLAND', 'NEAR BAY', 'NEAR OCEAN']\n",
    "cat_one_hot_attribs = list(cat_encoder.categories_[0])\n",
    "attributes = num_attribs + extra_attribs + cat_one_hot_attribs\n",
    "sorted(zip(feature_importances, attributes), reverse=True)"
   ]
  },
  {
   "cell_type": "markdown",
   "id": "963f254e",
   "metadata": {},
   "source": [
    "## 通过测试集评估模型"
   ]
  },
  {
   "cell_type": "markdown",
   "id": "24dad54e",
   "metadata": {},
   "source": [
    "详情见此网页https://blog.csdn.net/qq_43965708/article/details/116483085"
   ]
  },
  {
   "cell_type": "markdown",
   "id": "ef8025f5",
   "metadata": {},
   "source": [
    "# PS:Sklearn的设计"
   ]
  },
  {
   "cell_type": "markdown",
   "id": "b99c0fe7",
   "metadata": {},
   "source": [
    "+ 一致性：所有对象共享一个界面\n",
    "+ 估算性：能够对某些数据集进行估算的任意对象都能称为估算其\n",
    "    + 由fit()执行\n",
    "    + 通常一个参数(监督式学习两个--另一个是标签)\n",
    "    + 引导估算过程的其他参数都是超参数\n",
    "+ 转换器：可以转换数据集的估算器\n",
    "    + transform()方法 返回结果就是转换后的数据集\n",
    "    + 转换过程依赖学习的参数 eg.imputer\n",
    "    + 方便方法：fit_transform()\n",
    "+ 预测器：对给定数据集进行预测的估算器\n",
    "    + eg.linearRegression-->predict() score\n",
    "+ 检查：估算器的超参数可以通过公共实例变量访问\n",
    "+ 防止类扩散\n",
    "+ 构成：现有的构件尽最大可能重用\n",
    "+ 合理默认值"
   ]
  },
  {
   "cell_type": "code",
   "execution_count": null,
   "id": "853f0d5e",
   "metadata": {},
   "outputs": [],
   "source": []
  },
  {
   "cell_type": "code",
   "execution_count": null,
   "id": "f65c990d",
   "metadata": {},
   "outputs": [],
   "source": []
  },
  {
   "cell_type": "code",
   "execution_count": null,
   "id": "79515fb0",
   "metadata": {},
   "outputs": [],
   "source": []
  }
 ],
 "metadata": {
  "kernelspec": {
   "display_name": "Python 3",
   "language": "python",
   "name": "python3"
  },
  "language_info": {
   "codemirror_mode": {
    "name": "ipython",
    "version": 3
   },
   "file_extension": ".py",
   "mimetype": "text/x-python",
   "name": "python",
   "nbconvert_exporter": "python",
   "pygments_lexer": "ipython3",
   "version": "3.8.8"
  },
  "toc": {
   "base_numbering": 1,
   "nav_menu": {},
   "number_sections": true,
   "sideBar": true,
   "skip_h1_title": false,
   "title_cell": "Table of Contents",
   "title_sidebar": "Contents",
   "toc_cell": false,
   "toc_position": {
    "height": "calc(100% - 180px)",
    "left": "10px",
    "top": "150px",
    "width": "165px"
   },
   "toc_section_display": true,
   "toc_window_display": true
  },
  "varInspector": {
   "cols": {
    "lenName": 16,
    "lenType": 16,
    "lenVar": 40
   },
   "kernels_config": {
    "python": {
     "delete_cmd_postfix": "",
     "delete_cmd_prefix": "del ",
     "library": "var_list.py",
     "varRefreshCmd": "print(var_dic_list())"
    },
    "r": {
     "delete_cmd_postfix": ") ",
     "delete_cmd_prefix": "rm(",
     "library": "var_list.r",
     "varRefreshCmd": "cat(var_dic_list()) "
    }
   },
   "types_to_exclude": [
    "module",
    "function",
    "builtin_function_or_method",
    "instance",
    "_Feature"
   ],
   "window_display": false
  }
 },
 "nbformat": 4,
 "nbformat_minor": 5
}
