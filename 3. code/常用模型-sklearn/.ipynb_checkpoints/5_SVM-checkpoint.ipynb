{
 "cells": [
  {
   "cell_type": "markdown",
   "id": "b730b41d",
   "metadata": {},
   "source": [
    "# 支持向量机\n",
    "+ 可以做线性或者非线性的分类、回归、甚至异常值检测\n",
    "+ 适合应用于复杂但中小规模数据集的分类\n",
    "+ SVM对特征缩放非常敏感"
   ]
  },
  {
   "cell_type": "markdown",
   "id": "3d6df8eb",
   "metadata": {},
   "source": [
    "# 线性支持向量机"
   ]
  },
  {
   "cell_type": "code",
   "execution_count": 5,
   "id": "50ed4f07",
   "metadata": {
    "ExecuteTime": {
     "end_time": "2021-07-31T08:08:08.494538Z",
     "start_time": "2021-07-31T08:08:08.472601Z"
    }
   },
   "outputs": [],
   "source": [
    "##SVM模型过拟合 可以尝试减小超参数c去调整\n",
    "import numpy as np\n",
    "from sklearn import datasets\n",
    "from sklearn.pipeline import Pipeline\n",
    "from sklearn.preprocessing import StandardScaler\n",
    "from sklearn.svm import LinearSVC\n",
    "\n",
    "iris = datasets.load_iris()\n",
    "x = iris[\"data\"][: ,(2,3)]\n",
    "## 转换y的数据类型\n",
    "y = (iris[\"target\"] == 2).astype(np.float64)"
   ]
  },
  {
   "cell_type": "code",
   "execution_count": 6,
   "id": "4b096889",
   "metadata": {
    "ExecuteTime": {
     "end_time": "2021-07-31T08:11:47.477211Z",
     "start_time": "2021-07-31T08:11:47.464242Z"
    }
   },
   "outputs": [
    {
     "data": {
      "text/plain": [
       "array([1.])"
      ]
     },
     "execution_count": 6,
     "metadata": {},
     "output_type": "execute_result"
    }
   ],
   "source": [
    "## LinearSVC类 超参数c hinge损失函数\n",
    "svm_clf = Pipeline((\n",
    "    (\"scaler\",StandardScaler()),\n",
    "    (\"linear_svc\",LinearSVC(C=1,loss=\"hinge\"))\n",
    "))\n",
    "\n",
    "svm_clf.fit(x,y)\n",
    "svm_clf.predict([[5.5,1.7]])"
   ]
  },
  {
   "cell_type": "markdown",
   "id": "a197a0fc",
   "metadata": {},
   "source": [
    "# 非线性支持向量机"
   ]
  },
  {
   "cell_type": "code",
   "execution_count": 10,
   "id": "0658a497",
   "metadata": {
    "ExecuteTime": {
     "end_time": "2021-07-31T08:32:16.662312Z",
     "start_time": "2021-07-31T08:32:16.638931Z"
    }
   },
   "outputs": [
    {
     "name": "stderr",
     "output_type": "stream",
     "text": [
      "D:\\9_anaconda\\lib\\site-packages\\sklearn\\svm\\_base.py:986: ConvergenceWarning: Liblinear failed to converge, increase the number of iterations.\n",
      "  \"the number of iterations.\", ConvergenceWarning)\n"
     ]
    },
    {
     "data": {
      "text/plain": [
       "Pipeline(steps=[('poly_features', PolynomialFeatures(degree=3)),\n",
       "                ('scaler', StandardScaler()),\n",
       "                ('svm_clf', LinearSVC(C=10, loss='hinge'))])"
      ]
     },
     "execution_count": 10,
     "metadata": {},
     "output_type": "execute_result"
    }
   ],
   "source": [
    "from sklearn.datasets import make_moons\n",
    "from sklearn.pipeline import Pipeline\n",
    "from sklearn.preprocessing import PolynomialFeatures\n",
    "\n",
    "X, y = make_moons(n_samples=200, noise=0.15, random_state=0)\n",
    "Polynomial_clf = Pipeline((\n",
    "    ('poly_features',PolynomialFeatures(degree=3)),\n",
    "    ('scaler',StandardScaler()),\n",
    "    ('svm_clf',LinearSVC(C=10,loss='hinge'))\n",
    "))\n",
    "Polynomial_clf.fit(X,y)"
   ]
  },
  {
   "cell_type": "markdown",
   "id": "5fa098bf",
   "metadata": {},
   "source": [
    "## 多项式核"
   ]
  },
  {
   "cell_type": "code",
   "execution_count": 12,
   "id": "609099d3",
   "metadata": {
    "ExecuteTime": {
     "end_time": "2021-07-31T08:42:50.983836Z",
     "start_time": "2021-07-31T08:42:49.883193Z"
    }
   },
   "outputs": [
    {
     "data": {
      "text/plain": [
       "Pipeline(steps=[('scaler', StandardScaler()),\n",
       "                ('svm_clf', SVC(C=5, coef0=1, kernel='poly'))])"
      ]
     },
     "execution_count": 12,
     "metadata": {},
     "output_type": "execute_result"
    }
   ],
   "source": [
    "from sklearn.svm import SVC\n",
    "\n",
    "##三阶的多项式核训练SVM训练器 coef0控制高阶多项式与低阶多项式对模型的影响\n",
    "## 网格搜索寻找超参数\n",
    "poly_feature_clf = Pipeline((\n",
    "    ('scaler',StandardScaler()),\n",
    "    ('svm_clf',SVC(kernel='poly',degree=3,coef0=1,C=5))\n",
    "))\n",
    "\n",
    "poly_feature_clf.fit(X,y)"
   ]
  },
  {
   "cell_type": "markdown",
   "id": "b9602faa",
   "metadata": {},
   "source": [
    "## 高斯RBF核 "
   ]
  },
  {
   "cell_type": "code",
   "execution_count": 13,
   "id": "6d8591c0",
   "metadata": {
    "ExecuteTime": {
     "end_time": "2021-07-31T08:42:54.957225Z",
     "start_time": "2021-07-31T08:42:54.932685Z"
    }
   },
   "outputs": [
    {
     "data": {
      "text/plain": [
       "Pipeline(steps=[('scaler', StandardScaler()),\n",
       "                ('svm_clf', SVC(C=0.001, gamma=5))])"
      ]
     },
     "execution_count": 13,
     "metadata": {},
     "output_type": "execute_result"
    }
   ],
   "source": [
    "## 在多特征中获得同样好的结果\n",
    "rbf_kernel_svm_clf = Pipeline((\n",
    "    (\"scaler\",StandardScaler()),\n",
    "    (\"svm_clf\",SVC(kernel='rbf',gamma=5,C=0.001))\n",
    "))\n",
    "\n",
    "rbf_kernel_svm_clf.fit(X,y)"
   ]
  },
  {
   "cell_type": "markdown",
   "id": "a5f0e7e4",
   "metadata": {},
   "source": [
    "**核函数选择顺序：线性核函数(LinerSVC快于SVC(kerner=\"svc\"))->RBF->交叉验证+网格搜索**"
   ]
  },
  {
   "cell_type": "code",
   "execution_count": null,
   "id": "70e508f2",
   "metadata": {},
   "outputs": [],
   "source": []
  }
 ],
 "metadata": {
  "kernelspec": {
   "display_name": "Python 3",
   "language": "python",
   "name": "python3"
  },
  "language_info": {
   "codemirror_mode": {
    "name": "ipython",
    "version": 3
   },
   "file_extension": ".py",
   "mimetype": "text/x-python",
   "name": "python",
   "nbconvert_exporter": "python",
   "pygments_lexer": "ipython3",
   "version": "3.8.8"
  },
  "toc": {
   "base_numbering": 1,
   "nav_menu": {},
   "number_sections": true,
   "sideBar": true,
   "skip_h1_title": false,
   "title_cell": "Table of Contents",
   "title_sidebar": "Contents",
   "toc_cell": false,
   "toc_position": {},
   "toc_section_display": true,
   "toc_window_display": false
  },
  "varInspector": {
   "cols": {
    "lenName": 16,
    "lenType": 16,
    "lenVar": 40
   },
   "kernels_config": {
    "python": {
     "delete_cmd_postfix": "",
     "delete_cmd_prefix": "del ",
     "library": "var_list.py",
     "varRefreshCmd": "print(var_dic_list())"
    },
    "r": {
     "delete_cmd_postfix": ") ",
     "delete_cmd_prefix": "rm(",
     "library": "var_list.r",
     "varRefreshCmd": "cat(var_dic_list()) "
    }
   },
   "types_to_exclude": [
    "module",
    "function",
    "builtin_function_or_method",
    "instance",
    "_Feature"
   ],
   "window_display": false
  }
 },
 "nbformat": 4,
 "nbformat_minor": 5
}
