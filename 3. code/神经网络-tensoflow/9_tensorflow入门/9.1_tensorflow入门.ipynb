{
 "cells": [
  {
   "cell_type": "markdown",
   "id": "ae3f0d61",
   "metadata": {},
   "source": [
    "# Tensor数据类型 \n",
    "+ tf.constant(a):常量 普通tensor\n",
    "+ tf.is_tensor(a)//instance(x,type):判断类型\n",
    "+ tf.conver_to_tensor(x,dtype=tf.int32):numpy转为tenso\n",
    "+ tf.cast(x,dtype=bool):tensor内部类型转换\n",
    "+ tf.constant(a).numpy()tensor转为numpy"
   ]
  },
  {
   "cell_type": "code",
   "execution_count": 1,
   "id": "a3c8f583",
   "metadata": {
    "ExecuteTime": {
     "end_time": "2021-08-03T16:13:47.696813Z",
     "start_time": "2021-08-03T16:13:47.682851Z"
    }
   },
   "outputs": [],
   "source": [
    "import tensorflow as tf"
   ]
  },
  {
   "cell_type": "code",
   "execution_count": 3,
   "id": "9d6d1cff",
   "metadata": {
    "ExecuteTime": {
     "end_time": "2021-08-03T16:15:41.678444Z",
     "start_time": "2021-08-03T16:15:41.644507Z"
    }
   },
   "outputs": [
    {
     "data": {
      "text/plain": [
       "<tf.Tensor: id=3, shape=(), dtype=string, numpy=b'hello world'>"
      ]
     },
     "execution_count": 3,
     "metadata": {},
     "output_type": "execute_result"
    }
   ],
   "source": [
    "# tensor的定义\n",
    "\n",
    "# tf.constant(1)\n",
    "# #<tf.Tensor: shape=(), dtype=int32, numpy=1> 整形常量\n",
    "# tf.constant(1.)\n",
    "# # <tf.Tensor: shape=(), dtype=float32, numpy=1.0> 浮点常量\n",
    "tf.constant([True,False])\n",
    "tf.constant(\"hello world\")"
   ]
  },
  {
   "cell_type": "code",
   "execution_count": 4,
   "id": "6f604e96",
   "metadata": {
    "ExecuteTime": {
     "end_time": "2021-08-04T16:13:10.859419Z",
     "start_time": "2021-08-04T16:13:10.845414Z"
    }
   },
   "outputs": [
    {
     "data": {
      "text/plain": [
       "tf.float16"
      ]
     },
     "execution_count": 4,
     "metadata": {},
     "output_type": "execute_result"
    }
   ],
   "source": [
    "#tensor的属性\n",
    "\n",
    "a = tf.constant(1)\n",
    "#a.dtype\n",
    "#tf.is_tensor(a)\n",
    "#isinstance(a,tf.tensor)\n",
    "a = tf.cast(a,dtype=tf.float16)\n",
    "a.dtype"
   ]
  },
  {
   "cell_type": "code",
   "execution_count": 5,
   "id": "23a0b308",
   "metadata": {
    "ExecuteTime": {
     "end_time": "2021-08-03T16:21:05.990266Z",
     "start_time": "2021-08-03T16:21:05.949318Z"
    }
   },
   "outputs": [
    {
     "data": {
      "text/plain": [
       "'Variable:0'"
      ]
     },
     "execution_count": 5,
     "metadata": {},
     "output_type": "execute_result"
    }
   ],
   "source": [
    "# 数据类型转化 \n",
    "\n",
    "# tf.Variable\n",
    "a = tf.range(5) #numpy=array([0, 1, 2, 3, 4])\n",
    "b = tf.Variable(a) #自动进行求导\n",
    "b.name #'Variable:0' 记录a的求导属性"
   ]
  },
  {
   "cell_type": "markdown",
   "id": "92389dcc",
   "metadata": {},
   "source": [
    "## tensor 转为 numpy"
   ]
  },
  {
   "cell_type": "code",
   "execution_count": 6,
   "id": "489613d5",
   "metadata": {
    "ExecuteTime": {
     "end_time": "2021-08-03T16:26:17.236003Z",
     "start_time": "2021-08-03T16:26:17.213064Z"
    }
   },
   "outputs": [
    {
     "data": {
      "text/plain": [
       "array([0, 1, 2, 3, 4])"
      ]
     },
     "execution_count": 6,
     "metadata": {},
     "output_type": "execute_result"
    }
   ],
   "source": [
    "# tensor 转为 numpy\n",
    "\n",
    "a = tf.range(5)\n",
    "a.numpy() #a本身的属性是没有改变  依旧是tensor\n"
   ]
  },
  {
   "cell_type": "markdown",
   "id": "dc134e9d",
   "metadata": {},
   "source": [
    "# 创建 Tensor\n",
    "+ tf.zeros:float32 0\n",
    "+ tf.ones:float32 1\n",
    "+ tf.fill([形状],a):创建值为a的、形状为[]的tensor\n",
    "+ tf.random.normal([],mean=a,stddev=b)：创建均值为a 方差为b的正态分布tensor\n",
    "+ tf.random.uniform([],minval=a,maxval=b)：创建[a,b]区间的均匀分布矩阵\n",
    "+ tf.random.shuffle(a):打乱顺序\n",
    "+ tf.gather(a,idx):按照idx重塑数据a\n",
    "+ tf.ont_hot(x,depth=10):深度为10的连1矩阵\n",
    "+ tf.keras.losses.mse(label,out):求mse "
   ]
  },
  {
   "cell_type": "markdown",
   "id": "889b9837",
   "metadata": {},
   "source": [
    "## numpy list "
   ]
  },
  {
   "cell_type": "code",
   "execution_count": 2,
   "id": "54679418",
   "metadata": {
    "ExecuteTime": {
     "end_time": "2021-08-04T09:48:38.492474Z",
     "start_time": "2021-08-04T09:48:38.451499Z"
    }
   },
   "outputs": [
    {
     "data": {
      "text/plain": [
       "<tf.Tensor: shape=(2, 3), dtype=float64, numpy=\n",
       "array([[0., 0., 0.],\n",
       "       [0., 0., 0.]])>"
      ]
     },
     "execution_count": 2,
     "metadata": {},
     "output_type": "execute_result"
    }
   ],
   "source": [
    "import tensorflow as tf\n",
    "import numpy as np\n",
    "\n",
    "tf.convert_to_tensor(np.zeros([2,3]))"
   ]
  },
  {
   "cell_type": "markdown",
   "id": "deb7554f",
   "metadata": {},
   "source": [
    "## zeros ones fill"
   ]
  },
  {
   "cell_type": "markdown",
   "id": "47bcf5b2",
   "metadata": {},
   "source": [
    "zeros(同ones)\n",
    "<br> 使用tf.zeros()创建float32类型数据  转类型的话会变为int32"
   ]
  },
  {
   "cell_type": "code",
   "execution_count": 3,
   "id": "dea18a7e",
   "metadata": {
    "ExecuteTime": {
     "end_time": "2021-08-04T10:00:15.824811Z",
     "start_time": "2021-08-04T10:00:15.801575Z"
    }
   },
   "outputs": [
    {
     "data": {
      "text/plain": [
       "<tf.Tensor: shape=(2, 3), dtype=float32, numpy=\n",
       "array([[0., 0., 0.],\n",
       "       [0., 0., 0.]], dtype=float32)>"
      ]
     },
     "execution_count": 3,
     "metadata": {},
     "output_type": "execute_result"
    }
   ],
   "source": [
    "#zeros 创建规定行列的矩阵 (类型为float32 值为0)\n",
    "\n",
    "#tf.zeros([])\n",
    "tf.zeros([2,3])"
   ]
  },
  {
   "cell_type": "code",
   "execution_count": 4,
   "id": "bf20f81e",
   "metadata": {
    "ExecuteTime": {
     "end_time": "2021-08-04T10:01:57.145457Z",
     "start_time": "2021-08-04T10:01:57.133091Z"
    }
   },
   "outputs": [
    {
     "data": {
      "text/plain": [
       "<tf.Tensor: shape=(1,), dtype=int32, numpy=array([0])>"
      ]
     },
     "execution_count": 4,
     "metadata": {},
     "output_type": "execute_result"
    }
   ],
   "source": [
    "a = tf.constant([0])\n",
    "tf.zeros_like(a) #等价为tf.zeros(a.ashape) "
   ]
  },
  {
   "cell_type": "code",
   "execution_count": 5,
   "id": "74cf3018",
   "metadata": {
    "ExecuteTime": {
     "end_time": "2021-08-04T10:04:32.181981Z",
     "start_time": "2021-08-04T10:04:32.168495Z"
    }
   },
   "outputs": [
    {
     "data": {
      "text/plain": [
       "<tf.Tensor: shape=(2, 3), dtype=int32, numpy=\n",
       "array([[0, 0, 0],\n",
       "       [0, 0, 0]])>"
      ]
     },
     "execution_count": 5,
     "metadata": {},
     "output_type": "execute_result"
    }
   ],
   "source": [
    "#fill\n",
    "\n",
    "tf.fill([2,3],0) #dtype=int32"
   ]
  },
  {
   "cell_type": "markdown",
   "id": "82db80e2",
   "metadata": {},
   "source": [
    "## random"
   ]
  },
  {
   "cell_type": "code",
   "execution_count": 6,
   "id": "b79578ca",
   "metadata": {
    "ExecuteTime": {
     "end_time": "2021-08-04T10:07:09.245838Z",
     "start_time": "2021-08-04T10:07:09.224828Z"
    }
   },
   "outputs": [
    {
     "data": {
      "text/plain": [
       "<tf.Tensor: shape=(2, 2), dtype=float32, numpy=\n",
       "array([[1.7395563, 1.5155125],\n",
       "       [3.4605916, 1.0846611]], dtype=float32)>"
      ]
     },
     "execution_count": 6,
     "metadata": {},
     "output_type": "execute_result"
    }
   ],
   "source": [
    "#正态分布 均值为1 方差为1\n",
    "tf.random.normal([2,2],mean=1,stddev=1)"
   ]
  },
  {
   "cell_type": "code",
   "execution_count": 7,
   "id": "0f85d475",
   "metadata": {
    "ExecuteTime": {
     "end_time": "2021-08-04T10:07:32.312773Z",
     "start_time": "2021-08-04T10:07:32.299035Z"
    }
   },
   "outputs": [
    {
     "data": {
      "text/plain": [
       "<tf.Tensor: shape=(2, 2), dtype=float32, numpy=\n",
       "array([[ 0.24354562,  1.3536524 ],\n",
       "       [-1.5167385 , -1.1512249 ]], dtype=float32)>"
      ]
     },
     "execution_count": 7,
     "metadata": {},
     "output_type": "execute_result"
    }
   ],
   "source": [
    "tf.random.normal([2,2])"
   ]
  },
  {
   "cell_type": "code",
   "execution_count": null,
   "id": "ab5bd61b",
   "metadata": {},
   "outputs": [],
   "source": [
    "#截断的正太分布\n",
    "tf.random.truncated_normal([2,2],mean=0,stddev=1)"
   ]
  },
  {
   "cell_type": "markdown",
   "id": "9085da09",
   "metadata": {},
   "source": [
    "+ 截断分布是指，限制变量x 取值范围(scope)的一种分布。例如，限制x取值在0到50之间，即{0<x<50}。因此，根据限制条件的不同，截断分布可以分为：\n",
    "    + 限制取值上限，例如，负无穷<x<50\n",
    "    + 限制取值下限，例如，0<x<正无穷\n",
    "    + 上限下限取值都限制，例如，0<x<50"
   ]
  },
  {
   "cell_type": "code",
   "execution_count": 10,
   "id": "b7590a60",
   "metadata": {
    "ExecuteTime": {
     "end_time": "2021-08-04T10:11:54.304869Z",
     "start_time": "2021-08-04T10:11:54.283186Z"
    }
   },
   "outputs": [
    {
     "data": {
      "text/plain": [
       "<tf.Tensor: shape=(2, 2), dtype=int32, numpy=\n",
       "array([[57,  4],\n",
       "       [98, 73]])>"
      ]
     },
     "execution_count": 10,
     "metadata": {},
     "output_type": "execute_result"
    }
   ],
   "source": [
    "# 均匀分布\n",
    "tf.random.uniform([2,2],minval=0,maxval=100,dtype=tf.int32)"
   ]
  },
  {
   "cell_type": "code",
   "execution_count": 18,
   "id": "3e2aea89",
   "metadata": {
    "ExecuteTime": {
     "end_time": "2021-08-04T10:16:50.069038Z",
     "start_time": "2021-08-04T10:16:50.058520Z"
    }
   },
   "outputs": [
    {
     "data": {
      "text/plain": [
       "<tf.Tensor: shape=(10,), dtype=int32, numpy=array([2, 7, 3, 6, 1, 9, 8, 0, 5, 4])>"
      ]
     },
     "execution_count": 18,
     "metadata": {},
     "output_type": "execute_result"
    }
   ],
   "source": [
    "## 打断idx后  a,b索引不变\n",
    "\n",
    "idx = tf.range(10)\n",
    "idx = tf.random.shuffle(idx)\n",
    "idx\n",
    "# idx  <tf.Tensor: shape=(10,), dtype=int32, numpy=array([5, 0, 3, 6, 7, 4, 2, 9, 8, 1])>"
   ]
  },
  {
   "cell_type": "code",
   "execution_count": 19,
   "id": "3e2e110f",
   "metadata": {
    "ExecuteTime": {
     "end_time": "2021-08-04T10:16:51.342437Z",
     "start_time": "2021-08-04T10:16:51.323268Z"
    }
   },
   "outputs": [
    {
     "data": {
      "text/plain": [
       "<tf.Tensor: shape=(10,), dtype=int32, numpy=array([6, 4, 5, 7, 2, 2, 6, 7, 5, 6])>"
      ]
     },
     "execution_count": 19,
     "metadata": {},
     "output_type": "execute_result"
    }
   ],
   "source": [
    "a = tf.random.normal([10,784])\n",
    "b = tf.random.uniform([10],maxval=10,dtype=tf.int32)\n",
    "b"
   ]
  },
  {
   "cell_type": "code",
   "execution_count": 20,
   "id": "8308329d",
   "metadata": {
    "ExecuteTime": {
     "end_time": "2021-08-04T10:16:52.391718Z",
     "start_time": "2021-08-04T10:16:52.371082Z"
    }
   },
   "outputs": [
    {
     "data": {
      "text/plain": [
       "<tf.Tensor: shape=(10,), dtype=int32, numpy=array([5, 7, 7, 6, 4, 6, 5, 6, 2, 2])>"
      ]
     },
     "execution_count": 20,
     "metadata": {},
     "output_type": "execute_result"
    }
   ],
   "source": [
    "#根据规定好的索引来收集数据\n",
    "a = tf.gather(a,idx)\n",
    "b = tf.gather(b,idx)\n",
    "b"
   ]
  },
  {
   "cell_type": "markdown",
   "id": "373c773f",
   "metadata": {},
   "source": [
    "## loss计算 "
   ]
  },
  {
   "cell_type": "code",
   "execution_count": 21,
   "id": "4d1c2e87",
   "metadata": {
    "ExecuteTime": {
     "end_time": "2021-08-04T10:22:53.198630Z",
     "start_time": "2021-08-04T10:22:53.167253Z"
    }
   },
   "outputs": [
    {
     "data": {
      "text/plain": [
       "<tf.Tensor: shape=(4, 10), dtype=float32, numpy=\n",
       "array([[0.91706014, 0.6028607 , 0.94118524, 0.6287633 , 0.20673192,\n",
       "        0.3472966 , 0.23640132, 0.7508693 , 0.17707789, 0.827335  ],\n",
       "       [0.29381335, 0.49683583, 0.07704091, 0.7920108 , 0.07193172,\n",
       "        0.90723515, 0.5830134 , 0.35412967, 0.2655207 , 0.1540463 ],\n",
       "       [0.9750924 , 0.8159231 , 0.32416308, 0.5775384 , 0.8204012 ,\n",
       "        0.2860775 , 0.9213507 , 0.53774893, 0.41607523, 0.17705369],\n",
       "       [0.5273237 , 0.7081882 , 0.30076587, 0.50427234, 0.5887846 ,\n",
       "        0.2800244 , 0.00454199, 0.19444561, 0.5863639 , 0.34619105]],\n",
       "      dtype=float32)>"
      ]
     },
     "execution_count": 21,
     "metadata": {},
     "output_type": "execute_result"
    }
   ],
   "source": [
    "# 无bias的loss\n",
    "\n",
    "out = tf.random.uniform([4,10])\n",
    "out"
   ]
  },
  {
   "cell_type": "code",
   "execution_count": 26,
   "id": "eb7e3296",
   "metadata": {
    "ExecuteTime": {
     "end_time": "2021-08-04T10:27:31.979140Z",
     "start_time": "2021-08-04T10:27:31.955602Z"
    }
   },
   "outputs": [
    {
     "data": {
      "text/plain": [
       "<tf.Tensor: shape=(4, 10), dtype=float32, numpy=\n",
       "array([[1., 0., 0., 0., 0., 0., 0., 0., 0., 0.],\n",
       "       [0., 1., 0., 0., 0., 0., 0., 0., 0., 0.],\n",
       "       [0., 0., 1., 0., 0., 0., 0., 0., 0., 0.],\n",
       "       [0., 0., 0., 1., 0., 0., 0., 0., 0., 0.]], dtype=float32)>"
      ]
     },
     "execution_count": 26,
     "metadata": {},
     "output_type": "execute_result"
    }
   ],
   "source": [
    "y = tf.range(4)\n",
    "y = tf.one_hot(y,depth=10) #返回one-hot张量\n",
    "y"
   ]
  },
  {
   "cell_type": "code",
   "execution_count": 27,
   "id": "5795883d",
   "metadata": {
    "ExecuteTime": {
     "end_time": "2021-08-04T10:28:34.902439Z",
     "start_time": "2021-08-04T10:28:34.861656Z"
    }
   },
   "outputs": [
    {
     "data": {
      "text/plain": [
       "<tf.Tensor: shape=(4,), dtype=float32, numpy=array([0.3150376 , 0.23605108, 0.45042676, 0.20423885], dtype=float32)>"
      ]
     },
     "execution_count": 27,
     "metadata": {},
     "output_type": "execute_result"
    }
   ],
   "source": [
    "loss = tf.keras.losses.mse(y,out)\n",
    "loss"
   ]
  },
  {
   "cell_type": "code",
   "execution_count": 28,
   "id": "b660451c",
   "metadata": {
    "ExecuteTime": {
     "end_time": "2021-08-04T10:29:33.534314Z",
     "start_time": "2021-08-04T10:29:33.502334Z"
    }
   },
   "outputs": [
    {
     "data": {
      "text/plain": [
       "<tf.Tensor: shape=(), dtype=float32, numpy=0.30143857>"
      ]
     },
     "execution_count": 28,
     "metadata": {},
     "output_type": "execute_result"
    }
   ],
   "source": [
    "tf.reduce_mean(loss)"
   ]
  },
  {
   "cell_type": "markdown",
   "id": "ace32518",
   "metadata": {},
   "source": [
    "# 索引和切片 \n",
    "+ a.shape：查看tensor属性\n",
    "+ a[::-1]：倒序\n",
    "+ tf.gather(x,axis=0,indices=[]):收集特定行\n",
    "+ tf.gather_nd(x,[])取某一维度xx"
   ]
  },
  {
   "cell_type": "markdown",
   "id": "e331cd6b",
   "metadata": {},
   "source": [
    "## numpy 索引"
   ]
  },
  {
   "cell_type": "code",
   "execution_count": 36,
   "id": "8e3be0dc",
   "metadata": {
    "ExecuteTime": {
     "end_time": "2021-08-04T10:34:07.906570Z",
     "start_time": "2021-08-04T10:34:07.796015Z"
    }
   },
   "outputs": [
    {
     "data": {
      "text/plain": [
       "<tf.Tensor: shape=(), dtype=float32, numpy=1.0>"
      ]
     },
     "execution_count": 36,
     "metadata": {},
     "output_type": "execute_result"
    }
   ],
   "source": [
    "import tensorflow as tf\n",
    "a = tf.ones([1,5,5,3])\n",
    "a[0][4]\n",
    "a[0][0][0]\n",
    "a[0][0][0][2]"
   ]
  },
  {
   "cell_type": "code",
   "execution_count": 44,
   "id": "dc26c87d",
   "metadata": {
    "ExecuteTime": {
     "end_time": "2021-08-04T10:43:39.014612Z",
     "start_time": "2021-08-04T10:43:38.996660Z"
    }
   },
   "outputs": [
    {
     "data": {
      "text/plain": [
       "<tf.Tensor: shape=(2,), dtype=int32, numpy=array([2, 0])>"
      ]
     },
     "execution_count": 44,
     "metadata": {},
     "output_type": "execute_result"
    }
   ],
   "source": [
    "#切片 \n",
    "\n",
    "#一维切片 同numpy\n",
    "a = tf.range(10)\n",
    "a[-1:] \n",
    "a[-2:]\n",
    "\n",
    "#倒序\n",
    "a[::-1] #[9, 8, 7, 6, 5, 4, 3, 2, 1, 0]\n",
    "a[::-2] #[9, 7, 5, 3, 1]\n",
    "a[2::-2]"
   ]
  },
  {
   "cell_type": "code",
   "execution_count": 38,
   "id": "7faae9e2",
   "metadata": {
    "ExecuteTime": {
     "end_time": "2021-08-04T10:39:09.228967Z",
     "start_time": "2021-08-04T10:39:09.131258Z"
    }
   },
   "outputs": [
    {
     "data": {
      "text/plain": [
       "TensorShape([1, 5, 5, 3])"
      ]
     },
     "execution_count": 38,
     "metadata": {},
     "output_type": "execute_result"
    }
   ],
   "source": [
    "#二维切片\n",
    "a = tf.random.normal([1,5,5,3])\n",
    "a.shape"
   ]
  },
  {
   "cell_type": "code",
   "execution_count": 39,
   "id": "2479e4d4",
   "metadata": {
    "ExecuteTime": {
     "end_time": "2021-08-04T10:40:31.282913Z",
     "start_time": "2021-08-04T10:40:31.267947Z"
    }
   },
   "outputs": [
    {
     "data": {
      "text/plain": [
       "TensorShape([5, 5, 3])"
      ]
     },
     "execution_count": 39,
     "metadata": {},
     "output_type": "execute_result"
    }
   ],
   "source": [
    "a[0].shape #等同于a[0,:,:,:].shape"
   ]
  },
  {
   "cell_type": "markdown",
   "id": "d3c9770d",
   "metadata": {},
   "source": [
    "## **...省略号 同前**"
   ]
  },
  {
   "cell_type": "code",
   "execution_count": 45,
   "id": "9a3e549c",
   "metadata": {
    "ExecuteTime": {
     "end_time": "2021-08-04T10:45:34.991905Z",
     "start_time": "2021-08-04T10:45:34.955998Z"
    }
   },
   "outputs": [
    {
     "data": {
      "text/plain": [
       "TensorShape([1, 4, 3, 2, 1])"
      ]
     },
     "execution_count": 45,
     "metadata": {},
     "output_type": "execute_result"
    }
   ],
   "source": [
    "a = tf.random.normal([1,4,3,2,1])\n",
    "a.shape"
   ]
  },
  {
   "cell_type": "code",
   "execution_count": 47,
   "id": "2f80e4c0",
   "metadata": {
    "ExecuteTime": {
     "end_time": "2021-08-04T10:45:51.125531Z",
     "start_time": "2021-08-04T10:45:51.103578Z"
    }
   },
   "outputs": [
    {
     "data": {
      "text/plain": [
       "TensorShape([4, 3, 2, 1])"
      ]
     },
     "execution_count": 47,
     "metadata": {},
     "output_type": "execute_result"
    }
   ],
   "source": [
    "a[0,...].shape"
   ]
  },
  {
   "cell_type": "markdown",
   "id": "3d366492",
   "metadata": {},
   "source": [
    "## selecting indexing\n",
    "+ gather 收集特定行 维数大于目标便显示全部\n",
    "+ gather_nd 选择某一维度\n"
   ]
  },
  {
   "cell_type": "code",
   "execution_count": 51,
   "id": "cd7e507c",
   "metadata": {
    "ExecuteTime": {
     "end_time": "2021-08-04T10:49:20.460366Z",
     "start_time": "2021-08-04T10:49:20.445395Z"
    }
   },
   "outputs": [
    {
     "data": {
      "text/plain": [
       "TensorShape([5, 4, 3])"
      ]
     },
     "execution_count": 51,
     "metadata": {},
     "output_type": "execute_result"
    }
   ],
   "source": [
    "a = tf.random.normal([5,4,3])\n",
    "a.shape"
   ]
  },
  {
   "cell_type": "code",
   "execution_count": 52,
   "id": "5e914c7e",
   "metadata": {
    "ExecuteTime": {
     "end_time": "2021-08-04T10:49:21.382179Z",
     "start_time": "2021-08-04T10:49:21.362217Z"
    }
   },
   "outputs": [
    {
     "data": {
      "text/plain": [
       "TensorShape([2, 4, 3])"
      ]
     },
     "execution_count": 52,
     "metadata": {},
     "output_type": "execute_result"
    }
   ],
   "source": [
    "tf.gather(a,axis=0,indices=[2,3]).shape"
   ]
  },
  {
   "cell_type": "code",
   "execution_count": 55,
   "id": "15fc1289",
   "metadata": {
    "ExecuteTime": {
     "end_time": "2021-08-04T10:51:42.809238Z",
     "start_time": "2021-08-04T10:51:42.796273Z"
    }
   },
   "outputs": [
    {
     "data": {
      "text/plain": [
       "TensorShape([4, 3])"
      ]
     },
     "execution_count": 55,
     "metadata": {},
     "output_type": "execute_result"
    }
   ],
   "source": [
    "tf.gather_nd(a,[0]).shape #[[0] [] []]"
   ]
  },
  {
   "cell_type": "markdown",
   "id": "36216f9a",
   "metadata": {},
   "source": [
    "# 维度变化 \n",
    "+ a.shape a.ndim :属性 维度\n",
    "+ tf.reshape(x,[]):将tensor x转化为[]形状\n",
    "+ tf.transpose(x,perm=[]):按照索引转化维度\n",
    "+ tf.expend_dims(x,axis=0)：在axis前增加一个维度\n",
    "+ tf.squeeze(x,axis=0):删除axis的维度(**如果没有axis 便删除维度1**)"
   ]
  },
  {
   "cell_type": "markdown",
   "id": "b194103e",
   "metadata": {},
   "source": [
    "## 图片视图\n",
    "+ [b, 28, 28] # 保存b张图片，28行，28列（保存数据一般行优先），图片的数据没有被破坏\n",
    "+ [b, 28*28] # 保存b张图片，不考虑图片的行和列，只保存图片的数据，不关注图片数据的细节\n",
    "+ [b, 2, 14*28] # 保存b张图片，把图片分为上下两个部分，两个部分具体多少行是不清楚的\n",
    "+ [b, 28, 28, 1] # 保存b张图片，28行，28列，1个通道"
   ]
  },
  {
   "cell_type": "markdown",
   "id": "2cd92dac",
   "metadata": {},
   "source": [
    "## Reshape(重塑视图)"
   ]
  },
  {
   "cell_type": "code",
   "execution_count": 56,
   "id": "10d8bc90",
   "metadata": {
    "ExecuteTime": {
     "end_time": "2021-08-04T10:58:57.758064Z",
     "start_time": "2021-08-04T10:58:57.728144Z"
    }
   },
   "outputs": [
    {
     "name": "stdout",
     "output_type": "stream",
     "text": [
      "(4, 28, 28, 3) 4\n"
     ]
    }
   ],
   "source": [
    "a = tf.random.normal([4,28,28,3])\n",
    "print(a.shape,a.ndim)"
   ]
  },
  {
   "cell_type": "code",
   "execution_count": 57,
   "id": "38a1426c",
   "metadata": {
    "ExecuteTime": {
     "end_time": "2021-08-04T10:59:54.266714Z",
     "start_time": "2021-08-04T10:59:54.231808Z"
    }
   },
   "outputs": [
    {
     "data": {
      "text/plain": [
       "TensorShape([4, 784, 3])"
      ]
     },
     "execution_count": 57,
     "metadata": {},
     "output_type": "execute_result"
    }
   ],
   "source": [
    "tf.reshape(a,[4,784,3]).shape #给出一张图片某个通道的数据 丢失行、宽的信息\n",
    "#等同于 tf.reshape(a,[4,-1,3]).shape # 4*(-1)*3=4*28*28*3"
   ]
  },
  {
   "cell_type": "code",
   "execution_count": 58,
   "id": "b24f2258",
   "metadata": {
    "ExecuteTime": {
     "end_time": "2021-08-04T11:49:25.739530Z",
     "start_time": "2021-08-04T11:49:25.705624Z"
    }
   },
   "outputs": [
    {
     "data": {
      "text/plain": [
       "TensorShape([4, 2352])"
      ]
     },
     "execution_count": 58,
     "metadata": {},
     "output_type": "execute_result"
    }
   ],
   "source": [
    "tf.reshape(a,[4,784*3]).shape #给出一张图所有信息 地市行、宽、通道的信息\n",
    "#等同于 tf.reshape(a,[4,-1]).shape"
   ]
  },
  {
   "cell_type": "markdown",
   "id": "a3d3c648",
   "metadata": {},
   "source": [
    "## Reshape(恢复视图)"
   ]
  },
  {
   "cell_type": "code",
   "execution_count": 59,
   "id": "df40db59",
   "metadata": {
    "ExecuteTime": {
     "end_time": "2021-08-04T11:53:52.678633Z",
     "start_time": "2021-08-04T11:53:52.638184Z"
    }
   },
   "outputs": [
    {
     "data": {
      "text/plain": [
       "TensorShape([4, 28, 28, 3])"
      ]
     },
     "execution_count": 59,
     "metadata": {},
     "output_type": "execute_result"
    }
   ],
   "source": [
    "# 两层封装\n",
    "tf.reshape(tf.reshape(a,[4,-1]),[4,28,28,3]).shape"
   ]
  },
  {
   "cell_type": "markdown",
   "id": "173a562a",
   "metadata": {},
   "source": [
    "## Transpose "
   ]
  },
  {
   "cell_type": "code",
   "execution_count": 60,
   "id": "0c7fbe05",
   "metadata": {
    "ExecuteTime": {
     "end_time": "2021-08-04T11:56:33.812846Z",
     "start_time": "2021-08-04T11:56:33.761970Z"
    }
   },
   "outputs": [
    {
     "data": {
      "text/plain": [
       "TensorShape([1, 2, 3, 4])"
      ]
     },
     "execution_count": 60,
     "metadata": {},
     "output_type": "execute_result"
    }
   ],
   "source": [
    "a = tf.random.normal([4,3,2,1])\n",
    "tf.transpose(a).shape"
   ]
  },
  {
   "cell_type": "code",
   "execution_count": 62,
   "id": "f73b7d5f",
   "metadata": {
    "ExecuteTime": {
     "end_time": "2021-08-04T11:57:19.789443Z",
     "start_time": "2021-08-04T11:57:19.779637Z"
    }
   },
   "outputs": [
    {
     "data": {
      "text/plain": [
       "TensorShape([4, 3, 1, 2])"
      ]
     },
     "execution_count": 62,
     "metadata": {},
     "output_type": "execute_result"
    }
   ],
   "source": [
    "tf.transpose(a,perm=[0,1,3,2]).shape #按照索引进行转置 perm可以省略"
   ]
  },
  {
   "cell_type": "markdown",
   "id": "f27cd106",
   "metadata": {},
   "source": [
    "## Expand_dims/Squeeze"
   ]
  },
  {
   "cell_type": "code",
   "execution_count": null,
   "id": "588d33aa",
   "metadata": {},
   "outputs": [],
   "source": [
    "a = tf.random.normal([4,25,8])\n",
    "tf.expand_dims(a,axis=0).shape #索引0前 axis控制增加维度位置\n",
    "tf.expand_dims(a,axis=1).shape\n",
    "tf.squeeze(a,axis=0).shape"
   ]
  },
  {
   "cell_type": "markdown",
   "id": "c72580f0",
   "metadata": {},
   "source": [
    "# Broadcasting\n",
    "+ 某一些方面 tensor之间可以相加\n",
    "+ tf.broadcast_to(x,[]):将某维度扩展至[]形状\n",
    "+ tf.tile(x，[a,b,c]):一维复制a次，二维复制b次，三维复制c次\n",
    "<br>Broadingcasting可以理解为把维度分为大维度和小维度，小维度较为具体，大维度更加抽象"
   ]
  },
  {
   "cell_type": "code",
   "execution_count": 72,
   "id": "f12ff7bf",
   "metadata": {
    "ExecuteTime": {
     "end_time": "2021-08-04T12:16:34.289860Z",
     "start_time": "2021-08-04T12:16:34.276892Z"
    }
   },
   "outputs": [
    {
     "name": "stdout",
     "output_type": "stream",
     "text": [
      "Incompatible shapes: [4,28,28,3] vs. [1,4,1,1] [Op:AddV2]\n"
     ]
    }
   ],
   "source": [
    "try:\n",
    "    a = tf.random.normal([4,28,28,3])\n",
    "    print((a+tf.random.normal([1,4,1,1])).shape)\n",
    "except Exception as e:\n",
    "    print(e)"
   ]
  },
  {
   "cell_type": "code",
   "execution_count": 73,
   "id": "9aa77ffc",
   "metadata": {
    "ExecuteTime": {
     "end_time": "2021-08-04T12:17:16.162115Z",
     "start_time": "2021-08-04T12:17:16.146438Z"
    }
   },
   "outputs": [
    {
     "data": {
      "text/plain": [
       "TensorShape([4, 28, 28, 3])"
      ]
     },
     "execution_count": 73,
     "metadata": {},
     "output_type": "execute_result"
    }
   ],
   "source": [
    "b = tf.broadcast_to(tf.random.normal([4,1,1,1]),[4,28,28,3])\n",
    "b.shape"
   ]
  },
  {
   "cell_type": "code",
   "execution_count": 77,
   "id": "abc73c58",
   "metadata": {
    "ExecuteTime": {
     "end_time": "2021-08-04T12:20:52.070335Z",
     "start_time": "2021-08-04T12:20:52.051386Z"
    }
   },
   "outputs": [
    {
     "data": {
      "text/plain": [
       "TensorShape([6, 1, 4])"
      ]
     },
     "execution_count": 77,
     "metadata": {},
     "output_type": "execute_result"
    }
   ],
   "source": [
    "a = tf.ones([3,4])\n",
    "a1 = tf.broadcast_to(a,[2,3,4]) #TensorShape([2, 3, 4])\n",
    "a2 = tf.expand_dims(a,axis=1) #TensorShape([1, 3, 4])\n",
    "a2 = tf.tile(a2,[2,1,1]) #复制一维2次 二维1次 三维1次\n",
    "a2.shape"
   ]
  },
  {
   "cell_type": "markdown",
   "id": "53173695",
   "metadata": {},
   "source": [
    "# 数学运算\n",
    "+ +-*：各元素独立运算\n",
    "+ **,square\n",
    "+ sqrt,pow:tf.sqrt,tf.pow\n",
    "+ //,%(整数除法，取余数)：每个元素独立运算\n",
    "+ exp,log：tf.math.log,tf.exp\n",
    "+ @,matmul(矩阵乘法)：tf.matul(x,y)\n",
    "+ linear layer"
   ]
  },
  {
   "cell_type": "code",
   "execution_count": 85,
   "id": "27893f99",
   "metadata": {
    "ExecuteTime": {
     "end_time": "2021-08-04T12:25:49.641474Z",
     "start_time": "2021-08-04T12:25:49.633494Z"
    }
   },
   "outputs": [],
   "source": [
    "import tensorflow as tf\n",
    "x = tf.fill([2,2],2.) #注意要同类型相加减\n",
    "y = tf.ones([2,2])"
   ]
  },
  {
   "cell_type": "code",
   "execution_count": 86,
   "id": "be59eff7",
   "metadata": {
    "ExecuteTime": {
     "end_time": "2021-08-04T12:25:50.405948Z",
     "start_time": "2021-08-04T12:25:50.393979Z"
    }
   },
   "outputs": [
    {
     "data": {
      "text/plain": [
       "<tf.Tensor: shape=(2, 2), dtype=float32, numpy=\n",
       "array([[3., 3.],\n",
       "       [3., 3.]], dtype=float32)>"
      ]
     },
     "execution_count": 86,
     "metadata": {},
     "output_type": "execute_result"
    }
   ],
   "source": [
    "x+y x-y x*y x//y x%y"
   ]
  },
  {
   "cell_type": "code",
   "execution_count": 87,
   "id": "27e6d6de",
   "metadata": {
    "ExecuteTime": {
     "end_time": "2021-08-04T12:28:11.491173Z",
     "start_time": "2021-08-04T12:28:11.480201Z"
    }
   },
   "outputs": [
    {
     "data": {
      "text/plain": [
       "<tf.Tensor: shape=(2, 2), dtype=float32, numpy=\n",
       "array([[1., 1.],\n",
       "       [1., 1.]], dtype=float32)>"
      ]
     },
     "execution_count": 87,
     "metadata": {},
     "output_type": "execute_result"
    }
   ],
   "source": [
    "y"
   ]
  },
  {
   "cell_type": "code",
   "execution_count": 91,
   "id": "290753d3",
   "metadata": {
    "ExecuteTime": {
     "end_time": "2021-08-04T12:30:11.292758Z",
     "start_time": "2021-08-04T12:30:11.270816Z"
    }
   },
   "outputs": [
    {
     "data": {
      "text/plain": [
       "<tf.Tensor: shape=(2, 2), dtype=float32, numpy=\n",
       "array([[2.7182817, 2.7182817],\n",
       "       [2.7182817, 2.7182817]], dtype=float32)>"
      ]
     },
     "execution_count": 91,
     "metadata": {},
     "output_type": "execute_result"
    }
   ],
   "source": [
    "tf.math.log(y) #只有以e为底的log\n",
    "tf.exp(y)"
   ]
  },
  {
   "cell_type": "code",
   "execution_count": 92,
   "id": "cc93cb93",
   "metadata": {
    "ExecuteTime": {
     "end_time": "2021-08-04T12:33:20.876926Z",
     "start_time": "2021-08-04T12:33:20.851995Z"
    }
   },
   "outputs": [
    {
     "data": {
      "text/plain": [
       "<tf.Tensor: shape=(2, 2), dtype=float32, numpy=\n",
       "array([[4., 4.],\n",
       "       [4., 4.]], dtype=float32)>"
      ]
     },
     "execution_count": 92,
     "metadata": {},
     "output_type": "execute_result"
    }
   ],
   "source": [
    "tf.pow(x,3)\n",
    "tf.sqrt(x)\n",
    "x**2"
   ]
  },
  {
   "cell_type": "code",
   "execution_count": 93,
   "id": "67fdc8af",
   "metadata": {
    "ExecuteTime": {
     "end_time": "2021-08-04T12:37:06.023835Z",
     "start_time": "2021-08-04T12:37:05.921079Z"
    }
   },
   "outputs": [
    {
     "data": {
      "text/plain": [
       "<tf.Tensor: shape=(2, 2), dtype=float32, numpy=\n",
       "array([[4., 4.],\n",
       "       [4., 4.]], dtype=float32)>"
      ]
     },
     "execution_count": 93,
     "metadata": {},
     "output_type": "execute_result"
    }
   ],
   "source": [
    "y@x #等同于tf.matul(x,y)"
   ]
  },
  {
   "cell_type": "code",
   "execution_count": null,
   "id": "a2db9b05",
   "metadata": {},
   "outputs": [],
   "source": [
    "#Y = X@W +b\n",
    "x = tf.ones([4, 2])\n",
    "W = tf.ones([2, 1])\n",
    "b = tf.constant(0.1)  # 自动broadcast为[4,1]\n",
    "\n",
    "x@W + b\n"
   ]
  }
 ],
 "metadata": {
  "kernelspec": {
   "display_name": "Python [conda env:python38]",
   "language": "python",
   "name": "conda-env-python38-py"
  },
  "language_info": {
   "codemirror_mode": {
    "name": "ipython",
    "version": 3
   },
   "file_extension": ".py",
   "mimetype": "text/x-python",
   "name": "python",
   "nbconvert_exporter": "python",
   "pygments_lexer": "ipython3",
   "version": "3.8.8"
  },
  "toc": {
   "base_numbering": 1,
   "nav_menu": {},
   "number_sections": true,
   "sideBar": true,
   "skip_h1_title": false,
   "title_cell": "Table of Contents",
   "title_sidebar": "Contents",
   "toc_cell": false,
   "toc_position": {
    "height": "calc(100% - 180px)",
    "left": "10px",
    "top": "150px",
    "width": "256px"
   },
   "toc_section_display": true,
   "toc_window_display": true
  },
  "varInspector": {
   "cols": {
    "lenName": 16,
    "lenType": 16,
    "lenVar": 40
   },
   "kernels_config": {
    "python": {
     "delete_cmd_postfix": "",
     "delete_cmd_prefix": "del ",
     "library": "var_list.py",
     "varRefreshCmd": "print(var_dic_list())"
    },
    "r": {
     "delete_cmd_postfix": ") ",
     "delete_cmd_prefix": "rm(",
     "library": "var_list.r",
     "varRefreshCmd": "cat(var_dic_list()) "
    }
   },
   "types_to_exclude": [
    "module",
    "function",
    "builtin_function_or_method",
    "instance",
    "_Feature"
   ],
   "window_display": false
  }
 },
 "nbformat": 4,
 "nbformat_minor": 5
}
