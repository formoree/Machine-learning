{
 "cells": [
  {
   "cell_type": "markdown",
   "id": "d12e92c7",
   "metadata": {},
   "source": [
    "# 优化器"
   ]
  },
  {
   "cell_type": "code",
   "execution_count": 1,
   "id": "2fca5412",
   "metadata": {},
   "outputs": [],
   "source": [
    "import torch as t\n",
    "from torch import nn\n",
    "from torch.autograd import Variable as V\n",
    "\n",
    "# 首先定义一个 LeNet 网络\n",
    "\n",
    "\n",
    "class Net(nn.Module):\n",
    "    def __init__(self):\n",
    "        super(Net, self).__init__()\n",
    "        self.features = nn.Sequential(nn.Conv2d(3, 6, 5), \n",
    "                                      nn.ReLU(),\n",
    "                                      nn.MaxPool2d(2, 2), \n",
    "                                      nn.Conv2d(6, 16, 5),\n",
    "                                      nn.ReLU(), \n",
    "                                      nn.MaxPool2d(2, 2))\n",
    "        self.classifier = nn.Sequential(nn.Linear(16 * 5 * 5, 120), \n",
    "                                        nn.ReLU(),\n",
    "                                        nn.Linear(120, 84), \n",
    "                                        nn.ReLU(),\n",
    "                                        nn.Linear(84, 10))\n",
    "\n",
    "    def forward(self, x):\n",
    "        x = self.features(x)\n",
    "        x = x.view(-1, 16 * 5 * 5)\n",
    "        x = self.classifier(x)\n",
    "        return x\n",
    "\n",
    "\n",
    "net = Net()\n"
   ]
  },
  {
   "cell_type": "code",
   "execution_count": 2,
   "id": "e44ee1a1",
   "metadata": {},
   "outputs": [],
   "source": [
    "from torch import optim\n",
    "\n",
    "optimizer = optim.SGD(params=net.parameters(), lr=1)\n",
    "optimizer.zero_grad()  # 梯度清零，等价于 net.zero_grad()\n",
    "\n",
    "inp = V(t.randn(1, 3, 32, 32))\n",
    "output = net(inp)\n",
    "output.backward(output)\n",
    "\n",
    "optimizer.step()  # 优化参数"
   ]
  },
  {
   "cell_type": "markdown",
   "id": "17ed14a3",
   "metadata": {},
   "source": [
    "nn.Sequential\n",
    "> 一个有序的容器，神经网络模块将按照在传入构造器的顺序依次被添加到计算图中执行，同时以神经网络模块为元素的有序字典也可以作为传入参数"
   ]
  },
  {
   "cell_type": "code",
   "execution_count": null,
   "id": "57452f07",
   "metadata": {},
   "outputs": [],
   "source": [
    "# Example of using Sequential\n",
    "        model = nn.Sequential(\n",
    "                  nn.Conv2d(1,20,5),\n",
    "                  nn.ReLU(),\n",
    "                  nn.Conv2d(20,64,5),\n",
    "                  nn.ReLU()\n",
    "                )\n",
    "\n",
    "        # Example of using Sequential with OrderedDict\n",
    "        model = nn.Sequential(OrderedDict([\n",
    "                  ('conv1', nn.Conv2d(1,20,5)),\n",
    "                  ('relu1', nn.ReLU()),\n",
    "                  ('conv2', nn.Conv2d(20,64,5)),\n",
    "                  ('relu2', nn.ReLU())\n",
    "                ]))"
   ]
  },
  {
   "cell_type": "markdown",
   "id": "97c48fd4",
   "metadata": {},
   "source": [
    "## 针对不同的网络设定不同的 lr"
   ]
  },
  {
   "cell_type": "code",
   "execution_count": 3,
   "id": "303aff77",
   "metadata": {},
   "outputs": [],
   "source": [
    "# 为不同子网络设置不同的学习率，在 finetune 中经常用到\n",
    "# 如果对某个参数不指定学习率，就使用默认学习率\n",
    "ptimizer = optim.SGD(\n",
    "    [\n",
    "        {\n",
    "            'params': net.features.parameters()\n",
    "        },  # 学习率为 1e-5\n",
    "        {\n",
    "            'params': net.classifier.parameters(),\n",
    "            'lr': 1e-2\n",
    "        }\n",
    "    ],\n",
    "    lr=1e-5)"
   ]
  },
  {
   "cell_type": "markdown",
   "id": "97d19efc",
   "metadata": {},
   "source": [
    "## 针对不同的层设定不同的 lr"
   ]
  },
  {
   "cell_type": "code",
   "execution_count": null,
   "id": "144e4bf9",
   "metadata": {},
   "outputs": [],
   "source": [
    "# 只为两个全连接层设置较大的学习率，其余层的学习率较小\n",
    "special_layers = nn.ModuleList([net.classifier[0], net.classifier[3]])\n",
    "special_layers_params = list(map(id, special_layers.parameters()))  # 得到特殊层的 id\n",
    "\n",
    "# 筛选出不属于特殊层的层\n",
    "base_params = filter(lambda p: id(p) not in special_layers_params,\n",
    "                     net.parameters())\n",
    "\n",
    "# 对于特殊层和非特殊层设定不同的 lr\n",
    "optimizer = t.optim.SGD([{\n",
    "    'params': base_params\n",
    "}, {\n",
    "    'params': special_layers.parameters(),\n",
    "    'lr': 0.01\n",
    "}],\n",
    "                        lr=0.001)\n"
   ]
  },
  {
   "cell_type": "markdown",
   "id": "2ed7d029",
   "metadata": {},
   "source": [
    "## 动态修改 lr\n",
    "在跑代码的过程中，我们可能需要中途改变学习率的大小。在 torch 中提供了两种做法：\n",
    "1. 直接修改 optimizer.parm_groups 中对应的学习率（不推荐）\n",
    "2. 由于 optimizer 十分轻量级，开销很小，因此可以新建优化器（推荐）\n",
    "\n",
    "如果使用第二种方法新建一个优化器，在这个过程中新建的优化器会初始化动量等状态信息，这对使用动量的优化器来说（如自带 momentum 的 sgd），可能会造成损失函数在收敛过程中震荡。"
   ]
  },
  {
   "cell_type": "code",
   "execution_count": 4,
   "id": "44eb8ad0",
   "metadata": {},
   "outputs": [],
   "source": [
    "# 调整学习率，新建一个 optimizer\n",
    "old_lr = 0.1\n",
    "\n",
    "optimizer = optim.SGD([{\n",
    "    'params': net.features.parameters()\n",
    "}, {\n",
    "    'params': net.classifier.parameters(),\n",
    "    'lr': old_lr * 0.1\n",
    "}],\n",
    "                      lr=1e-5)\n"
   ]
  },
  {
   "cell_type": "markdown",
   "id": "41a3db1d",
   "metadata": {},
   "source": [
    "# nn.functional\n",
    "**如果有可学习的参数时，最好用 Module，反之既可以用 functional，当然也可以用 Module，因为二者在性能上并没有很大的差别。**"
   ]
  },
  {
   "attachments": {
    "image.png": {
     "image/png": "[encoded data removed]"
    }
   },
   "cell_type": "markdown",
   "id": "9c992999",
   "metadata": {},
   "source": [
    "![image.png](attachment:image.png)"
   ]
  },
  {
   "cell_type": "code",
   "execution_count": 6,
   "id": "41a814e3",
   "metadata": {},
   "outputs": [
    {
     "data": {
      "text/plain": [
       "tensor([[True, True, True, True],\n",
       "        [True, True, True, True]])"
      ]
     },
     "execution_count": 6,
     "metadata": {},
     "output_type": "execute_result"
    }
   ],
   "source": [
    "import torch as t\n",
    "from torch import nn\n",
    "from torch.autograd import Variable as V\n",
    "inp = V(t.randn(2, 3))\n",
    "model = nn.Linear(3, 4)\n",
    "output1 = model(inp)\n",
    "output2 = nn.functional.linear(inp, model.weight, model.bias)\n",
    "output1 == output2\n"
   ]
  },
  {
   "cell_type": "code",
   "execution_count": 7,
   "id": "99677f4d",
   "metadata": {},
   "outputs": [
    {
     "data": {
      "text/plain": [
       "tensor([[True, True, True],\n",
       "        [True, True, True]])"
      ]
     },
     "execution_count": 7,
     "metadata": {},
     "output_type": "execute_result"
    }
   ],
   "source": [
    "b = nn.functional.relu(inp)\n",
    "b2 = nn.ReLU()(inp)\n",
    "b == b2\n"
   ]
  },
  {
   "cell_type": "markdown",
   "id": "2da5d12b",
   "metadata": {},
   "source": [
    "## nn.functional 和 nn.Module 结合使用"
   ]
  },
  {
   "cell_type": "code",
   "execution_count": null,
   "id": "dc41fb3c",
   "metadata": {},
   "outputs": [],
   "source": [
    "from torch.nn import functional as F\n",
    "\n",
    "\n",
    "class Net(nn.Module):\n",
    "    def __init__(self):\n",
    "        super(Net, self).__init__()\n",
    "        self.conv1 = nn.Conv2d(3, 6, 5)\n",
    "        self.conv2 = nn.Conv2d(6, 16, 5)\n",
    "        self.fc1 = nn.Linear(16 * 5 * 5, 120)\n",
    "        self.fc2 = nn.Linear(120, 84)\n",
    "        self.fc3 = nn.Linear(84, 10)\n",
    "\n",
    "    def forward(self, x):\n",
    "        x = F.pool(F.relu(self.conv1(x)), 2)\n",
    "        x = F.pool(F.relu(self.conv2(x)), 2)\n",
    "        x = x.view(-1, 16 * 5 * 5)\n",
    "        x = F.relu(self.fc1(x))\n",
    "        x = F.relu(self.fc2(x))\n",
    "        x = self.fc3(x)\n",
    "\n",
    "        return x"
   ]
  },
  {
   "cell_type": "markdown",
   "id": "be1cdf89",
   "metadata": {},
   "source": [
    "**较于Module而言，Functional更加麻烦，需要自己手动定义参数**"
   ]
  },
  {
   "cell_type": "code",
   "execution_count": 8,
   "id": "1c7f8dc7",
   "metadata": {},
   "outputs": [],
   "source": [
    "#从代码的对比中可以看出，如果通过 functional 去构造一个具有可学习参数的层，\n",
    "# 是非常麻烦的，不如 Module 那样简便\n",
    "class MyLinear(nn.Module):\n",
    "    def __init__(self):\n",
    "        super(MyLinear, sefl).__init__()\n",
    "        self.weight = nn.Parameter(t.randn(3, 4))\n",
    "        self.bias = nn.Parameter(t.zeros(3))\n",
    "\n",
    "    def forward(self):\n",
    "        return F.linear(input, weight, bias)"
   ]
  },
  {
   "cell_type": "markdown",
   "id": "91764815",
   "metadata": {},
   "source": [
    "# 参数初始化策略"
   ]
  },
  {
   "cell_type": "markdown",
   "id": "35d2bf3a",
   "metadata": {},
   "source": [
    "## 利用 nn.init 初始化"
   ]
  },
  {
   "cell_type": "code",
   "execution_count": null,
   "id": "6846599c",
   "metadata": {},
   "outputs": [],
   "source": [
    "import torch as t\n",
    "from torch import nn\n",
    "from torch.nn import init\n",
    "linear = nn.Linear(3, 4)\n",
    "\n",
    "t.manual_seed(1)\n",
    "# 等价于 linear.weight.data.normal_(0, std)\n",
    "init.xavier_normal_(linear.weight)  #"
   ]
  },
  {
   "cell_type": "markdown",
   "id": "c0f33181",
   "metadata": {},
   "source": [
    "## 直接初始化"
   ]
  },
  {
   "cell_type": "code",
   "execution_count": null,
   "id": "c13b0c0f",
   "metadata": {},
   "outputs": [],
   "source": [
    "import math\n",
    "t.manual_seed(1)\n",
    "\n",
    "# xavier初始化的计算公式\n",
    "std = math.sqrt(2) / math.sqrt(7.)\n",
    "linear.weight.data.normal_(0, std)\n",
    "\n",
    "# 对模型的所有参数进行初始化\n",
    "for name, params in net.named_parameters():\n",
    "    if name.find('linear') != -1:  # 对所有全连接层的参数进行初始化\n",
    "        # init linear\n",
    "        params[0]  # weight\n",
    "        params[1]  # bias\n",
    "    elif name.find('conv') != -1:\n",
    "        pass\n",
    "    elif name.find('norm') != -1:\n",
    "        pass\n"
   ]
  },
  {
   "cell_type": "code",
   "execution_count": null,
   "id": "c2d87944",
   "metadata": {},
   "outputs": [],
   "source": []
  }
 ],
 "metadata": {
  "kernelspec": {
   "display_name": "Python [conda env:python38]",
   "language": "python",
   "name": "conda-env-python38-py"
  },
  "language_info": {
   "codemirror_mode": {
    "name": "ipython",
    "version": 3
   },
   "file_extension": ".py",
   "mimetype": "text/x-python",
   "name": "python",
   "nbconvert_exporter": "python",
   "pygments_lexer": "ipython3",
   "version": "3.8.8"
  },
  "toc": {
   "base_numbering": 1,
   "nav_menu": {},
   "number_sections": true,
   "sideBar": true,
   "skip_h1_title": false,
   "title_cell": "Table of Contents",
   "title_sidebar": "Contents",
   "toc_cell": false,
   "toc_position": {},
   "toc_section_display": true,
   "toc_window_display": false
  }
 },
 "nbformat": 4,
 "nbformat_minor": 5
}
