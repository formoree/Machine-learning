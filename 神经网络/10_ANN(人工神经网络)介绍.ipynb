{
 "cells": [
  {
   "cell_type": "markdown",
   "metadata": {},
   "source": [
    "# 数据加载\n",
    "+ tf.data.Dataset.from_tensor_slices: 该函数是dataset核心函数之一，它的作用是把给定的元组、列表和张量等数据进行特征切片\n",
    "+ tf.random.shuffle(a):打乱顺序"
   ]
  },
  {
   "cell_type": "code",
   "execution_count": 1,
   "metadata": {},
   "outputs": [],
   "source": [
    "import tensorflow as tf\n",
    "from tensorflow import keras"
   ]
  },
  {
   "cell_type": "code",
   "execution_count": 4,
   "metadata": {},
   "outputs": [
    {
     "data": {
      "text/plain": [
       "(60000, 28, 28)"
      ]
     },
     "execution_count": 4,
     "metadata": {},
     "output_type": "execute_result"
    }
   ],
   "source": [
    "#mnist数据处理\n",
    "#train:60k//test:10k\n",
    "(x,y),(x_test,y_test) = keras.datasets.mnist.load_data()\n",
    "#因为标签有0-9种情况 进行one_hot编码\n",
    "y_onehot = tf.one_hot(y,depth=10)\n",
    "x.shape"
   ]
  },
  {
   "cell_type": "code",
   "execution_count": null,
   "metadata": {},
   "outputs": [
    {
     "name": "stdout",
     "output_type": "stream",
     "text": [
      "Downloading data from https://www.cs.toronto.edu/~kriz/cifar-10-python.tar.gz\n",
      "  2121728/170498071 [..............................] - ETA: 37:20"
     ]
    }
   ],
   "source": [
    "# #cifar10数据获取\n",
    "# #train 50k//test 10k\n",
    "# (x,y),(x_test,y_test) = keras.datasets.cifar10.load_data()"
   ]
  },
  {
   "cell_type": "markdown",
   "metadata": {},
   "source": [
    "## from_tensor_slices() "
   ]
  },
  {
   "cell_type": "code",
   "execution_count": 9,
   "metadata": {},
   "outputs": [
    {
     "data": {
      "text/plain": [
       "TensorShape([28, 28])"
      ]
     },
     "execution_count": 9,
     "metadata": {},
     "output_type": "execute_result"
    }
   ],
   "source": [
    "db = tf.data.Dataset.from_tensor_slices(x_test)\n",
    "# next(iter(db)).shape #[28,28]\n",
    "db = tf.data.Dataset.from_tensor_slices((x_test,y_test))\n",
    "next(iter(db))[0].shape"
   ]
  },
  {
   "cell_type": "markdown",
   "metadata": {},
   "source": [
    "## shuffle"
   ]
  },
  {
   "cell_type": "code",
   "execution_count": 11,
   "metadata": {},
   "outputs": [],
   "source": [
    "# db = tf.data.Dataset.from_tensor_slices((x_test,y_test))\n",
    "db = tf.random.shuffle(10000) #db = db.shuffle(10000)"
   ]
  },
  {
   "cell_type": "markdown",
   "metadata": {},
   "source": [
    "## map:数据预处理 "
   ]
  },
  {
   "cell_type": "code",
   "execution_count": null,
   "metadata": {},
   "outputs": [],
   "source": [
    "def preprocessing(x,y):\n",
    "    x = tf.cast(x,dtype=tf.float32)/255\n",
    "    y = tf.cast(y,dtype=int32)\n",
    "    y = tf.one_hot(y,depth=10)\n",
    "    \n",
    "    return x,y"
   ]
  }
 ],
 "metadata": {
  "kernelspec": {
   "display_name": "Python [conda env:Learn]",
   "language": "python",
   "name": "conda-env-Learn-py"
  },
  "language_info": {
   "codemirror_mode": {
    "name": "ipython",
    "version": 3
   },
   "file_extension": ".py",
   "mimetype": "text/x-python",
   "name": "python",
   "nbconvert_exporter": "python",
   "pygments_lexer": "ipython3",
   "version": "3.7.11"
  },
  "toc": {
   "base_numbering": 1,
   "nav_menu": {},
   "number_sections": true,
   "sideBar": true,
   "skip_h1_title": false,
   "title_cell": "Table of Contents",
   "title_sidebar": "Contents",
   "toc_cell": false,
   "toc_position": {},
   "toc_section_display": true,
   "toc_window_display": false
  }
 },
 "nbformat": 4,
 "nbformat_minor": 2
}
