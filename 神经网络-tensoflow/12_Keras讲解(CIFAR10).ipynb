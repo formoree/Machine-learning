{
 "cells": [
  {
   "cell_type": "markdown",
   "metadata": {},
   "source": [
    "## 自定义层 或者 网络 \n",
    "+ net = Sequential()\n",
    "    + net.build(input_shape=)\n",
    "    + net.summary()"
   ]
  },
  {
   "cell_type": "code",
   "execution_count": null,
   "metadata": {},
   "outputs": [],
   "source": [
    "#继承前代码  改变权重和偏执 自定义Dense\n",
    "class MyDense(layers.Layer):\n",
    "    def __init__(self, inp_dim, outp_dim):\n",
    "        super(MyDense, self).__init__()\n",
    "\n",
    "        self.kernel = self.add_variable('w', [imp_dim, outp_dim])\n",
    "        self.bias = self.add_variable('b', [outp_dim])\n",
    "\n",
    "    def call(self, inputs, training=None):\n",
    "        out = input @ self.kernel + self.bias\n",
    "\n",
    "        return out\n",
    "\n",
    "class MyModel(keras.Model):\n",
    "    def __init__(self):\n",
    "        super(MyModel, self).__init__()\n",
    "        self.fc1 = MyDense(28 * 28, 256)\n",
    "        self.fc2 = MyDense(256, 128)\n",
    "        self.fc3 = MyDense(128, 64)\n",
    "        self.fc4 = MyDense(64, 32)\n",
    "        self.fc5 = MyDense(32, 10)\n",
    "\n",
    "    def call(self, iputs, training=None):\n",
    "        x = self.fc1(inputs)\n",
    "        x = tf.nn.relu(x)\n",
    "        x = self.fc2(x)\n",
    "        x = tf.nn.relu(x)\n",
    "        x = self.fc3(x)\n",
    "        x = tf.nn.relu(x)\n",
    "        x = self.fc4(x)\n",
    "        x = tf.nn.relu(x)\n",
    "        x = self.fc5(x)\n",
    "\n",
    "        return x\n"
   ]
  },
  {
   "cell_type": "markdown",
   "metadata": {},
   "source": [
    "## 模型加载与保存\n",
    "+ model.save_weights()/model.load_weights()\n",
    "+ save/load entire model #记录所有信息\n",
    "+ saved_model #通用，包括Pytorch、其他语言\n",
    "+ network.compile()\n",
    "+ network.fit()\n",
    "+ network.evaluate()"
   ]
  },
  {
   "cell_type": "code",
   "execution_count": null,
   "metadata": {},
   "outputs": [],
   "source": [
    "# Save the weights\n",
    "model.save_weights('./checkpoints/my_checkpoint')\n",
    "\n",
    "# Restore the weights\n",
    "model = create_model()\n",
    "model.load_weights('./checkpoints/my_checkpoint')\n",
    "\n",
    "loss, acc = model.evaluate(test_images, test_labels)\n",
    "print(f'Restored model, accuracy: {100*acc:5.2f}')"
   ]
  },
  {
   "cell_type": "code",
   "execution_count": null,
   "metadata": {},
   "outputs": [],
   "source": [
    "tf.saved_model.save(m, '/tmp/saved_model/')\n",
    "\n",
    "imported = tf.saved_model.load(path)\n",
    "f = imported.signatures['serving_default']\n",
    "print(f(x=tf.ones([1, 28, 28, 3])))"
   ]
  },
  {
   "cell_type": "markdown",
   "metadata": {},
   "source": [
    "## CIFAR10实战"
   ]
  },
  {
   "cell_type": "code",
   "execution_count": 5,
   "metadata": {},
   "outputs": [
    {
     "name": "stdout",
     "output_type": "stream",
     "text": [
      "datasets: (50000, 32, 32, 3) (50000, 10) (10000, 32, 32, 3) (10000, 10) 0 255\n",
      "Epoch 1/5\n",
      "391/391 [==============================] - 11s 29ms/step - loss: 1.7288 - accuracy: 0.3887 - val_loss: 0.0000e+00 - val_accuracy: 0.0000e+00\n",
      "Epoch 2/5\n",
      "391/391 [==============================] - 10s 24ms/step - loss: 1.5077 - accuracy: 0.4681 - val_loss: 1.4906 - val_accuracy: 0.4724\n",
      "Epoch 3/5\n",
      "391/391 [==============================] - 10s 26ms/step - loss: 1.4056 - accuracy: 0.5032 - val_loss: 1.4596 - val_accuracy: 0.4891\n",
      "Epoch 4/5\n",
      "391/391 [==============================] - 10s 25ms/step - loss: 1.3279 - accuracy: 0.5319 - val_loss: 1.4331 - val_accuracy: 0.5024\n",
      "Epoch 5/5\n",
      "391/391 [==============================] - 10s 26ms/step - loss: 1.2596 - accuracy: 0.5578 - val_loss: 1.4071 - val_accuracy: 0.5068\n",
      "79/79 [==============================] - 1s 15ms/step - loss: 1.4071 - accuracy: 0.5068\n"
     ]
    },
    {
     "data": {
      "text/plain": [
       "[1.4071481484401076, 0.5068]"
      ]
     },
     "execution_count": 5,
     "metadata": {},
     "output_type": "execute_result"
    }
   ],
   "source": [
    "import os\n",
    "import tensorflow as tf\n",
    "from tensorflow.keras import datasets, layers, optimizers, Sequential, metrics\n",
    "from tensorflow import keras\n",
    "\n",
    "os.environ['TF_CPP_MIN_LOG_LEVEL'] = '2'\n",
    "\n",
    "\n",
    "def preprocess(x, y):\n",
    "    # [0, 255] --> [-1,1]\n",
    "    x = 2 * tf.cast(x, dtype=tf.float32) / 255. - 1\n",
    "    y = tf.cast(y, dtype=tf.int32)\n",
    "\n",
    "    return x, y\n",
    "\n",
    "\n",
    "batch_size = 128\n",
    "# x --> [32,32,3], y --> [10k, 1]\n",
    "(x, y), (x_val, y_val) = datasets.cifar10.load_data()\n",
    "y = tf.squeeze(y)  # [10k, 1] --> [10k]\n",
    "y_val = tf.squeeze(y_val)\n",
    "y = tf.one_hot(y, depth=10)  # [50k, 10]\n",
    "y_val = tf.one_hot(y_val, depth=10)  # [10k, 10]\n",
    "print('datasets:', x.shape, y.shape, x_val.shape, y_val.shape, x.min(),\n",
    "      x.max())\n",
    "\n",
    "train_db = tf.data.Dataset.from_tensor_slices((x, y))\n",
    "train_db = train_db.map(preprocess).shuffle(10000).batch(batch_size)\n",
    "test_db = tf.data.Dataset.from_tensor_slices((x_val, y_val))\n",
    "test_db = test_db.map(preprocess).batch(batch_size)\n",
    "\n",
    "# sample = next(iter(train_db))\n",
    "# print('batch:', sample[0].shape, sample[1].shape)\n",
    "\n",
    "\n",
    "class MyDense(layers.Layer):\n",
    "    # to replace standard layers.Dense()\n",
    "    def __init__(self, inp_dim, outp_dim):\n",
    "        super(MyDense, self).__init__()\n",
    "\n",
    "        self.kernel = self.add_variable('w', [inp_dim, outp_dim])\n",
    "\n",
    "\n",
    "#         self.bias = self.add_variable('b', [outp_dim])\n",
    "\n",
    "    def call(self, inputs, training=None):\n",
    "        x = inputs @ self.kernel\n",
    "        return x\n",
    "\n",
    "\n",
    "class MyNetwork(keras.Model):\n",
    "    def __init__(self):\n",
    "        super(MyNetwork, self).__init__()\n",
    "        self.fc1 = MyDense(32 * 32 * 3, 256)\n",
    "        self.fc2 = MyDense(256, 128)\n",
    "        self.fc3 = MyDense(128, 64)\n",
    "        self.fc4 = MyDense(64, 32)\n",
    "        self.fc5 = MyDense(32, 10)\n",
    "\n",
    "    def call(self, inputs, training=None):\n",
    "        \"\"\"inputs: [b,32,32,32,3]\"\"\"\n",
    "        x = tf.reshape(inputs, [-1, 32 * 32 * 3])\n",
    "        # [b,32*32*32] --> [b, 256]\n",
    "        x = self.fc1(x)\n",
    "        x = tf.nn.relu(x)\n",
    "        # [b, 256] --> [b,128]\n",
    "        x = self.fc2(x)\n",
    "        x = tf.nn.relu(x)\n",
    "        # [b, 128] --> [b,64]\n",
    "        x = self.fc3(x)\n",
    "        x = tf.nn.relu(x)\n",
    "        # [b, 64] --> [b,32]\n",
    "        x = self.fc4(x)\n",
    "        x = tf.nn.relu(x)\n",
    "        # [b, 32] --> [b,10]\n",
    "        x = self.fc5(x)\n",
    "\n",
    "        return x\n",
    "\n",
    "\n",
    "network = MyNetwork()\n",
    "network.compile(optimizer=optimizers.Adam(lr=1e-3),\n",
    "                loss=tf.losses.CategoricalCrossentropy(from_logits=True),\n",
    "                metrics=['accuracy'])\n",
    "network.fit(train_db, epochs=5 , validation_data=test_db, validation_freq=1)\n",
    "\n",
    "network.evaluate(test_db)\n",
    "# network.save_weights('weights.ckpt')\n",
    "# del network\n",
    "# print('saved to ckpt/weights.ckpt')\n",
    "\n",
    "# network = MyNetwork()\n",
    "# network.compile(optimizer=optimizers.Adam(lr=1e-3),\n",
    "#                 loss=tf.losses.CategoricalCrossentropy(from_logits=True),\n",
    "#                 metircs=['accuracy'])\n",
    "# network.fit(train_db, epochs=5, validation_data=test_db, validation_freq=1)\n",
    "# network.load_weights('weights.ckpt')\n",
    "# print('loaded weights from file.')\n",
    "\n",
    "# network.evaluate(test_db)\n"
   ]
  }
 ],
 "metadata": {
  "kernelspec": {
   "display_name": "Python [conda env:Learn]",
   "language": "python",
   "name": "conda-env-Learn-py"
  },
  "language_info": {
   "codemirror_mode": {
    "name": "ipython",
    "version": 3
   },
   "file_extension": ".py",
   "mimetype": "text/x-python",
   "name": "python",
   "nbconvert_exporter": "python",
   "pygments_lexer": "ipython3",
   "version": "3.7.11"
  },
  "toc": {
   "base_numbering": 1,
   "nav_menu": {},
   "number_sections": true,
   "sideBar": true,
   "skip_h1_title": false,
   "title_cell": "Table of Contents",
   "title_sidebar": "Contents",
   "toc_cell": false,
   "toc_position": {},
   "toc_section_display": true,
   "toc_window_display": true
  }
 },
 "nbformat": 4,
 "nbformat_minor": 2
}
