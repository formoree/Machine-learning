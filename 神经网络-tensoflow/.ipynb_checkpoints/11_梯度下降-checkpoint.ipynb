{
 "cells": [
  {
   "cell_type": "code",
   "execution_count": 2,
   "metadata": {},
   "outputs": [],
   "source": [
    "import tensorflow as tf"
   ]
  },
  {
   "cell_type": "markdown",
   "metadata": {},
   "source": [
    "# 简单介绍 "
   ]
  },
  {
   "cell_type": "code",
   "execution_count": 70,
   "metadata": {},
   "outputs": [],
   "source": [
    "x = tf.constant([1.])\n",
    "w = tf.constant([2.])\n",
    "# #括号中选择永久保存\n",
    "with tf.GradientTape(persistent=True) as tape:\n",
    "    #注意 [w] 中的w必须放在tape.watch()中.因为这个w不是tf.Variable型\n",
    "    tape.watch([w])\n",
    "    y1 = x + w\n",
    "grad = tape.gradient(y1,[w])\n",
    "  "
   ]
  },
  {
   "cell_type": "code",
   "execution_count": 71,
   "metadata": {
    "code_folding": []
   },
   "outputs": [
    {
     "name": "stdout",
     "output_type": "stream",
     "text": [
      "'NoneType' object has no attribute 'dtype'\n"
     ]
    }
   ],
   "source": [
    "    # 2nd-gradient\n",
    "    b = tf.constant([3.])\n",
    "    \n",
    "try:\n",
    "        with tf.GradientTape() as t1:\n",
    "            with tf.GradientTape() as t2:\n",
    "                y = x + w + b\n",
    "            y_x = t2.gradient(y,[b])\n",
    "        y_x2 = t1.gradient(y_x,[b])\n",
    "        y_x2\n",
    "        # y_w2 = t1.gradient(y_w,w)\n",
    "except Exception as e :\n",
    "        print(e)\n"
   ]
  },
  {
   "cell_type": "markdown",
   "metadata": {},
   "source": [
    "# 激活函数及其梯度\n",
    "+ tf.sigmoid():x较大会出现偏导为0的情况(梯度消失)\n",
    "+ tf.tanh()\n",
    "+ tf.nn.relu() 减少梯度爆炸或者梯度下降的操作\n",
    "   + tf.nn.relu6()"
   ]
  },
  {
   "cell_type": "markdown",
   "metadata": {},
   "source": [
    "# 损失函数及其梯度\n",
    "+ tf.reduce_mean(tf.losses.MSE(y,out)) \n",
    "+ tf.losses.categorical_crossentropy(y,out):softmax"
   ]
  },
  {
   "cell_type": "markdown",
   "metadata": {},
   "source": [
    "# 单输出感知机及其梯度 \n",
    "+ MSE中的参数y_pred必须是tf.float32型"
   ]
  },
  {
   "cell_type": "code",
   "execution_count": 15,
   "metadata": {},
   "outputs": [
    {
     "data": {
      "text/plain": [
       "<tf.Tensor: id=244, shape=(3, 1), dtype=float32, numpy=\n",
       "array([[-0.01808497],\n",
       "       [ 0.01421455],\n",
       "       [-0.0117125 ]], dtype=float32)>"
      ]
     },
     "execution_count": 15,
     "metadata": {},
     "output_type": "execute_result"
    }
   ],
   "source": [
    "x = tf.random.normal([1,3])\n",
    "b = tf.ones([1])\n",
    "w = tf.ones([3,1])\n",
    "y = tf.constant([1])\n",
    "\n",
    "with tf.GradientTape() as tape:\n",
    "    tape.watch([w,b])\n",
    "    prob = tf.sigmoid(x @ w + b)    \n",
    "    loss = tf.reduce_mean(tf.losses.MSE(prob,y))\n",
    " \n",
    "grads = tape.gradient(loss,[w,b])\n",
    "grads[0]"
   ]
  },
  {
   "cell_type": "markdown",
   "metadata": {},
   "source": [
    "# 多输出感知机及其梯度"
   ]
  },
  {
   "cell_type": "code",
   "execution_count": 16,
   "metadata": {},
   "outputs": [
    {
     "data": {
      "text/plain": [
       "<tf.Tensor: id=304, shape=(4, 3), dtype=float32, numpy=\n",
       "array([[ 0.08003316, -0.04320253, -0.03683063],\n",
       "       [ 0.11648539, -0.02440556, -0.09207983],\n",
       "       [ 0.1069216 , -0.11589715,  0.00897555],\n",
       "       [ 0.11371143,  0.04293453, -0.15664595]], dtype=float32)>"
      ]
     },
     "execution_count": 16,
     "metadata": {},
     "output_type": "execute_result"
    }
   ],
   "source": [
    "x = tf.random.normal([2,4])\n",
    "b = tf.ones([3])\n",
    "w = tf.ones([4,3])\n",
    "y = tf.constant([2,0])\n",
    "\n",
    "with tf.GradientTape() as tape:\n",
    "    tape.watch([w,b])\n",
    "    #axis=1 表示结果[b,3]中的3这个维度为概率\n",
    "    prob = tf.nn.softmax(x @ w + b,axis=1)    \n",
    "    loss = tf.reduce_mean(tf.losses.MSE(tf.one_hot(y,depth=3),prob))\n",
    " \n",
    "grads = tape.gradient(loss,[w,b])\n",
    "grads[0]"
   ]
  },
  {
   "cell_type": "markdown",
   "metadata": {},
   "source": [
    "# 手写数字识别实战\n",
    "见py文件"
   ]
  },
  {
   "cell_type": "code",
   "execution_count": null,
   "metadata": {},
   "outputs": [],
   "source": []
  },
  {
   "cell_type": "code",
   "execution_count": null,
   "metadata": {},
   "outputs": [],
   "source": []
  }
 ],
 "metadata": {
  "kernelspec": {
   "display_name": "Python [conda env:Learn]",
   "language": "python",
   "name": "conda-env-Learn-py"
  },
  "language_info": {
   "codemirror_mode": {
    "name": "ipython",
    "version": 3
   },
   "file_extension": ".py",
   "mimetype": "text/x-python",
   "name": "python",
   "nbconvert_exporter": "python",
   "pygments_lexer": "ipython3",
   "version": "3.7.11"
  },
  "toc": {
   "base_numbering": 1,
   "nav_menu": {},
   "number_sections": true,
   "sideBar": true,
   "skip_h1_title": false,
   "title_cell": "Table of Contents",
   "title_sidebar": "Contents",
   "toc_cell": false,
   "toc_position": {},
   "toc_section_display": true,
   "toc_window_display": true
  }
 },
 "nbformat": 4,
 "nbformat_minor": 2
}
